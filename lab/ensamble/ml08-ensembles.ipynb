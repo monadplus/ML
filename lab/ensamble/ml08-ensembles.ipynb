{
 "cells": [
  {
   "cell_type": "markdown",
   "metadata": {},
   "source": [
    "# ML lab 08  \n",
    "# Random Forest and Ensambles             "
   ]
  },
  {
   "cell_type": "code",
   "execution_count": 1,
   "metadata": {
    "ExecuteTime": {
     "end_time": "2020-07-15T10:16:51.958141Z",
     "start_time": "2020-07-15T10:16:51.950124Z"
    }
   },
   "outputs": [],
   "source": [
    "# Uncomment to upgrade packages\n",
    "# !pip install pandas --upgrade --user --quiet\n",
    "# !pip install numpy --upgrade --user --quiet\n",
    "# !pip install scipy --upgrade --user --quiet\n",
    "# !pip install statsmodels --upgrade --user --quiet\n",
    "# !pip install scikit-learn --upgrade --user --quiet\n",
    "# !pip install seaborn --upgrade --user --quiet\n",
    "# !pip install imblearn --upgrade  --user\n",
    "%load_ext autoreload"
   ]
  },
  {
   "cell_type": "code",
   "execution_count": 2,
   "metadata": {
    "ExecuteTime": {
     "end_time": "2020-07-15T10:16:52.869323Z",
     "start_time": "2020-07-15T10:16:51.959469Z"
    }
   },
   "outputs": [],
   "source": [
    "import numpy as np\n",
    "import matplotlib.pyplot as plt\n",
    "import seaborn as sn\n",
    "import pandas as pd\n",
    "from IPython.core.interactiveshell import InteractiveShell\n",
    "pd.set_option('precision', 3)\n",
    "InteractiveShell.ast_node_interactivity = \"all\""
   ]
  },
  {
   "cell_type": "code",
   "execution_count": 3,
   "metadata": {
    "ExecuteTime": {
     "end_time": "2020-07-15T10:16:53.209352Z",
     "start_time": "2020-07-15T10:16:52.871159Z"
    }
   },
   "outputs": [],
   "source": [
    "# Extra imports\n",
    "from pandas import read_csv\n",
    "from sklearn.model_selection import train_test_split\n",
    "from sklearn.tree import DecisionTreeClassifier\n",
    "import graphviz\n",
    "from sklearn.tree import export_graphviz\n",
    "from sklearn.metrics import confusion_matrix,\\\n",
    "        accuracy_score, classification_report, f1_score\n",
    "from sklearn.ensemble import RandomForestClassifier,VotingClassifier,GradientBoostingClassifier,StackingClassifier,ExtraTreesClassifier\n",
    "from imblearn.under_sampling import RandomUnderSampler\n",
    "from sklearn.model_selection import GridSearchCV, KFold\n",
    "from sklearn.naive_bayes import GaussianNB\n",
    "\n",
    "from time import time\n",
    "from datetime import timedelta\n",
    "\n",
    "import seaborn as sns\n",
    "from matplotlib import pyplot as plt\n",
    "\n",
    "sns.set()"
   ]
  },
  {
   "cell_type": "code",
   "execution_count": 4,
   "metadata": {},
   "outputs": [],
   "source": [
    "import warnings\n",
    "warnings.filterwarnings('ignore')"
   ]
  },
  {
   "cell_type": "code",
   "execution_count": 5,
   "metadata": {
    "ExecuteTime": {
     "end_time": "2020-07-15T10:16:53.216829Z",
     "start_time": "2020-07-15T10:16:53.211015Z"
    }
   },
   "outputs": [],
   "source": [
    "def confusion(true, pred):\n",
    "    \"\"\"\n",
    "    Function for pretty printing confusion matrices\n",
    "    \"\"\"\n",
    "    pred = pd.Series(pred)\n",
    "    true = pd.Series(true)\n",
    "    \n",
    "    true.name = 'target'\n",
    "    pred.name = 'predicted'\n",
    "    cm = pd.crosstab(true.reset_index(drop=True), pred.reset_index(drop=True))\n",
    "    cm = cm[cm.index]\n",
    "    return cm"
   ]
  },
  {
   "cell_type": "code",
   "execution_count": 6,
   "metadata": {
    "ExecuteTime": {
     "end_time": "2020-07-15T10:16:53.352117Z",
     "start_time": "2020-07-15T10:16:53.218578Z"
    }
   },
   "outputs": [],
   "source": [
    "np.random.seed(6046)"
   ]
  },
  {
   "cell_type": "markdown",
   "metadata": {},
   "source": [
    "## SECTION 1: Financial Example"
   ]
  },
  {
   "cell_type": "markdown",
   "metadata": {},
   "source": [
    "We are going to work with a dataset of direct marketing campaigns (phone calls) of a Portuguese banking institution. \n",
    "\n",
    "The classification goal is to predict wheather the client will subscribe a term deposit."
   ]
  },
  {
   "cell_type": "code",
   "execution_count": 7,
   "metadata": {
    "ExecuteTime": {
     "end_time": "2020-07-15T10:16:53.589008Z",
     "start_time": "2020-07-15T10:16:53.353294Z"
    }
   },
   "outputs": [
    {
     "data": {
      "text/plain": [
       "(45211, 17)"
      ]
     },
     "execution_count": 7,
     "metadata": {},
     "output_type": "execute_result"
    }
   ],
   "source": [
    "deposit = read_csv(\"bank-full.csv.gz\", header=0, delimiter=';')\n",
    "\n",
    "categorical_columns = [\n",
    "    'job', 'marital', 'education', 'default', 'housing', 'loan', 'contact',\n",
    "    'month', 'poutcome'\n",
    "]\n",
    "deposit[categorical_columns] = deposit[categorical_columns].astype('category')\n",
    "\n",
    "deposit.shape"
   ]
  },
  {
   "cell_type": "code",
   "execution_count": 8,
   "metadata": {
    "ExecuteTime": {
     "end_time": "2020-07-15T10:16:53.689705Z",
     "start_time": "2020-07-15T10:16:53.590846Z"
    }
   },
   "outputs": [
    {
     "data": {
      "text/html": [
       "<div>\n",
       "<style scoped>\n",
       "    .dataframe tbody tr th:only-of-type {\n",
       "        vertical-align: middle;\n",
       "    }\n",
       "\n",
       "    .dataframe tbody tr th {\n",
       "        vertical-align: top;\n",
       "    }\n",
       "\n",
       "    .dataframe thead th {\n",
       "        text-align: right;\n",
       "    }\n",
       "</style>\n",
       "<table border=\"1\" class=\"dataframe\">\n",
       "  <thead>\n",
       "    <tr style=\"text-align: right;\">\n",
       "      <th></th>\n",
       "      <th>age</th>\n",
       "      <th>job</th>\n",
       "      <th>marital</th>\n",
       "      <th>education</th>\n",
       "      <th>default</th>\n",
       "      <th>balance</th>\n",
       "      <th>housing</th>\n",
       "      <th>loan</th>\n",
       "      <th>contact</th>\n",
       "      <th>day</th>\n",
       "      <th>month</th>\n",
       "      <th>duration</th>\n",
       "      <th>campaign</th>\n",
       "      <th>pdays</th>\n",
       "      <th>previous</th>\n",
       "      <th>poutcome</th>\n",
       "      <th>y</th>\n",
       "    </tr>\n",
       "  </thead>\n",
       "  <tbody>\n",
       "    <tr>\n",
       "      <th>count</th>\n",
       "      <td>45211.000</td>\n",
       "      <td>45211</td>\n",
       "      <td>45211</td>\n",
       "      <td>45211</td>\n",
       "      <td>45211</td>\n",
       "      <td>45211.000</td>\n",
       "      <td>45211</td>\n",
       "      <td>45211</td>\n",
       "      <td>45211</td>\n",
       "      <td>45211.000</td>\n",
       "      <td>45211</td>\n",
       "      <td>45211.000</td>\n",
       "      <td>45211.000</td>\n",
       "      <td>45211.000</td>\n",
       "      <td>45211.000</td>\n",
       "      <td>45211</td>\n",
       "      <td>45211</td>\n",
       "    </tr>\n",
       "    <tr>\n",
       "      <th>unique</th>\n",
       "      <td>NaN</td>\n",
       "      <td>12</td>\n",
       "      <td>3</td>\n",
       "      <td>4</td>\n",
       "      <td>2</td>\n",
       "      <td>NaN</td>\n",
       "      <td>2</td>\n",
       "      <td>2</td>\n",
       "      <td>3</td>\n",
       "      <td>NaN</td>\n",
       "      <td>12</td>\n",
       "      <td>NaN</td>\n",
       "      <td>NaN</td>\n",
       "      <td>NaN</td>\n",
       "      <td>NaN</td>\n",
       "      <td>4</td>\n",
       "      <td>2</td>\n",
       "    </tr>\n",
       "    <tr>\n",
       "      <th>top</th>\n",
       "      <td>NaN</td>\n",
       "      <td>blue-collar</td>\n",
       "      <td>married</td>\n",
       "      <td>secondary</td>\n",
       "      <td>no</td>\n",
       "      <td>NaN</td>\n",
       "      <td>yes</td>\n",
       "      <td>no</td>\n",
       "      <td>cellular</td>\n",
       "      <td>NaN</td>\n",
       "      <td>may</td>\n",
       "      <td>NaN</td>\n",
       "      <td>NaN</td>\n",
       "      <td>NaN</td>\n",
       "      <td>NaN</td>\n",
       "      <td>unknown</td>\n",
       "      <td>no</td>\n",
       "    </tr>\n",
       "    <tr>\n",
       "      <th>freq</th>\n",
       "      <td>NaN</td>\n",
       "      <td>9732</td>\n",
       "      <td>27214</td>\n",
       "      <td>23202</td>\n",
       "      <td>44396</td>\n",
       "      <td>NaN</td>\n",
       "      <td>25130</td>\n",
       "      <td>37967</td>\n",
       "      <td>29285</td>\n",
       "      <td>NaN</td>\n",
       "      <td>13766</td>\n",
       "      <td>NaN</td>\n",
       "      <td>NaN</td>\n",
       "      <td>NaN</td>\n",
       "      <td>NaN</td>\n",
       "      <td>36959</td>\n",
       "      <td>39922</td>\n",
       "    </tr>\n",
       "    <tr>\n",
       "      <th>mean</th>\n",
       "      <td>40.936</td>\n",
       "      <td>NaN</td>\n",
       "      <td>NaN</td>\n",
       "      <td>NaN</td>\n",
       "      <td>NaN</td>\n",
       "      <td>1362.272</td>\n",
       "      <td>NaN</td>\n",
       "      <td>NaN</td>\n",
       "      <td>NaN</td>\n",
       "      <td>15.806</td>\n",
       "      <td>NaN</td>\n",
       "      <td>258.163</td>\n",
       "      <td>2.764</td>\n",
       "      <td>40.198</td>\n",
       "      <td>0.580</td>\n",
       "      <td>NaN</td>\n",
       "      <td>NaN</td>\n",
       "    </tr>\n",
       "    <tr>\n",
       "      <th>std</th>\n",
       "      <td>10.619</td>\n",
       "      <td>NaN</td>\n",
       "      <td>NaN</td>\n",
       "      <td>NaN</td>\n",
       "      <td>NaN</td>\n",
       "      <td>3044.766</td>\n",
       "      <td>NaN</td>\n",
       "      <td>NaN</td>\n",
       "      <td>NaN</td>\n",
       "      <td>8.322</td>\n",
       "      <td>NaN</td>\n",
       "      <td>257.528</td>\n",
       "      <td>3.098</td>\n",
       "      <td>100.129</td>\n",
       "      <td>2.303</td>\n",
       "      <td>NaN</td>\n",
       "      <td>NaN</td>\n",
       "    </tr>\n",
       "    <tr>\n",
       "      <th>min</th>\n",
       "      <td>18.000</td>\n",
       "      <td>NaN</td>\n",
       "      <td>NaN</td>\n",
       "      <td>NaN</td>\n",
       "      <td>NaN</td>\n",
       "      <td>-8019.000</td>\n",
       "      <td>NaN</td>\n",
       "      <td>NaN</td>\n",
       "      <td>NaN</td>\n",
       "      <td>1.000</td>\n",
       "      <td>NaN</td>\n",
       "      <td>0.000</td>\n",
       "      <td>1.000</td>\n",
       "      <td>-1.000</td>\n",
       "      <td>0.000</td>\n",
       "      <td>NaN</td>\n",
       "      <td>NaN</td>\n",
       "    </tr>\n",
       "    <tr>\n",
       "      <th>25%</th>\n",
       "      <td>33.000</td>\n",
       "      <td>NaN</td>\n",
       "      <td>NaN</td>\n",
       "      <td>NaN</td>\n",
       "      <td>NaN</td>\n",
       "      <td>72.000</td>\n",
       "      <td>NaN</td>\n",
       "      <td>NaN</td>\n",
       "      <td>NaN</td>\n",
       "      <td>8.000</td>\n",
       "      <td>NaN</td>\n",
       "      <td>103.000</td>\n",
       "      <td>1.000</td>\n",
       "      <td>-1.000</td>\n",
       "      <td>0.000</td>\n",
       "      <td>NaN</td>\n",
       "      <td>NaN</td>\n",
       "    </tr>\n",
       "    <tr>\n",
       "      <th>50%</th>\n",
       "      <td>39.000</td>\n",
       "      <td>NaN</td>\n",
       "      <td>NaN</td>\n",
       "      <td>NaN</td>\n",
       "      <td>NaN</td>\n",
       "      <td>448.000</td>\n",
       "      <td>NaN</td>\n",
       "      <td>NaN</td>\n",
       "      <td>NaN</td>\n",
       "      <td>16.000</td>\n",
       "      <td>NaN</td>\n",
       "      <td>180.000</td>\n",
       "      <td>2.000</td>\n",
       "      <td>-1.000</td>\n",
       "      <td>0.000</td>\n",
       "      <td>NaN</td>\n",
       "      <td>NaN</td>\n",
       "    </tr>\n",
       "    <tr>\n",
       "      <th>75%</th>\n",
       "      <td>48.000</td>\n",
       "      <td>NaN</td>\n",
       "      <td>NaN</td>\n",
       "      <td>NaN</td>\n",
       "      <td>NaN</td>\n",
       "      <td>1428.000</td>\n",
       "      <td>NaN</td>\n",
       "      <td>NaN</td>\n",
       "      <td>NaN</td>\n",
       "      <td>21.000</td>\n",
       "      <td>NaN</td>\n",
       "      <td>319.000</td>\n",
       "      <td>3.000</td>\n",
       "      <td>-1.000</td>\n",
       "      <td>0.000</td>\n",
       "      <td>NaN</td>\n",
       "      <td>NaN</td>\n",
       "    </tr>\n",
       "    <tr>\n",
       "      <th>max</th>\n",
       "      <td>95.000</td>\n",
       "      <td>NaN</td>\n",
       "      <td>NaN</td>\n",
       "      <td>NaN</td>\n",
       "      <td>NaN</td>\n",
       "      <td>102127.000</td>\n",
       "      <td>NaN</td>\n",
       "      <td>NaN</td>\n",
       "      <td>NaN</td>\n",
       "      <td>31.000</td>\n",
       "      <td>NaN</td>\n",
       "      <td>4918.000</td>\n",
       "      <td>63.000</td>\n",
       "      <td>871.000</td>\n",
       "      <td>275.000</td>\n",
       "      <td>NaN</td>\n",
       "      <td>NaN</td>\n",
       "    </tr>\n",
       "  </tbody>\n",
       "</table>\n",
       "</div>"
      ],
      "text/plain": [
       "              age          job  marital  education default     balance  \\\n",
       "count   45211.000        45211    45211      45211   45211   45211.000   \n",
       "unique        NaN           12        3          4       2         NaN   \n",
       "top           NaN  blue-collar  married  secondary      no         NaN   \n",
       "freq          NaN         9732    27214      23202   44396         NaN   \n",
       "mean       40.936          NaN      NaN        NaN     NaN    1362.272   \n",
       "std        10.619          NaN      NaN        NaN     NaN    3044.766   \n",
       "min        18.000          NaN      NaN        NaN     NaN   -8019.000   \n",
       "25%        33.000          NaN      NaN        NaN     NaN      72.000   \n",
       "50%        39.000          NaN      NaN        NaN     NaN     448.000   \n",
       "75%        48.000          NaN      NaN        NaN     NaN    1428.000   \n",
       "max        95.000          NaN      NaN        NaN     NaN  102127.000   \n",
       "\n",
       "       housing   loan   contact        day  month   duration   campaign  \\\n",
       "count    45211  45211     45211  45211.000  45211  45211.000  45211.000   \n",
       "unique       2      2         3        NaN     12        NaN        NaN   \n",
       "top        yes     no  cellular        NaN    may        NaN        NaN   \n",
       "freq     25130  37967     29285        NaN  13766        NaN        NaN   \n",
       "mean       NaN    NaN       NaN     15.806    NaN    258.163      2.764   \n",
       "std        NaN    NaN       NaN      8.322    NaN    257.528      3.098   \n",
       "min        NaN    NaN       NaN      1.000    NaN      0.000      1.000   \n",
       "25%        NaN    NaN       NaN      8.000    NaN    103.000      1.000   \n",
       "50%        NaN    NaN       NaN     16.000    NaN    180.000      2.000   \n",
       "75%        NaN    NaN       NaN     21.000    NaN    319.000      3.000   \n",
       "max        NaN    NaN       NaN     31.000    NaN   4918.000     63.000   \n",
       "\n",
       "            pdays   previous poutcome      y  \n",
       "count   45211.000  45211.000    45211  45211  \n",
       "unique        NaN        NaN        4      2  \n",
       "top           NaN        NaN  unknown     no  \n",
       "freq          NaN        NaN    36959  39922  \n",
       "mean       40.198      0.580      NaN    NaN  \n",
       "std       100.129      2.303      NaN    NaN  \n",
       "min        -1.000      0.000      NaN    NaN  \n",
       "25%        -1.000      0.000      NaN    NaN  \n",
       "50%        -1.000      0.000      NaN    NaN  \n",
       "75%        -1.000      0.000      NaN    NaN  \n",
       "max       871.000    275.000      NaN    NaN  "
      ]
     },
     "execution_count": 8,
     "metadata": {},
     "output_type": "execute_result"
    }
   ],
   "source": [
    "deposit.describe(include='all')"
   ]
  },
  {
   "cell_type": "markdown",
   "metadata": {},
   "source": [
    "## Fast data analysis\n",
    "\n",
    "Let's see how our data looks before we start working on it"
   ]
  },
  {
   "cell_type": "code",
   "execution_count": 9,
   "metadata": {},
   "outputs": [
    {
     "data": {
      "image/png": "[encoded data removed]",
      "text/plain": [
       "<Figure size 1872x1440 with 16 Axes>"
      ]
     },
     "metadata": {},
     "output_type": "display_data"
    }
   ],
   "source": [
    "fig, axes = plt.subplots(4,4,figsize=(26,20))\n",
    "\n",
    "for i, c in enumerate(deposit.columns):\n",
    "    if c =='y':\n",
    "        continue\n",
    "    ax = axes.reshape(-1)[i]\n",
    "    if deposit[c].dtype.kind == 'O':\n",
    "        ct = pd.crosstab(index=deposit[c], columns=deposit['y'],normalize='index')\n",
    "        a = ct.plot(kind='bar', stacked=True,ax=ax)  \n",
    "    else:\n",
    "        b = sns.histplot(x=c,hue='y',data=deposit,multiple='stack',ax=ax)\n",
    "    t = ax.set_title(c)\n",
    "plt.tight_layout()"
   ]
  },
  {
   "cell_type": "markdown",
   "metadata": {},
   "source": [
    "This dataset needs a lot of pre-processing ... and it also displays a good mixture of categorical and numeric variables.\n",
    "\n",
    "We have many categorical variables. If some categories are under-represented that might be a problem for our model.  Let's check whether this is the case. \n",
    "\n",
    "The `job` looks ok:"
   ]
  },
  {
   "cell_type": "code",
   "execution_count": 10,
   "metadata": {
    "ExecuteTime": {
     "end_time": "2020-07-15T10:16:53.704292Z",
     "start_time": "2020-07-15T10:16:53.691852Z"
    }
   },
   "outputs": [
    {
     "data": {
      "text/plain": [
       "blue-collar      9732\n",
       "management       9458\n",
       "technician       7597\n",
       "admin.           5171\n",
       "services         4154\n",
       "retired          2264\n",
       "self-employed    1579\n",
       "entrepreneur     1487\n",
       "unemployed       1303\n",
       "housemaid        1240\n",
       "student           938\n",
       "unknown           288\n",
       "Name: job, dtype: int64"
      ]
     },
     "execution_count": 10,
     "metadata": {},
     "output_type": "execute_result"
    }
   ],
   "source": [
    "deposit.job.value_counts()"
   ]
  },
  {
   "cell_type": "markdown",
   "metadata": {},
   "source": [
    "The variable `education` has 4 values, let's check their frequency... it seems OK"
   ]
  },
  {
   "cell_type": "code",
   "execution_count": 11,
   "metadata": {
    "ExecuteTime": {
     "end_time": "2020-07-15T10:16:53.817511Z",
     "start_time": "2020-07-15T10:16:53.706441Z"
    }
   },
   "outputs": [
    {
     "data": {
      "text/plain": [
       "secondary    23202\n",
       "tertiary     13301\n",
       "primary       6851\n",
       "unknown       1857\n",
       "Name: education, dtype: int64"
      ]
     },
     "execution_count": 11,
     "metadata": {},
     "output_type": "execute_result"
    }
   ],
   "source": [
    "deposit.education.value_counts()"
   ]
  },
  {
   "cell_type": "markdown",
   "metadata": {},
   "source": [
    "`month` looks very suspicious ... but is OK"
   ]
  },
  {
   "cell_type": "code",
   "execution_count": 12,
   "metadata": {
    "ExecuteTime": {
     "end_time": "2020-07-15T10:16:53.924664Z",
     "start_time": "2020-07-15T10:16:53.820260Z"
    }
   },
   "outputs": [
    {
     "data": {
      "text/plain": [
       "may    13766\n",
       "jul     6895\n",
       "aug     6247\n",
       "jun     5341\n",
       "nov     3970\n",
       "apr     2932\n",
       "feb     2649\n",
       "jan     1403\n",
       "oct      738\n",
       "sep      579\n",
       "mar      477\n",
       "dec      214\n",
       "Name: month, dtype: int64"
      ]
     },
     "execution_count": 12,
     "metadata": {},
     "output_type": "execute_result"
    }
   ],
   "source": [
    "deposit.month.value_counts()"
   ]
  },
  {
   "cell_type": "markdown",
   "metadata": {},
   "source": [
    "Now the numerical variables: Duration is highly skewed ..."
   ]
  },
  {
   "cell_type": "code",
   "execution_count": 13,
   "metadata": {
    "ExecuteTime": {
     "end_time": "2020-07-15T10:16:54.225435Z",
     "start_time": "2020-07-15T10:16:53.926187Z"
    }
   },
   "outputs": [
    {
     "data": {
      "image/png": "[encoded data removed]",
      "text/plain": [
       "<Figure size 576x432 with 1 Axes>"
      ]
     },
     "metadata": {},
     "output_type": "display_data"
    }
   ],
   "source": [
    "deposit.duration.plot.hist(figsize=(8,6));"
   ]
  },
  {
   "cell_type": "markdown",
   "metadata": {},
   "source": [
    "We can avoid this that applying a logarithm to this column, as all values are positive. "
   ]
  },
  {
   "cell_type": "code",
   "execution_count": 14,
   "metadata": {
    "ExecuteTime": {
     "end_time": "2020-07-15T10:16:54.430687Z",
     "start_time": "2020-07-15T10:16:54.226802Z"
    }
   },
   "outputs": [
    {
     "data": {
      "image/png": "[encoded data removed]",
      "text/plain": [
       "<Figure size 576x432 with 1 Axes>"
      ]
     },
     "metadata": {},
     "output_type": "display_data"
    }
   ],
   "source": [
    "pd.set_option('use_inf_as_na', True)\n",
    "ax = deposit.duration.apply('log').dropna().plot.hist(figsize=(8,6))\n",
    "plt.xlabel('log(duration)');"
   ]
  },
  {
   "cell_type": "markdown",
   "metadata": {},
   "source": [
    "Much better! We will use the log transformation on this variable."
   ]
  },
  {
   "cell_type": "code",
   "execution_count": 15,
   "metadata": {
    "ExecuteTime": {
     "end_time": "2020-07-15T10:16:54.494303Z",
     "start_time": "2020-07-15T10:16:54.432136Z"
    }
   },
   "outputs": [],
   "source": [
    "deposit['duration'] = deposit.duration.apply(lambda x: np.log(x+0.001))"
   ]
  },
  {
   "cell_type": "markdown",
   "metadata": {},
   "source": [
    "The variable `previous` has a bit of strange shape. It looks like it has a lot of 0 values."
   ]
  },
  {
   "cell_type": "code",
   "execution_count": 16,
   "metadata": {},
   "outputs": [
    {
     "data": {
      "text/plain": [
       "<AxesSubplot:xlabel='previous', ylabel='Count'>"
      ]
     },
     "execution_count": 16,
     "metadata": {},
     "output_type": "execute_result"
    },
    {
     "data": {
      "image/png": "[encoded data removed]",
      "text/plain": [
       "<Figure size 432x288 with 1 Axes>"
      ]
     },
     "metadata": {},
     "output_type": "display_data"
    }
   ],
   "source": [
    "sns.histplot(x='previous',hue='y',data=deposit)"
   ]
  },
  {
   "cell_type": "markdown",
   "metadata": {},
   "source": [
    "And with a lot we mean more than an eighty percent. We will use this knowledge to make a new discrete feature from this one."
   ]
  },
  {
   "cell_type": "code",
   "execution_count": 17,
   "metadata": {},
   "outputs": [
    {
     "data": {
      "text/plain": [
       "0.8173674548229414"
      ]
     },
     "execution_count": 17,
     "metadata": {},
     "output_type": "execute_result"
    }
   ],
   "source": [
    "(deposit['previous']==0).sum()/deposit.shape[0]"
   ]
  },
  {
   "cell_type": "code",
   "execution_count": 18,
   "metadata": {},
   "outputs": [],
   "source": [
    "deposit['previous_discrete']= deposit['previous'].apply(lambda x: '0' if x==0 else '>0' )"
   ]
  },
  {
   "cell_type": "code",
   "execution_count": 19,
   "metadata": {},
   "outputs": [
    {
     "data": {
      "image/png": "[encoded data removed]",
      "text/plain": [
       "<Figure size 432x288 with 1 Axes>"
      ]
     },
     "metadata": {},
     "output_type": "display_data"
    }
   ],
   "source": [
    "ct = pd.crosstab(index=deposit['previous_discrete'], columns=deposit['y'],normalize='index')\n",
    "a = ct.plot(kind='bar', stacked=True) "
   ]
  },
  {
   "cell_type": "markdown",
   "metadata": {},
   "source": [
    "What should we do with `pdays` and `previous`? It is not clear how to best pre-process them; we shall need some financial expertise ... so we leave them as they are\n",
    "\n",
    "The rest of variables seem OK (but it would take a careful analysis, and a lot of domain knowledge)\n",
    "\n",
    "Let's rename the target ..."
   ]
  },
  {
   "cell_type": "code",
   "execution_count": 20,
   "metadata": {
    "ExecuteTime": {
     "end_time": "2020-07-15T10:16:54.568564Z",
     "start_time": "2020-07-15T10:16:54.495669Z"
    }
   },
   "outputs": [
    {
     "data": {
      "text/plain": [
       "(45211, 18)"
      ]
     },
     "execution_count": 20,
     "metadata": {},
     "output_type": "execute_result"
    }
   ],
   "source": [
    "deposit.rename({'y':'subscribe'}, axis='columns',inplace=True)\n",
    "deposit.shape"
   ]
  },
  {
   "cell_type": "code",
   "execution_count": 21,
   "metadata": {},
   "outputs": [
    {
     "data": {
      "text/html": [
       "<div>\n",
       "<style scoped>\n",
       "    .dataframe tbody tr th:only-of-type {\n",
       "        vertical-align: middle;\n",
       "    }\n",
       "\n",
       "    .dataframe tbody tr th {\n",
       "        vertical-align: top;\n",
       "    }\n",
       "\n",
       "    .dataframe thead th {\n",
       "        text-align: right;\n",
       "    }\n",
       "</style>\n",
       "<table border=\"1\" class=\"dataframe\">\n",
       "  <thead>\n",
       "    <tr style=\"text-align: right;\">\n",
       "      <th></th>\n",
       "      <th>age</th>\n",
       "      <th>job</th>\n",
       "      <th>marital</th>\n",
       "      <th>education</th>\n",
       "      <th>default</th>\n",
       "      <th>balance</th>\n",
       "      <th>housing</th>\n",
       "      <th>loan</th>\n",
       "      <th>contact</th>\n",
       "      <th>day</th>\n",
       "      <th>month</th>\n",
       "      <th>duration</th>\n",
       "      <th>campaign</th>\n",
       "      <th>pdays</th>\n",
       "      <th>previous</th>\n",
       "      <th>poutcome</th>\n",
       "      <th>subscribe</th>\n",
       "      <th>previous_discrete</th>\n",
       "    </tr>\n",
       "  </thead>\n",
       "  <tbody>\n",
       "    <tr>\n",
       "      <th>0</th>\n",
       "      <td>58</td>\n",
       "      <td>management</td>\n",
       "      <td>married</td>\n",
       "      <td>tertiary</td>\n",
       "      <td>no</td>\n",
       "      <td>2143</td>\n",
       "      <td>yes</td>\n",
       "      <td>no</td>\n",
       "      <td>unknown</td>\n",
       "      <td>5</td>\n",
       "      <td>may</td>\n",
       "      <td>5.565</td>\n",
       "      <td>1</td>\n",
       "      <td>-1</td>\n",
       "      <td>0</td>\n",
       "      <td>unknown</td>\n",
       "      <td>no</td>\n",
       "      <td>0</td>\n",
       "    </tr>\n",
       "    <tr>\n",
       "      <th>1</th>\n",
       "      <td>44</td>\n",
       "      <td>technician</td>\n",
       "      <td>single</td>\n",
       "      <td>secondary</td>\n",
       "      <td>no</td>\n",
       "      <td>29</td>\n",
       "      <td>yes</td>\n",
       "      <td>no</td>\n",
       "      <td>unknown</td>\n",
       "      <td>5</td>\n",
       "      <td>may</td>\n",
       "      <td>5.017</td>\n",
       "      <td>1</td>\n",
       "      <td>-1</td>\n",
       "      <td>0</td>\n",
       "      <td>unknown</td>\n",
       "      <td>no</td>\n",
       "      <td>0</td>\n",
       "    </tr>\n",
       "    <tr>\n",
       "      <th>2</th>\n",
       "      <td>33</td>\n",
       "      <td>entrepreneur</td>\n",
       "      <td>married</td>\n",
       "      <td>secondary</td>\n",
       "      <td>no</td>\n",
       "      <td>2</td>\n",
       "      <td>yes</td>\n",
       "      <td>yes</td>\n",
       "      <td>unknown</td>\n",
       "      <td>5</td>\n",
       "      <td>may</td>\n",
       "      <td>4.331</td>\n",
       "      <td>1</td>\n",
       "      <td>-1</td>\n",
       "      <td>0</td>\n",
       "      <td>unknown</td>\n",
       "      <td>no</td>\n",
       "      <td>0</td>\n",
       "    </tr>\n",
       "    <tr>\n",
       "      <th>3</th>\n",
       "      <td>47</td>\n",
       "      <td>blue-collar</td>\n",
       "      <td>married</td>\n",
       "      <td>unknown</td>\n",
       "      <td>no</td>\n",
       "      <td>1506</td>\n",
       "      <td>yes</td>\n",
       "      <td>no</td>\n",
       "      <td>unknown</td>\n",
       "      <td>5</td>\n",
       "      <td>may</td>\n",
       "      <td>4.522</td>\n",
       "      <td>1</td>\n",
       "      <td>-1</td>\n",
       "      <td>0</td>\n",
       "      <td>unknown</td>\n",
       "      <td>no</td>\n",
       "      <td>0</td>\n",
       "    </tr>\n",
       "    <tr>\n",
       "      <th>4</th>\n",
       "      <td>33</td>\n",
       "      <td>unknown</td>\n",
       "      <td>single</td>\n",
       "      <td>unknown</td>\n",
       "      <td>no</td>\n",
       "      <td>1</td>\n",
       "      <td>no</td>\n",
       "      <td>no</td>\n",
       "      <td>unknown</td>\n",
       "      <td>5</td>\n",
       "      <td>may</td>\n",
       "      <td>5.288</td>\n",
       "      <td>1</td>\n",
       "      <td>-1</td>\n",
       "      <td>0</td>\n",
       "      <td>unknown</td>\n",
       "      <td>no</td>\n",
       "      <td>0</td>\n",
       "    </tr>\n",
       "  </tbody>\n",
       "</table>\n",
       "</div>"
      ],
      "text/plain": [
       "   age           job  marital  education default  balance housing loan  \\\n",
       "0   58    management  married   tertiary      no     2143     yes   no   \n",
       "1   44    technician   single  secondary      no       29     yes   no   \n",
       "2   33  entrepreneur  married  secondary      no        2     yes  yes   \n",
       "3   47   blue-collar  married    unknown      no     1506     yes   no   \n",
       "4   33       unknown   single    unknown      no        1      no   no   \n",
       "\n",
       "   contact  day month  duration  campaign  pdays  previous poutcome subscribe  \\\n",
       "0  unknown    5   may     5.565         1     -1         0  unknown        no   \n",
       "1  unknown    5   may     5.017         1     -1         0  unknown        no   \n",
       "2  unknown    5   may     4.331         1     -1         0  unknown        no   \n",
       "3  unknown    5   may     4.522         1     -1         0  unknown        no   \n",
       "4  unknown    5   may     5.288         1     -1         0  unknown        no   \n",
       "\n",
       "  previous_discrete  \n",
       "0                 0  \n",
       "1                 0  \n",
       "2                 0  \n",
       "3                 0  \n",
       "4                 0  "
      ]
     },
     "execution_count": 21,
     "metadata": {},
     "output_type": "execute_result"
    }
   ],
   "source": [
    "deposit.head()"
   ]
  },
  {
   "cell_type": "markdown",
   "metadata": {},
   "source": [
    "Scikit learn decision trees classifier do not handle categorical attributes so we have to transform them to numerical. \n",
    "\n",
    "We are going to transform the categorical columns using onehot-encoding; if there are not too many levels this may work well, but in general when doing this one should pay close attention to variable semantics, trying to reduce the number of levels in an ad-hoc way, etc."
   ]
  },
  {
   "cell_type": "markdown",
   "metadata": {},
   "source": [
    "### Preprocessing and resampling protocol\n",
    "Now that we know our data, let's put all this in a preprocessing function.\n",
    "\n",
    "This time we are going to split our data into train, test and validation. We can chose this protocol because we have a lot of samples. "
   ]
  },
  {
   "cell_type": "code",
   "execution_count": 22,
   "metadata": {},
   "outputs": [],
   "source": [
    "def preprocessing(X, y):\n",
    "    # Apply log to duration so it looks less skewed\n",
    "    X.loc[:, 'duration'] = X.loc[:,\n",
    "                                 'duration'].apply(lambda x: np.log(x + 0.001))\n",
    "\n",
    "    # Make our new derivated column from previous\n",
    "    X['previous_discrete'] = X['previous'].apply(lambda x: '0'\n",
    "                                                 if x == 0 else '>0')\n",
    "\n",
    "    # Transform categorical variables into numbers because we are working with decision trees\n",
    "    for column in X.columns:\n",
    "        if X[column].dtype.kind == 'O':\n",
    "            X_one_hot = pd.get_dummies(X[column], prefix=column)\n",
    "            X = X.merge(X_one_hot,left_index=True,right_index=True)\n",
    "            X = X.drop(columns=[column])\n",
    "            \n",
    "    X = X.dropna()\n",
    "    y = y[X.index]\n",
    "    y = y.replace({'yes':1, 'no':0})\n",
    "    X = X.reset_index(drop=True)\n",
    "    y = y.reset_index(drop=True)\n",
    "    return X, y"
   ]
  },
  {
   "cell_type": "markdown",
   "metadata": {},
   "source": [
    "For the train/val/test datasets we will choose **stratified partitions**; what this means is that we will keep the same proportion of yes/no examples in each partition. With imbalanced datasets this is important since a random partition may increase the imbalance if we are unlucky."
   ]
  },
  {
   "cell_type": "code",
   "execution_count": 23,
   "metadata": {
    "ExecuteTime": {
     "end_time": "2020-07-15T10:16:54.976717Z",
     "start_time": "2020-07-15T10:16:54.884249Z"
    }
   },
   "outputs": [
    {
     "data": {
      "text/plain": [
       "((27126, 53), (9042, 53), (9043, 53))"
      ]
     },
     "execution_count": 23,
     "metadata": {},
     "output_type": "execute_result"
    }
   ],
   "source": [
    "deposit = read_csv(\"bank-full.csv.gz\", header=0, delimiter=';')\n",
    "deposit.rename({'y':'subscribe'}, axis='columns',inplace=True)\n",
    "\n",
    "X_train, X_test, y_train, y_test = train_test_split(deposit.loc[:,:'poutcome'], deposit.loc[:,'subscribe'],  \n",
    "                                                    test_size=0.2, stratify=deposit.loc[:,'subscribe'], random_state=42)\n",
    "X_train, X_val, y_train, y_val = train_test_split(X_train, y_train, test_size=0.25, stratify=y_train, random_state=42)\n",
    "\n",
    "            \n",
    "X_train, y_train = preprocessing(X_train, y_train)\n",
    "X_val, y_val = preprocessing(X_val, y_val)\n",
    "X_test, y_test = preprocessing(X_test, y_test)\n",
    "\n",
    "X_train.shape, X_val.shape, X_test.shape, "
   ]
  },
  {
   "cell_type": "markdown",
   "metadata": {},
   "source": [
    "### Metrics \n",
    "\n",
    "We have a classification problem with a strong imbalance on the target class. This time we will asume equally important the missclassification errors for both classes. For this reason we are going to use the next metrics to evaluate our model:\n",
    "* F1-score for class 1. \n",
    "* F1-score for class 0. \n",
    "* F1-score macro average. \n",
    "* Accuracy. (Just for checking, accuracy is not the best metric with imbalanced data)\n"
   ]
  },
  {
   "cell_type": "code",
   "execution_count": 25,
   "metadata": {},
   "outputs": [],
   "source": [
    "def compute_metrics(y_true,y_pred):\n",
    "    accuracy = accuracy_score(y_true,y_pred)\n",
    "    f1_score_1 = f1_score(y_true,y_pred,average='binary',pos_label=1)\n",
    "    f1_score_0 = f1_score(y_true,y_pred,average='binary',pos_label=0)\n",
    "    f1_score_macro = f1_score(y_true,y_pred,average='macro')\n",
    "    return [accuracy,f1_score_1,f1_score_0,f1_score_macro]\n",
    "    \n",
    "    \n",
    "\n",
    "results = pd.DataFrame(columns=['Accuracy', 'F1-score (class 1)', 'F1-score (class 0)', 'F1-score (macro avg)'])"
   ]
  },
  {
   "cell_type": "markdown",
   "metadata": {},
   "source": [
    "## Models of the Decision Tree family"
   ]
  },
  {
   "cell_type": "markdown",
   "metadata": {},
   "source": [
    "### Decision tree\n",
    "\n",
    "First try a standard decision tree. \n",
    "\n",
    "A Decision Tree predicts the target by learning simple decision rules. During the training it will split the data so it can learn these rules. This model is very fast to train and interpretable but it can overfit easily. \n",
    "\n",
    "Hyperparameters: \n",
    "* `criterion`: gini or entropy \n",
    "* `max_depth`: maximum depth of the tree. Controls complexity. \n",
    "* `min_samples_split`: minimum number of samples required to split an internal node. Controls complexity. \n",
    "* `min_samples_leaf`: inimum number of samples required to be at a leaf node. Controls complexity."
   ]
  },
  {
   "cell_type": "code",
   "execution_count": 26,
   "metadata": {
    "ExecuteTime": {
     "end_time": "2020-07-15T10:16:55.274511Z",
     "start_time": "2020-07-15T10:16:54.978202Z"
    }
   },
   "outputs": [],
   "source": [
    "model_tree = DecisionTreeClassifier().fit(X_train, \n",
    "                                          y_train)\n"
   ]
  },
  {
   "cell_type": "code",
   "execution_count": 27,
   "metadata": {
    "ExecuteTime": {
     "end_time": "2020-07-15T10:16:55.323824Z",
     "start_time": "2020-07-15T10:16:55.276922Z"
    },
    "scrolled": false
   },
   "outputs": [
    {
     "data": {
      "image/svg+xml": [
       "<?xml version=\"1.0\" encoding=\"UTF-8\" standalone=\"no\"?>\n",
       "<!DOCTYPE svg PUBLIC \"-//W3C//DTD SVG 1.1//EN\"\n",
       " \"http://www.w3.org/Graphics/SVG/1.1/DTD/svg11.dtd\">\n",
       "<!-- Generated by graphviz version 2.47.1 (0)\n",
       " -->\n",
       "<!-- Title: Tree Pages: 1 -->\n",
       "<svg width=\"849pt\" height=\"856pt\"\n",
       " viewBox=\"0.00 0.00 849.00 856.00\" xmlns=\"http://www.w3.org/2000/svg\" xmlns:xlink=\"http://www.w3.org/1999/xlink\">\n",
       "<g id=\"graph0\" class=\"graph\" transform=\"scale(1 1) rotate(0) translate(4 852)\">\n",
       "<title>Tree</title>\n",
       "<polygon fill=\"white\" stroke=\"transparent\" points=\"-4,4 -4,-852 845,-852 845,4 -4,4\"/>\n",
       "<!-- 0 -->\n",
       "<g id=\"node1\" class=\"node\">\n",
       "<title>0</title>\n",
       "<path fill=\"#e89253\" stroke=\"black\" d=\"M135,-515.5C135,-515.5 12,-515.5 12,-515.5 6,-515.5 0,-509.5 0,-503.5 0,-503.5 0,-444.5 0,-444.5 0,-438.5 6,-432.5 12,-432.5 12,-432.5 135,-432.5 135,-432.5 141,-432.5 147,-438.5 147,-444.5 147,-444.5 147,-503.5 147,-503.5 147,-509.5 141,-515.5 135,-515.5\"/>\n",
       "<text text-anchor=\"start\" x=\"24.5\" y=\"-500.3\" font-family=\"Helvetica,sans-Serif\" font-size=\"14.00\">duration ≤ 6.257</text>\n",
       "<text text-anchor=\"start\" x=\"38\" y=\"-485.3\" font-family=\"Helvetica,sans-Serif\" font-size=\"14.00\">gini = 0.207</text>\n",
       "<text text-anchor=\"start\" x=\"16.5\" y=\"-470.3\" font-family=\"Helvetica,sans-Serif\" font-size=\"14.00\">samples = 100.0%</text>\n",
       "<text text-anchor=\"start\" x=\"8\" y=\"-455.3\" font-family=\"Helvetica,sans-Serif\" font-size=\"14.00\">value = [0.883, 0.117]</text>\n",
       "<text text-anchor=\"start\" x=\"42.5\" y=\"-440.3\" font-family=\"Helvetica,sans-Serif\" font-size=\"14.00\">class = no</text>\n",
       "</g>\n",
       "<!-- 1 -->\n",
       "<g id=\"node2\" class=\"node\">\n",
       "<title>1</title>\n",
       "<path fill=\"#e78b49\" stroke=\"black\" d=\"M338,-567.5C338,-567.5 195,-567.5 195,-567.5 189,-567.5 183,-561.5 183,-555.5 183,-555.5 183,-496.5 183,-496.5 183,-490.5 189,-484.5 195,-484.5 195,-484.5 338,-484.5 338,-484.5 344,-484.5 350,-490.5 350,-496.5 350,-496.5 350,-555.5 350,-555.5 350,-561.5 344,-567.5 338,-567.5\"/>\n",
       "<text text-anchor=\"start\" x=\"191\" y=\"-552.3\" font-family=\"Helvetica,sans-Serif\" font-size=\"14.00\">poutcome_success ≤ 0.5</text>\n",
       "<text text-anchor=\"start\" x=\"231\" y=\"-537.3\" font-family=\"Helvetica,sans-Serif\" font-size=\"14.00\">gini = 0.141</text>\n",
       "<text text-anchor=\"start\" x=\"213.5\" y=\"-522.3\" font-family=\"Helvetica,sans-Serif\" font-size=\"14.00\">samples = 88.9%</text>\n",
       "<text text-anchor=\"start\" x=\"201\" y=\"-507.3\" font-family=\"Helvetica,sans-Serif\" font-size=\"14.00\">value = [0.924, 0.076]</text>\n",
       "<text text-anchor=\"start\" x=\"235.5\" y=\"-492.3\" font-family=\"Helvetica,sans-Serif\" font-size=\"14.00\">class = no</text>\n",
       "</g>\n",
       "<!-- 0&#45;&gt;1 -->\n",
       "<g id=\"edge1\" class=\"edge\">\n",
       "<title>0&#45;&gt;1</title>\n",
       "<path fill=\"none\" stroke=\"black\" d=\"M147.25,-493.81C155.68,-496.1 164.36,-498.46 173,-500.82\"/>\n",
       "<polygon fill=\"black\" stroke=\"black\" points=\"172.16,-504.22 182.73,-503.47 174,-497.46 172.16,-504.22\"/>\n",
       "<text text-anchor=\"middle\" x=\"161.03\" y=\"-512.18\" font-family=\"Helvetica,sans-Serif\" font-size=\"14.00\">True</text>\n",
       "</g>\n",
       "<!-- 2974 -->\n",
       "<g id=\"node17\" class=\"node\">\n",
       "<title>2974</title>\n",
       "<path fill=\"#fae5d6\" stroke=\"black\" d=\"M328,-364.5C328,-364.5 205,-364.5 205,-364.5 199,-364.5 193,-358.5 193,-352.5 193,-352.5 193,-293.5 193,-293.5 193,-287.5 199,-281.5 205,-281.5 205,-281.5 328,-281.5 328,-281.5 334,-281.5 340,-287.5 340,-293.5 340,-293.5 340,-352.5 340,-352.5 340,-358.5 334,-364.5 328,-364.5\"/>\n",
       "<text text-anchor=\"start\" x=\"217.5\" y=\"-349.3\" font-family=\"Helvetica,sans-Serif\" font-size=\"14.00\">duration ≤ 6.718</text>\n",
       "<text text-anchor=\"start\" x=\"231\" y=\"-334.3\" font-family=\"Helvetica,sans-Serif\" font-size=\"14.00\">gini = 0.493</text>\n",
       "<text text-anchor=\"start\" x=\"213.5\" y=\"-319.3\" font-family=\"Helvetica,sans-Serif\" font-size=\"14.00\">samples = 11.1%</text>\n",
       "<text text-anchor=\"start\" x=\"201\" y=\"-304.3\" font-family=\"Helvetica,sans-Serif\" font-size=\"14.00\">value = [0.557, 0.443]</text>\n",
       "<text text-anchor=\"start\" x=\"235.5\" y=\"-289.3\" font-family=\"Helvetica,sans-Serif\" font-size=\"14.00\">class = no</text>\n",
       "</g>\n",
       "<!-- 0&#45;&gt;2974 -->\n",
       "<g id=\"edge16\" class=\"edge\">\n",
       "<title>0&#45;&gt;2974</title>\n",
       "<path fill=\"none\" stroke=\"black\" d=\"M127.2,-432.34C151.31,-413.28 180.01,-390.59 205,-370.83\"/>\n",
       "<polygon fill=\"black\" stroke=\"black\" points=\"207.3,-373.47 212.97,-364.53 202.96,-367.98 207.3,-373.47\"/>\n",
       "<text text-anchor=\"middle\" x=\"188.14\" y=\"-357.92\" font-family=\"Helvetica,sans-Serif\" font-size=\"14.00\">False</text>\n",
       "</g>\n",
       "<!-- 2 -->\n",
       "<g id=\"node3\" class=\"node\">\n",
       "<title>2</title>\n",
       "<path fill=\"#e78945\" stroke=\"black\" d=\"M531,-718.5C531,-718.5 408,-718.5 408,-718.5 402,-718.5 396,-712.5 396,-706.5 396,-706.5 396,-647.5 396,-647.5 396,-641.5 402,-635.5 408,-635.5 408,-635.5 531,-635.5 531,-635.5 537,-635.5 543,-641.5 543,-647.5 543,-647.5 543,-706.5 543,-706.5 543,-712.5 537,-718.5 531,-718.5\"/>\n",
       "<text text-anchor=\"start\" x=\"420.5\" y=\"-703.3\" font-family=\"Helvetica,sans-Serif\" font-size=\"14.00\">duration ≤ 5.418</text>\n",
       "<text text-anchor=\"start\" x=\"434.5\" y=\"-688.3\" font-family=\"Helvetica,sans-Serif\" font-size=\"14.00\">gini = 0.111</text>\n",
       "<text text-anchor=\"start\" x=\"416.5\" y=\"-673.3\" font-family=\"Helvetica,sans-Serif\" font-size=\"14.00\">samples = 86.1%</text>\n",
       "<text text-anchor=\"start\" x=\"404\" y=\"-658.3\" font-family=\"Helvetica,sans-Serif\" font-size=\"14.00\">value = [0.941, 0.059]</text>\n",
       "<text text-anchor=\"start\" x=\"438.5\" y=\"-643.3\" font-family=\"Helvetica,sans-Serif\" font-size=\"14.00\">class = no</text>\n",
       "</g>\n",
       "<!-- 1&#45;&gt;2 -->\n",
       "<g id=\"edge2\" class=\"edge\">\n",
       "<title>1&#45;&gt;2</title>\n",
       "<path fill=\"none\" stroke=\"black\" d=\"M322.96,-567.66C348.44,-586.81 378.8,-609.61 405.18,-629.43\"/>\n",
       "<polygon fill=\"black\" stroke=\"black\" points=\"403.13,-632.27 413.22,-635.47 407.33,-626.67 403.13,-632.27\"/>\n",
       "</g>\n",
       "<!-- 2647 -->\n",
       "<g id=\"node10\" class=\"node\">\n",
       "<title>2647</title>\n",
       "<path fill=\"#b9dcf6\" stroke=\"black\" d=\"M531,-567.5C531,-567.5 408,-567.5 408,-567.5 402,-567.5 396,-561.5 396,-555.5 396,-555.5 396,-496.5 396,-496.5 396,-490.5 402,-484.5 408,-484.5 408,-484.5 531,-484.5 531,-484.5 537,-484.5 543,-490.5 543,-496.5 543,-496.5 543,-555.5 543,-555.5 543,-561.5 537,-567.5 531,-567.5\"/>\n",
       "<text text-anchor=\"start\" x=\"420.5\" y=\"-552.3\" font-family=\"Helvetica,sans-Serif\" font-size=\"14.00\">duration ≤ 5.091</text>\n",
       "<text text-anchor=\"start\" x=\"434\" y=\"-537.3\" font-family=\"Helvetica,sans-Serif\" font-size=\"14.00\">gini = 0.477</text>\n",
       "<text text-anchor=\"start\" x=\"420\" y=\"-522.3\" font-family=\"Helvetica,sans-Serif\" font-size=\"14.00\">samples = 2.8%</text>\n",
       "<text text-anchor=\"start\" x=\"404\" y=\"-507.3\" font-family=\"Helvetica,sans-Serif\" font-size=\"14.00\">value = [0.393, 0.607]</text>\n",
       "<text text-anchor=\"start\" x=\"435.5\" y=\"-492.3\" font-family=\"Helvetica,sans-Serif\" font-size=\"14.00\">class = yes</text>\n",
       "</g>\n",
       "<!-- 1&#45;&gt;2647 -->\n",
       "<g id=\"edge9\" class=\"edge\">\n",
       "<title>1&#45;&gt;2647</title>\n",
       "<path fill=\"none\" stroke=\"black\" d=\"M350.12,-526C361.85,-526 373.91,-526 385.64,-526\"/>\n",
       "<polygon fill=\"black\" stroke=\"black\" points=\"385.84,-529.5 395.84,-526 385.84,-522.5 385.84,-529.5\"/>\n",
       "</g>\n",
       "<!-- 3 -->\n",
       "<g id=\"node4\" class=\"node\">\n",
       "<title>3</title>\n",
       "<path fill=\"#e6853f\" stroke=\"black\" d=\"M724,-819.5C724,-819.5 616,-819.5 616,-819.5 610,-819.5 604,-813.5 604,-807.5 604,-807.5 604,-748.5 604,-748.5 604,-742.5 610,-736.5 616,-736.5 616,-736.5 724,-736.5 724,-736.5 730,-736.5 736,-742.5 736,-748.5 736,-748.5 736,-807.5 736,-807.5 736,-813.5 730,-819.5 724,-819.5\"/>\n",
       "<text text-anchor=\"start\" x=\"618\" y=\"-804.3\" font-family=\"Helvetica,sans-Serif\" font-size=\"14.00\">month_mar ≤ 0.5</text>\n",
       "<text text-anchor=\"start\" x=\"634.5\" y=\"-789.3\" font-family=\"Helvetica,sans-Serif\" font-size=\"14.00\">gini = 0.059</text>\n",
       "<text text-anchor=\"start\" x=\"617\" y=\"-774.3\" font-family=\"Helvetica,sans-Serif\" font-size=\"14.00\">samples = 59.2%</text>\n",
       "<text text-anchor=\"start\" x=\"612\" y=\"-759.3\" font-family=\"Helvetica,sans-Serif\" font-size=\"14.00\">value = [0.97, 0.03]</text>\n",
       "<text text-anchor=\"start\" x=\"639\" y=\"-744.3\" font-family=\"Helvetica,sans-Serif\" font-size=\"14.00\">class = no</text>\n",
       "</g>\n",
       "<!-- 2&#45;&gt;3 -->\n",
       "<g id=\"edge3\" class=\"edge\">\n",
       "<title>2&#45;&gt;3</title>\n",
       "<path fill=\"none\" stroke=\"black\" d=\"M543.01,-713.89C559.83,-722.45 577.75,-731.57 594.65,-740.17\"/>\n",
       "<polygon fill=\"black\" stroke=\"black\" points=\"593.42,-743.47 603.92,-744.89 596.59,-737.23 593.42,-743.47\"/>\n",
       "</g>\n",
       "<!-- 1126 -->\n",
       "<g id=\"node7\" class=\"node\">\n",
       "<title>1126</title>\n",
       "<path fill=\"#e99355\" stroke=\"black\" d=\"M731.5,-718.5C731.5,-718.5 608.5,-718.5 608.5,-718.5 602.5,-718.5 596.5,-712.5 596.5,-706.5 596.5,-706.5 596.5,-647.5 596.5,-647.5 596.5,-641.5 602.5,-635.5 608.5,-635.5 608.5,-635.5 731.5,-635.5 731.5,-635.5 737.5,-635.5 743.5,-641.5 743.5,-647.5 743.5,-647.5 743.5,-706.5 743.5,-706.5 743.5,-712.5 737.5,-718.5 731.5,-718.5\"/>\n",
       "<text text-anchor=\"start\" x=\"618\" y=\"-703.3\" font-family=\"Helvetica,sans-Serif\" font-size=\"14.00\">housing_no ≤ 0.5</text>\n",
       "<text text-anchor=\"start\" x=\"634.5\" y=\"-688.3\" font-family=\"Helvetica,sans-Serif\" font-size=\"14.00\">gini = 0.215</text>\n",
       "<text text-anchor=\"start\" x=\"617\" y=\"-673.3\" font-family=\"Helvetica,sans-Serif\" font-size=\"14.00\">samples = 26.9%</text>\n",
       "<text text-anchor=\"start\" x=\"604.5\" y=\"-658.3\" font-family=\"Helvetica,sans-Serif\" font-size=\"14.00\">value = [0.878, 0.122]</text>\n",
       "<text text-anchor=\"start\" x=\"639\" y=\"-643.3\" font-family=\"Helvetica,sans-Serif\" font-size=\"14.00\">class = no</text>\n",
       "</g>\n",
       "<!-- 2&#45;&gt;1126 -->\n",
       "<g id=\"edge6\" class=\"edge\">\n",
       "<title>2&#45;&gt;1126</title>\n",
       "<path fill=\"none\" stroke=\"black\" d=\"M543.01,-677C557,-677 571.76,-677 586.05,-677\"/>\n",
       "<polygon fill=\"black\" stroke=\"black\" points=\"586.36,-680.5 596.36,-677 586.36,-673.5 586.36,-680.5\"/>\n",
       "</g>\n",
       "<!-- 4 -->\n",
       "<g id=\"node5\" class=\"node\">\n",
       "<title>4</title>\n",
       "<path fill=\"#c0c0c0\" stroke=\"black\" d=\"M829,-848C829,-848 799,-848 799,-848 793,-848 787,-842 787,-836 787,-836 787,-824 787,-824 787,-818 793,-812 799,-812 799,-812 829,-812 829,-812 835,-812 841,-818 841,-824 841,-824 841,-836 841,-836 841,-842 835,-848 829,-848\"/>\n",
       "<text text-anchor=\"middle\" x=\"814\" y=\"-826.3\" font-family=\"Helvetica,sans-Serif\" font-size=\"14.00\">(...)</text>\n",
       "</g>\n",
       "<!-- 3&#45;&gt;4 -->\n",
       "<g id=\"edge4\" class=\"edge\">\n",
       "<title>3&#45;&gt;4</title>\n",
       "<path fill=\"none\" stroke=\"black\" d=\"M736.18,-801.87C750.33,-807.05 764.8,-812.35 777.3,-816.93\"/>\n",
       "<polygon fill=\"black\" stroke=\"black\" points=\"776.27,-820.28 786.86,-820.43 778.68,-813.7 776.27,-820.28\"/>\n",
       "</g>\n",
       "<!-- 1043 -->\n",
       "<g id=\"node6\" class=\"node\">\n",
       "<title>1043</title>\n",
       "<path fill=\"#c0c0c0\" stroke=\"black\" d=\"M829,-794C829,-794 799,-794 799,-794 793,-794 787,-788 787,-782 787,-782 787,-770 787,-770 787,-764 793,-758 799,-758 799,-758 829,-758 829,-758 835,-758 841,-764 841,-770 841,-770 841,-782 841,-782 841,-788 835,-794 829,-794\"/>\n",
       "<text text-anchor=\"middle\" x=\"814\" y=\"-772.3\" font-family=\"Helvetica,sans-Serif\" font-size=\"14.00\">(...)</text>\n",
       "</g>\n",
       "<!-- 3&#45;&gt;1043 -->\n",
       "<g id=\"edge5\" class=\"edge\">\n",
       "<title>3&#45;&gt;1043</title>\n",
       "<path fill=\"none\" stroke=\"black\" d=\"M736.18,-777.08C750.05,-776.89 764.22,-776.69 776.56,-776.51\"/>\n",
       "<polygon fill=\"black\" stroke=\"black\" points=\"776.91,-780.01 786.86,-776.37 776.82,-773.01 776.91,-780.01\"/>\n",
       "</g>\n",
       "<!-- 1127 -->\n",
       "<g id=\"node8\" class=\"node\">\n",
       "<title>1127</title>\n",
       "<path fill=\"#c0c0c0\" stroke=\"black\" d=\"M829,-740C829,-740 799,-740 799,-740 793,-740 787,-734 787,-728 787,-728 787,-716 787,-716 787,-710 793,-704 799,-704 799,-704 829,-704 829,-704 835,-704 841,-710 841,-716 841,-716 841,-728 841,-728 841,-734 835,-740 829,-740\"/>\n",
       "<text text-anchor=\"middle\" x=\"814\" y=\"-718.3\" font-family=\"Helvetica,sans-Serif\" font-size=\"14.00\">(...)</text>\n",
       "</g>\n",
       "<!-- 1126&#45;&gt;1127 -->\n",
       "<g id=\"edge7\" class=\"edge\">\n",
       "<title>1126&#45;&gt;1127</title>\n",
       "<path fill=\"none\" stroke=\"black\" d=\"M743.66,-700.03C755.23,-703.69 766.74,-707.34 776.96,-710.58\"/>\n",
       "<polygon fill=\"black\" stroke=\"black\" points=\"776.11,-713.98 786.7,-713.67 778.23,-707.31 776.11,-713.98\"/>\n",
       "</g>\n",
       "<!-- 1706 -->\n",
       "<g id=\"node9\" class=\"node\">\n",
       "<title>1706</title>\n",
       "<path fill=\"#c0c0c0\" stroke=\"black\" d=\"M829,-686C829,-686 799,-686 799,-686 793,-686 787,-680 787,-674 787,-674 787,-662 787,-662 787,-656 793,-650 799,-650 799,-650 829,-650 829,-650 835,-650 841,-656 841,-662 841,-662 841,-674 841,-674 841,-680 835,-686 829,-686\"/>\n",
       "<text text-anchor=\"middle\" x=\"814\" y=\"-664.3\" font-family=\"Helvetica,sans-Serif\" font-size=\"14.00\">(...)</text>\n",
       "</g>\n",
       "<!-- 1126&#45;&gt;1706 -->\n",
       "<g id=\"edge8\" class=\"edge\">\n",
       "<title>1126&#45;&gt;1706</title>\n",
       "<path fill=\"none\" stroke=\"black\" d=\"M743.66,-672.39C755.11,-671.67 766.5,-670.95 776.64,-670.3\"/>\n",
       "<polygon fill=\"black\" stroke=\"black\" points=\"776.94,-673.79 786.7,-669.67 776.5,-666.81 776.94,-673.79\"/>\n",
       "</g>\n",
       "<!-- 2648 -->\n",
       "<g id=\"node11\" class=\"node\">\n",
       "<title>2648</title>\n",
       "<path fill=\"#f0b890\" stroke=\"black\" d=\"M731.5,-617.5C731.5,-617.5 608.5,-617.5 608.5,-617.5 602.5,-617.5 596.5,-611.5 596.5,-605.5 596.5,-605.5 596.5,-546.5 596.5,-546.5 596.5,-540.5 602.5,-534.5 608.5,-534.5 608.5,-534.5 731.5,-534.5 731.5,-534.5 737.5,-534.5 743.5,-540.5 743.5,-546.5 743.5,-546.5 743.5,-605.5 743.5,-605.5 743.5,-611.5 737.5,-617.5 731.5,-617.5\"/>\n",
       "<text text-anchor=\"start\" x=\"621\" y=\"-602.3\" font-family=\"Helvetica,sans-Serif\" font-size=\"14.00\">duration ≤ 4.483</text>\n",
       "<text text-anchor=\"start\" x=\"634.5\" y=\"-587.3\" font-family=\"Helvetica,sans-Serif\" font-size=\"14.00\">gini = 0.423</text>\n",
       "<text text-anchor=\"start\" x=\"620.5\" y=\"-572.3\" font-family=\"Helvetica,sans-Serif\" font-size=\"14.00\">samples = 0.8%</text>\n",
       "<text text-anchor=\"start\" x=\"604.5\" y=\"-557.3\" font-family=\"Helvetica,sans-Serif\" font-size=\"14.00\">value = [0.696, 0.304]</text>\n",
       "<text text-anchor=\"start\" x=\"639\" y=\"-542.3\" font-family=\"Helvetica,sans-Serif\" font-size=\"14.00\">class = no</text>\n",
       "</g>\n",
       "<!-- 2647&#45;&gt;2648 -->\n",
       "<g id=\"edge10\" class=\"edge\">\n",
       "<title>2647&#45;&gt;2648</title>\n",
       "<path fill=\"none\" stroke=\"black\" d=\"M543.01,-544.26C557.13,-547.82 572.04,-551.58 586.47,-555.21\"/>\n",
       "<polygon fill=\"black\" stroke=\"black\" points=\"585.81,-558.65 596.36,-557.7 587.52,-551.87 585.81,-558.65\"/>\n",
       "</g>\n",
       "<!-- 2755 -->\n",
       "<g id=\"node14\" class=\"node\">\n",
       "<title>2755</title>\n",
       "<path fill=\"#83c2ef\" stroke=\"black\" d=\"M731.5,-516.5C731.5,-516.5 608.5,-516.5 608.5,-516.5 602.5,-516.5 596.5,-510.5 596.5,-504.5 596.5,-504.5 596.5,-445.5 596.5,-445.5 596.5,-439.5 602.5,-433.5 608.5,-433.5 608.5,-433.5 731.5,-433.5 731.5,-433.5 737.5,-433.5 743.5,-439.5 743.5,-445.5 743.5,-445.5 743.5,-504.5 743.5,-504.5 743.5,-510.5 737.5,-516.5 731.5,-516.5\"/>\n",
       "<text text-anchor=\"start\" x=\"618\" y=\"-501.3\" font-family=\"Helvetica,sans-Serif\" font-size=\"14.00\">housing_no ≤ 0.5</text>\n",
       "<text text-anchor=\"start\" x=\"634.5\" y=\"-486.3\" font-family=\"Helvetica,sans-Serif\" font-size=\"14.00\">gini = 0.396</text>\n",
       "<text text-anchor=\"start\" x=\"620.5\" y=\"-471.3\" font-family=\"Helvetica,sans-Serif\" font-size=\"14.00\">samples = 2.0%</text>\n",
       "<text text-anchor=\"start\" x=\"604.5\" y=\"-456.3\" font-family=\"Helvetica,sans-Serif\" font-size=\"14.00\">value = [0.272, 0.728]</text>\n",
       "<text text-anchor=\"start\" x=\"636\" y=\"-441.3\" font-family=\"Helvetica,sans-Serif\" font-size=\"14.00\">class = yes</text>\n",
       "</g>\n",
       "<!-- 2647&#45;&gt;2755 -->\n",
       "<g id=\"edge13\" class=\"edge\">\n",
       "<title>2647&#45;&gt;2755</title>\n",
       "<path fill=\"none\" stroke=\"black\" d=\"M543.01,-507.37C557.13,-503.74 572.04,-499.91 586.47,-496.21\"/>\n",
       "<polygon fill=\"black\" stroke=\"black\" points=\"587.54,-499.54 596.36,-493.66 585.8,-492.76 587.54,-499.54\"/>\n",
       "</g>\n",
       "<!-- 2649 -->\n",
       "<g id=\"node12\" class=\"node\">\n",
       "<title>2649</title>\n",
       "<path fill=\"#c0c0c0\" stroke=\"black\" d=\"M829,-632C829,-632 799,-632 799,-632 793,-632 787,-626 787,-620 787,-620 787,-608 787,-608 787,-602 793,-596 799,-596 799,-596 829,-596 829,-596 835,-596 841,-602 841,-608 841,-608 841,-620 841,-620 841,-626 835,-632 829,-632\"/>\n",
       "<text text-anchor=\"middle\" x=\"814\" y=\"-610.3\" font-family=\"Helvetica,sans-Serif\" font-size=\"14.00\">(...)</text>\n",
       "</g>\n",
       "<!-- 2648&#45;&gt;2649 -->\n",
       "<g id=\"edge11\" class=\"edge\">\n",
       "<title>2648&#45;&gt;2649</title>\n",
       "<path fill=\"none\" stroke=\"black\" d=\"M743.66,-595.45C755.23,-598.54 766.74,-601.62 776.96,-604.35\"/>\n",
       "<polygon fill=\"black\" stroke=\"black\" points=\"776.14,-607.76 786.7,-606.96 777.95,-601 776.14,-607.76\"/>\n",
       "</g>\n",
       "<!-- 2660 -->\n",
       "<g id=\"node13\" class=\"node\">\n",
       "<title>2660</title>\n",
       "<path fill=\"#c0c0c0\" stroke=\"black\" d=\"M829,-578C829,-578 799,-578 799,-578 793,-578 787,-572 787,-566 787,-566 787,-554 787,-554 787,-548 793,-542 799,-542 799,-542 829,-542 829,-542 835,-542 841,-548 841,-554 841,-554 841,-566 841,-566 841,-572 835,-578 829,-578\"/>\n",
       "<text text-anchor=\"middle\" x=\"814\" y=\"-556.3\" font-family=\"Helvetica,sans-Serif\" font-size=\"14.00\">(...)</text>\n",
       "</g>\n",
       "<!-- 2648&#45;&gt;2660 -->\n",
       "<g id=\"edge12\" class=\"edge\">\n",
       "<title>2648&#45;&gt;2660</title>\n",
       "<path fill=\"none\" stroke=\"black\" d=\"M743.66,-567.81C755.11,-566.52 766.5,-565.24 776.64,-564.1\"/>\n",
       "<polygon fill=\"black\" stroke=\"black\" points=\"777.16,-567.56 786.7,-562.96 776.37,-560.6 777.16,-567.56\"/>\n",
       "</g>\n",
       "<!-- 2756 -->\n",
       "<g id=\"node15\" class=\"node\">\n",
       "<title>2756</title>\n",
       "<path fill=\"#c0c0c0\" stroke=\"black\" d=\"M829,-524C829,-524 799,-524 799,-524 793,-524 787,-518 787,-512 787,-512 787,-500 787,-500 787,-494 793,-488 799,-488 799,-488 829,-488 829,-488 835,-488 841,-494 841,-500 841,-500 841,-512 841,-512 841,-518 835,-524 829,-524\"/>\n",
       "<text text-anchor=\"middle\" x=\"814\" y=\"-502.3\" font-family=\"Helvetica,sans-Serif\" font-size=\"14.00\">(...)</text>\n",
       "</g>\n",
       "<!-- 2755&#45;&gt;2756 -->\n",
       "<g id=\"edge14\" class=\"edge\">\n",
       "<title>2755&#45;&gt;2756</title>\n",
       "<path fill=\"none\" stroke=\"black\" d=\"M743.66,-490.86C755.11,-493.36 766.5,-495.85 776.64,-498.06\"/>\n",
       "<polygon fill=\"black\" stroke=\"black\" points=\"776.19,-501.55 786.7,-500.26 777.68,-494.71 776.19,-501.55\"/>\n",
       "</g>\n",
       "<!-- 2815 -->\n",
       "<g id=\"node16\" class=\"node\">\n",
       "<title>2815</title>\n",
       "<path fill=\"#c0c0c0\" stroke=\"black\" d=\"M829,-470C829,-470 799,-470 799,-470 793,-470 787,-464 787,-458 787,-458 787,-446 787,-446 787,-440 793,-434 799,-434 799,-434 829,-434 829,-434 835,-434 841,-440 841,-446 841,-446 841,-458 841,-458 841,-464 835,-470 829,-470\"/>\n",
       "<text text-anchor=\"middle\" x=\"814\" y=\"-448.3\" font-family=\"Helvetica,sans-Serif\" font-size=\"14.00\">(...)</text>\n",
       "</g>\n",
       "<!-- 2755&#45;&gt;2815 -->\n",
       "<g id=\"edge15\" class=\"edge\">\n",
       "<title>2755&#45;&gt;2815</title>\n",
       "<path fill=\"none\" stroke=\"black\" d=\"M743.66,-463.23C755.11,-461.38 766.5,-459.53 776.64,-457.89\"/>\n",
       "<polygon fill=\"black\" stroke=\"black\" points=\"777.39,-461.31 786.7,-456.26 776.27,-454.4 777.39,-461.31\"/>\n",
       "</g>\n",
       "<!-- 2975 -->\n",
       "<g id=\"node18\" class=\"node\">\n",
       "<title>2975</title>\n",
       "<path fill=\"#f4c8a8\" stroke=\"black\" d=\"M541,-364.5C541,-364.5 398,-364.5 398,-364.5 392,-364.5 386,-358.5 386,-352.5 386,-352.5 386,-293.5 386,-293.5 386,-287.5 392,-281.5 398,-281.5 398,-281.5 541,-281.5 541,-281.5 547,-281.5 553,-287.5 553,-293.5 553,-293.5 553,-352.5 553,-352.5 553,-358.5 547,-364.5 541,-364.5\"/>\n",
       "<text text-anchor=\"start\" x=\"394\" y=\"-349.3\" font-family=\"Helvetica,sans-Serif\" font-size=\"14.00\">poutcome_success ≤ 0.5</text>\n",
       "<text text-anchor=\"start\" x=\"437.5\" y=\"-334.3\" font-family=\"Helvetica,sans-Serif\" font-size=\"14.00\">gini = 0.46</text>\n",
       "<text text-anchor=\"start\" x=\"420\" y=\"-319.3\" font-family=\"Helvetica,sans-Serif\" font-size=\"14.00\">samples = 7.0%</text>\n",
       "<text text-anchor=\"start\" x=\"404\" y=\"-304.3\" font-family=\"Helvetica,sans-Serif\" font-size=\"14.00\">value = [0.641, 0.359]</text>\n",
       "<text text-anchor=\"start\" x=\"438.5\" y=\"-289.3\" font-family=\"Helvetica,sans-Serif\" font-size=\"14.00\">class = no</text>\n",
       "</g>\n",
       "<!-- 2974&#45;&gt;2975 -->\n",
       "<g id=\"edge17\" class=\"edge\">\n",
       "<title>2974&#45;&gt;2975</title>\n",
       "<path fill=\"none\" stroke=\"black\" d=\"M340.07,-323C351.66,-323 363.8,-323 375.78,-323\"/>\n",
       "<polygon fill=\"black\" stroke=\"black\" points=\"375.8,-326.5 385.8,-323 375.8,-319.5 375.8,-326.5\"/>\n",
       "</g>\n",
       "<!-- 3896 -->\n",
       "<g id=\"node25\" class=\"node\">\n",
       "<title>3896</title>\n",
       "<path fill=\"#c4e2f7\" stroke=\"black\" d=\"M531,-213.5C531,-213.5 408,-213.5 408,-213.5 402,-213.5 396,-207.5 396,-201.5 396,-201.5 396,-142.5 396,-142.5 396,-136.5 402,-130.5 408,-130.5 408,-130.5 531,-130.5 531,-130.5 537,-130.5 543,-136.5 543,-142.5 543,-142.5 543,-201.5 543,-201.5 543,-207.5 537,-213.5 531,-213.5\"/>\n",
       "<text text-anchor=\"start\" x=\"405.5\" y=\"-198.3\" font-family=\"Helvetica,sans-Serif\" font-size=\"14.00\">contact_cellular ≤ 0.5</text>\n",
       "<text text-anchor=\"start\" x=\"434\" y=\"-183.3\" font-family=\"Helvetica,sans-Serif\" font-size=\"14.00\">gini = 0.485</text>\n",
       "<text text-anchor=\"start\" x=\"420\" y=\"-168.3\" font-family=\"Helvetica,sans-Serif\" font-size=\"14.00\">samples = 4.0%</text>\n",
       "<text text-anchor=\"start\" x=\"404\" y=\"-153.3\" font-family=\"Helvetica,sans-Serif\" font-size=\"14.00\">value = [0.413, 0.587]</text>\n",
       "<text text-anchor=\"start\" x=\"435.5\" y=\"-138.3\" font-family=\"Helvetica,sans-Serif\" font-size=\"14.00\">class = yes</text>\n",
       "</g>\n",
       "<!-- 2974&#45;&gt;3896 -->\n",
       "<g id=\"edge24\" class=\"edge\">\n",
       "<title>2974&#45;&gt;3896</title>\n",
       "<path fill=\"none\" stroke=\"black\" d=\"M322.96,-281.34C348.44,-262.19 378.8,-239.39 405.18,-219.57\"/>\n",
       "<polygon fill=\"black\" stroke=\"black\" points=\"407.33,-222.33 413.22,-213.53 403.13,-216.73 407.33,-222.33\"/>\n",
       "</g>\n",
       "<!-- 2976 -->\n",
       "<g id=\"node19\" class=\"node\">\n",
       "<title>2976</title>\n",
       "<path fill=\"#f2c19d\" stroke=\"black\" d=\"M735.5,-415.5C735.5,-415.5 604.5,-415.5 604.5,-415.5 598.5,-415.5 592.5,-409.5 592.5,-403.5 592.5,-403.5 592.5,-344.5 592.5,-344.5 592.5,-338.5 598.5,-332.5 604.5,-332.5 604.5,-332.5 735.5,-332.5 735.5,-332.5 741.5,-332.5 747.5,-338.5 747.5,-344.5 747.5,-344.5 747.5,-403.5 747.5,-403.5 747.5,-409.5 741.5,-415.5 735.5,-415.5\"/>\n",
       "<text text-anchor=\"start\" x=\"600.5\" y=\"-400.3\" font-family=\"Helvetica,sans-Serif\" font-size=\"14.00\">contact_unknown ≤ 0.5</text>\n",
       "<text text-anchor=\"start\" x=\"634.5\" y=\"-385.3\" font-family=\"Helvetica,sans-Serif\" font-size=\"14.00\">gini = 0.446</text>\n",
       "<text text-anchor=\"start\" x=\"620.5\" y=\"-370.3\" font-family=\"Helvetica,sans-Serif\" font-size=\"14.00\">samples = 6.7%</text>\n",
       "<text text-anchor=\"start\" x=\"604.5\" y=\"-355.3\" font-family=\"Helvetica,sans-Serif\" font-size=\"14.00\">value = [0.664, 0.336]</text>\n",
       "<text text-anchor=\"start\" x=\"639\" y=\"-340.3\" font-family=\"Helvetica,sans-Serif\" font-size=\"14.00\">class = no</text>\n",
       "</g>\n",
       "<!-- 2975&#45;&gt;2976 -->\n",
       "<g id=\"edge18\" class=\"edge\">\n",
       "<title>2975&#45;&gt;2976</title>\n",
       "<path fill=\"none\" stroke=\"black\" d=\"M553.24,-344.26C562.98,-346.76 572.93,-349.32 582.71,-351.83\"/>\n",
       "<polygon fill=\"black\" stroke=\"black\" points=\"581.86,-355.23 592.42,-354.32 583.61,-348.45 581.86,-355.23\"/>\n",
       "</g>\n",
       "<!-- 3865 -->\n",
       "<g id=\"node22\" class=\"node\">\n",
       "<title>3865</title>\n",
       "<path fill=\"#63b2eb\" stroke=\"black\" d=\"M739,-314.5C739,-314.5 601,-314.5 601,-314.5 595,-314.5 589,-308.5 589,-302.5 589,-302.5 589,-243.5 589,-243.5 589,-237.5 595,-231.5 601,-231.5 601,-231.5 739,-231.5 739,-231.5 745,-231.5 751,-237.5 751,-243.5 751,-243.5 751,-302.5 751,-302.5 751,-308.5 745,-314.5 739,-314.5\"/>\n",
       "<text text-anchor=\"start\" x=\"597\" y=\"-299.3\" font-family=\"Helvetica,sans-Serif\" font-size=\"14.00\">education_primary ≤ 0.5</text>\n",
       "<text text-anchor=\"start\" x=\"638\" y=\"-284.3\" font-family=\"Helvetica,sans-Serif\" font-size=\"14.00\">gini = 0.29</text>\n",
       "<text text-anchor=\"start\" x=\"620.5\" y=\"-269.3\" font-family=\"Helvetica,sans-Serif\" font-size=\"14.00\">samples = 0.3%</text>\n",
       "<text text-anchor=\"start\" x=\"604.5\" y=\"-254.3\" font-family=\"Helvetica,sans-Serif\" font-size=\"14.00\">value = [0.176, 0.824]</text>\n",
       "<text text-anchor=\"start\" x=\"636\" y=\"-239.3\" font-family=\"Helvetica,sans-Serif\" font-size=\"14.00\">class = yes</text>\n",
       "</g>\n",
       "<!-- 2975&#45;&gt;3865 -->\n",
       "<g id=\"edge21\" class=\"edge\">\n",
       "<title>2975&#45;&gt;3865</title>\n",
       "<path fill=\"none\" stroke=\"black\" d=\"M553.24,-302.16C561.82,-300 570.57,-297.79 579.22,-295.61\"/>\n",
       "<polygon fill=\"black\" stroke=\"black\" points=\"580.09,-299 588.94,-293.17 578.38,-292.22 580.09,-299\"/>\n",
       "</g>\n",
       "<!-- 2977 -->\n",
       "<g id=\"node20\" class=\"node\">\n",
       "<title>2977</title>\n",
       "<path fill=\"#c0c0c0\" stroke=\"black\" d=\"M829,-416C829,-416 799,-416 799,-416 793,-416 787,-410 787,-404 787,-404 787,-392 787,-392 787,-386 793,-380 799,-380 799,-380 829,-380 829,-380 835,-380 841,-386 841,-392 841,-392 841,-404 841,-404 841,-410 835,-416 829,-416\"/>\n",
       "<text text-anchor=\"middle\" x=\"814\" y=\"-394.3\" font-family=\"Helvetica,sans-Serif\" font-size=\"14.00\">(...)</text>\n",
       "</g>\n",
       "<!-- 2976&#45;&gt;2977 -->\n",
       "<g id=\"edge19\" class=\"edge\">\n",
       "<title>2976&#45;&gt;2977</title>\n",
       "<path fill=\"none\" stroke=\"black\" d=\"M747.82,-386.98C757.96,-388.7 767.95,-390.39 776.94,-391.91\"/>\n",
       "<polygon fill=\"black\" stroke=\"black\" points=\"776.54,-395.39 786.99,-393.6 777.71,-388.49 776.54,-395.39\"/>\n",
       "</g>\n",
       "<!-- 3640 -->\n",
       "<g id=\"node21\" class=\"node\">\n",
       "<title>3640</title>\n",
       "<path fill=\"#c0c0c0\" stroke=\"black\" d=\"M829,-362C829,-362 799,-362 799,-362 793,-362 787,-356 787,-350 787,-350 787,-338 787,-338 787,-332 793,-326 799,-326 799,-326 829,-326 829,-326 835,-326 841,-332 841,-338 841,-338 841,-350 841,-350 841,-356 835,-362 829,-362\"/>\n",
       "<text text-anchor=\"middle\" x=\"814\" y=\"-340.3\" font-family=\"Helvetica,sans-Serif\" font-size=\"14.00\">(...)</text>\n",
       "</g>\n",
       "<!-- 2976&#45;&gt;3640 -->\n",
       "<g id=\"edge20\" class=\"edge\">\n",
       "<title>2976&#45;&gt;3640</title>\n",
       "<path fill=\"none\" stroke=\"black\" d=\"M747.82,-357.77C757.96,-355.63 767.95,-353.52 776.94,-351.62\"/>\n",
       "<polygon fill=\"black\" stroke=\"black\" points=\"777.93,-354.99 786.99,-349.5 776.48,-348.14 777.93,-354.99\"/>\n",
       "</g>\n",
       "<!-- 3866 -->\n",
       "<g id=\"node23\" class=\"node\">\n",
       "<title>3866</title>\n",
       "<path fill=\"#c0c0c0\" stroke=\"black\" d=\"M829,-308C829,-308 799,-308 799,-308 793,-308 787,-302 787,-296 787,-296 787,-284 787,-284 787,-278 793,-272 799,-272 799,-272 829,-272 829,-272 835,-272 841,-278 841,-284 841,-284 841,-296 841,-296 841,-302 835,-308 829,-308\"/>\n",
       "<text text-anchor=\"middle\" x=\"814\" y=\"-286.3\" font-family=\"Helvetica,sans-Serif\" font-size=\"14.00\">(...)</text>\n",
       "</g>\n",
       "<!-- 3865&#45;&gt;3866 -->\n",
       "<g id=\"edge22\" class=\"edge\">\n",
       "<title>3865&#45;&gt;3866</title>\n",
       "<path fill=\"none\" stroke=\"black\" d=\"M751.13,-282.59C760.05,-283.66 768.78,-284.71 776.74,-285.66\"/>\n",
       "<polygon fill=\"black\" stroke=\"black\" points=\"776.36,-289.14 786.7,-286.85 777.19,-282.19 776.36,-289.14\"/>\n",
       "</g>\n",
       "<!-- 3887 -->\n",
       "<g id=\"node24\" class=\"node\">\n",
       "<title>3887</title>\n",
       "<path fill=\"#c0c0c0\" stroke=\"black\" d=\"M829,-254C829,-254 799,-254 799,-254 793,-254 787,-248 787,-242 787,-242 787,-230 787,-230 787,-224 793,-218 799,-218 799,-218 829,-218 829,-218 835,-218 841,-224 841,-230 841,-230 841,-242 841,-242 841,-248 835,-254 829,-254\"/>\n",
       "<text text-anchor=\"middle\" x=\"814\" y=\"-232.3\" font-family=\"Helvetica,sans-Serif\" font-size=\"14.00\">(...)</text>\n",
       "</g>\n",
       "<!-- 3865&#45;&gt;3887 -->\n",
       "<g id=\"edge23\" class=\"edge\">\n",
       "<title>3865&#45;&gt;3887</title>\n",
       "<path fill=\"none\" stroke=\"black\" d=\"M751.13,-252.12C760.15,-249.77 768.98,-247.47 777,-245.38\"/>\n",
       "<polygon fill=\"black\" stroke=\"black\" points=\"777.91,-248.76 786.7,-242.85 776.14,-241.99 777.91,-248.76\"/>\n",
       "</g>\n",
       "<!-- 3897 -->\n",
       "<g id=\"node26\" class=\"node\">\n",
       "<title>3897</title>\n",
       "<path fill=\"#fbfdfe\" stroke=\"black\" d=\"M731.5,-213.5C731.5,-213.5 608.5,-213.5 608.5,-213.5 602.5,-213.5 596.5,-207.5 596.5,-201.5 596.5,-201.5 596.5,-142.5 596.5,-142.5 596.5,-136.5 602.5,-130.5 608.5,-130.5 608.5,-130.5 731.5,-130.5 731.5,-130.5 737.5,-130.5 743.5,-136.5 743.5,-142.5 743.5,-142.5 743.5,-201.5 743.5,-201.5 743.5,-207.5 737.5,-213.5 731.5,-213.5\"/>\n",
       "<text text-anchor=\"start\" x=\"617\" y=\"-198.3\" font-family=\"Helvetica,sans-Serif\" font-size=\"14.00\">month_may ≤ 0.5</text>\n",
       "<text text-anchor=\"start\" x=\"642\" y=\"-183.3\" font-family=\"Helvetica,sans-Serif\" font-size=\"14.00\">gini = 0.5</text>\n",
       "<text text-anchor=\"start\" x=\"620.5\" y=\"-168.3\" font-family=\"Helvetica,sans-Serif\" font-size=\"14.00\">samples = 1.3%</text>\n",
       "<text text-anchor=\"start\" x=\"604.5\" y=\"-153.3\" font-family=\"Helvetica,sans-Serif\" font-size=\"14.00\">value = [0.494, 0.506]</text>\n",
       "<text text-anchor=\"start\" x=\"636\" y=\"-138.3\" font-family=\"Helvetica,sans-Serif\" font-size=\"14.00\">class = yes</text>\n",
       "</g>\n",
       "<!-- 3896&#45;&gt;3897 -->\n",
       "<g id=\"edge25\" class=\"edge\">\n",
       "<title>3896&#45;&gt;3897</title>\n",
       "<path fill=\"none\" stroke=\"black\" d=\"M543.01,-172C557,-172 571.76,-172 586.05,-172\"/>\n",
       "<polygon fill=\"black\" stroke=\"black\" points=\"586.36,-175.5 596.36,-172 586.36,-168.5 586.36,-175.5\"/>\n",
       "</g>\n",
       "<!-- 4086 -->\n",
       "<g id=\"node29\" class=\"node\">\n",
       "<title>4086</title>\n",
       "<path fill=\"#aed7f4\" stroke=\"black\" d=\"M731.5,-112.5C731.5,-112.5 608.5,-112.5 608.5,-112.5 602.5,-112.5 596.5,-106.5 596.5,-100.5 596.5,-100.5 596.5,-41.5 596.5,-41.5 596.5,-35.5 602.5,-29.5 608.5,-29.5 608.5,-29.5 731.5,-29.5 731.5,-29.5 737.5,-29.5 743.5,-35.5 743.5,-41.5 743.5,-41.5 743.5,-100.5 743.5,-100.5 743.5,-106.5 737.5,-112.5 731.5,-112.5\"/>\n",
       "<text text-anchor=\"start\" x=\"638\" y=\"-97.3\" font-family=\"Helvetica,sans-Serif\" font-size=\"14.00\">age ≤ 54.5</text>\n",
       "<text text-anchor=\"start\" x=\"634.5\" y=\"-82.3\" font-family=\"Helvetica,sans-Serif\" font-size=\"14.00\">gini = 0.467</text>\n",
       "<text text-anchor=\"start\" x=\"620.5\" y=\"-67.3\" font-family=\"Helvetica,sans-Serif\" font-size=\"14.00\">samples = 2.7%</text>\n",
       "<text text-anchor=\"start\" x=\"604.5\" y=\"-52.3\" font-family=\"Helvetica,sans-Serif\" font-size=\"14.00\">value = [0.372, 0.628]</text>\n",
       "<text text-anchor=\"start\" x=\"636\" y=\"-37.3\" font-family=\"Helvetica,sans-Serif\" font-size=\"14.00\">class = yes</text>\n",
       "</g>\n",
       "<!-- 3896&#45;&gt;4086 -->\n",
       "<g id=\"edge28\" class=\"edge\">\n",
       "<title>3896&#45;&gt;4086</title>\n",
       "<path fill=\"none\" stroke=\"black\" d=\"M543.01,-135.11C557.4,-127.78 572.62,-120.04 587.3,-112.57\"/>\n",
       "<polygon fill=\"black\" stroke=\"black\" points=\"589.03,-115.62 596.36,-107.96 585.86,-109.38 589.03,-115.62\"/>\n",
       "</g>\n",
       "<!-- 3898 -->\n",
       "<g id=\"node27\" class=\"node\">\n",
       "<title>3898</title>\n",
       "<path fill=\"#c0c0c0\" stroke=\"black\" d=\"M829,-199C829,-199 799,-199 799,-199 793,-199 787,-193 787,-187 787,-187 787,-175 787,-175 787,-169 793,-163 799,-163 799,-163 829,-163 829,-163 835,-163 841,-169 841,-175 841,-175 841,-187 841,-187 841,-193 835,-199 829,-199\"/>\n",
       "<text text-anchor=\"middle\" x=\"814\" y=\"-177.3\" font-family=\"Helvetica,sans-Serif\" font-size=\"14.00\">(...)</text>\n",
       "</g>\n",
       "<!-- 3897&#45;&gt;3898 -->\n",
       "<g id=\"edge26\" class=\"edge\">\n",
       "<title>3897&#45;&gt;3898</title>\n",
       "<path fill=\"none\" stroke=\"black\" d=\"M743.66,-176.61C755.11,-177.33 766.5,-178.05 776.64,-178.7\"/>\n",
       "<polygon fill=\"black\" stroke=\"black\" points=\"776.5,-182.19 786.7,-179.33 776.94,-175.21 776.5,-182.19\"/>\n",
       "</g>\n",
       "<!-- 3977 -->\n",
       "<g id=\"node28\" class=\"node\">\n",
       "<title>3977</title>\n",
       "<path fill=\"#c0c0c0\" stroke=\"black\" d=\"M829,-145C829,-145 799,-145 799,-145 793,-145 787,-139 787,-133 787,-133 787,-121 787,-121 787,-115 793,-109 799,-109 799,-109 829,-109 829,-109 835,-109 841,-115 841,-121 841,-121 841,-133 841,-133 841,-139 835,-145 829,-145\"/>\n",
       "<text text-anchor=\"middle\" x=\"814\" y=\"-123.3\" font-family=\"Helvetica,sans-Serif\" font-size=\"14.00\">(...)</text>\n",
       "</g>\n",
       "<!-- 3897&#45;&gt;3977 -->\n",
       "<g id=\"edge27\" class=\"edge\">\n",
       "<title>3897&#45;&gt;3977</title>\n",
       "<path fill=\"none\" stroke=\"black\" d=\"M743.66,-148.97C755.23,-145.31 766.74,-141.66 776.96,-138.42\"/>\n",
       "<polygon fill=\"black\" stroke=\"black\" points=\"778.23,-141.69 786.7,-135.33 776.11,-135.02 778.23,-141.69\"/>\n",
       "</g>\n",
       "<!-- 4087 -->\n",
       "<g id=\"node30\" class=\"node\">\n",
       "<title>4087</title>\n",
       "<path fill=\"#c0c0c0\" stroke=\"black\" d=\"M829,-90C829,-90 799,-90 799,-90 793,-90 787,-84 787,-78 787,-78 787,-66 787,-66 787,-60 793,-54 799,-54 799,-54 829,-54 829,-54 835,-54 841,-60 841,-66 841,-66 841,-78 841,-78 841,-84 835,-90 829,-90\"/>\n",
       "<text text-anchor=\"middle\" x=\"814\" y=\"-68.3\" font-family=\"Helvetica,sans-Serif\" font-size=\"14.00\">(...)</text>\n",
       "</g>\n",
       "<!-- 4086&#45;&gt;4087 -->\n",
       "<g id=\"edge29\" class=\"edge\">\n",
       "<title>4086&#45;&gt;4087</title>\n",
       "<path fill=\"none\" stroke=\"black\" d=\"M743.66,-71.51C755.11,-71.59 766.5,-71.67 776.64,-71.74\"/>\n",
       "<polygon fill=\"black\" stroke=\"black\" points=\"776.68,-75.24 786.7,-71.81 776.73,-68.24 776.68,-75.24\"/>\n",
       "</g>\n",
       "<!-- 4402 -->\n",
       "<g id=\"node31\" class=\"node\">\n",
       "<title>4402</title>\n",
       "<path fill=\"#c0c0c0\" stroke=\"black\" d=\"M829,-36C829,-36 799,-36 799,-36 793,-36 787,-30 787,-24 787,-24 787,-12 787,-12 787,-6 793,0 799,0 799,0 829,0 829,0 835,0 841,-6 841,-12 841,-12 841,-24 841,-24 841,-30 835,-36 829,-36\"/>\n",
       "<text text-anchor=\"middle\" x=\"814\" y=\"-14.3\" font-family=\"Helvetica,sans-Serif\" font-size=\"14.00\">(...)</text>\n",
       "</g>\n",
       "<!-- 4086&#45;&gt;4402 -->\n",
       "<g id=\"edge30\" class=\"edge\">\n",
       "<title>4086&#45;&gt;4402</title>\n",
       "<path fill=\"none\" stroke=\"black\" d=\"M743.66,-43.88C755.35,-39.52 766.98,-35.18 777.28,-31.33\"/>\n",
       "<polygon fill=\"black\" stroke=\"black\" points=\"778.56,-34.59 786.7,-27.82 776.11,-28.03 778.56,-34.59\"/>\n",
       "</g>\n",
       "</g>\n",
       "</svg>\n"
      ],
      "text/plain": [
       "<graphviz.files.Source at 0x7fd9e6c599a0>"
      ]
     },
     "execution_count": 27,
     "metadata": {},
     "output_type": "execute_result"
    }
   ],
   "source": [
    "dot_data = export_graphviz(model_tree, out_file=None, \n",
    "                         feature_names=X_train.columns,  \n",
    "                         class_names=['no', 'yes'],  \n",
    "                         filled=True, rounded=True,  \n",
    "                         special_characters=True, \n",
    "                         rotate=True,\n",
    "                         proportion=True,\n",
    "                         max_depth=3)  \n",
    "graph = graphviz.Source(dot_data)  \n",
    "graph "
   ]
  },
  {
   "cell_type": "markdown",
   "metadata": {},
   "source": [
    "Let's evaluate our first decision tree model. "
   ]
  },
  {
   "cell_type": "code",
   "execution_count": 28,
   "metadata": {
    "ExecuteTime": {
     "end_time": "2020-07-15T10:16:55.439638Z",
     "start_time": "2020-07-15T10:16:55.325875Z"
    }
   },
   "outputs": [
    {
     "data": {
      "text/html": [
       "<div>\n",
       "<style scoped>\n",
       "    .dataframe tbody tr th:only-of-type {\n",
       "        vertical-align: middle;\n",
       "    }\n",
       "\n",
       "    .dataframe tbody tr th {\n",
       "        vertical-align: top;\n",
       "    }\n",
       "\n",
       "    .dataframe thead th {\n",
       "        text-align: right;\n",
       "    }\n",
       "</style>\n",
       "<table border=\"1\" class=\"dataframe\">\n",
       "  <thead>\n",
       "    <tr style=\"text-align: right;\">\n",
       "      <th>predicted</th>\n",
       "      <th>0</th>\n",
       "      <th>1</th>\n",
       "    </tr>\n",
       "    <tr>\n",
       "      <th>target</th>\n",
       "      <th></th>\n",
       "      <th></th>\n",
       "    </tr>\n",
       "  </thead>\n",
       "  <tbody>\n",
       "    <tr>\n",
       "      <th>0</th>\n",
       "      <td>7385</td>\n",
       "      <td>599</td>\n",
       "    </tr>\n",
       "    <tr>\n",
       "      <th>1</th>\n",
       "      <td>555</td>\n",
       "      <td>503</td>\n",
       "    </tr>\n",
       "  </tbody>\n",
       "</table>\n",
       "</div>"
      ],
      "text/plain": [
       "predicted     0    1\n",
       "target              \n",
       "0          7385  599\n",
       "1           555  503"
      ]
     },
     "execution_count": 28,
     "metadata": {},
     "output_type": "execute_result"
    }
   ],
   "source": [
    "y_pred = model_tree.predict(X_val)\n",
    "\n",
    "results.loc['DT-default',:] = compute_metrics(y_val, y_pred)\n",
    "\n",
    "confusion(y_val, y_pred)"
   ]
  },
  {
   "cell_type": "markdown",
   "metadata": {},
   "source": [
    "We can use the detailed classification report to decide if we have chosen the best metrics for our problem. \n",
    "\n",
    "From the detailed report we can see that the classification for the class `yes` is not very good."
   ]
  },
  {
   "cell_type": "code",
   "execution_count": 29,
   "metadata": {},
   "outputs": [
    {
     "name": "stdout",
     "output_type": "stream",
     "text": [
      "              precision    recall  f1-score   support\n",
      "\n",
      "          no       0.93      0.92      0.93      7984\n",
      "         yes       0.46      0.48      0.47      1058\n",
      "\n",
      "    accuracy                           0.87      9042\n",
      "   macro avg       0.69      0.70      0.70      9042\n",
      "weighted avg       0.87      0.87      0.87      9042\n",
      "\n"
     ]
    },
    {
     "data": {
      "text/html": [
       "<div>\n",
       "<style scoped>\n",
       "    .dataframe tbody tr th:only-of-type {\n",
       "        vertical-align: middle;\n",
       "    }\n",
       "\n",
       "    .dataframe tbody tr th {\n",
       "        vertical-align: top;\n",
       "    }\n",
       "\n",
       "    .dataframe thead th {\n",
       "        text-align: right;\n",
       "    }\n",
       "</style>\n",
       "<table border=\"1\" class=\"dataframe\">\n",
       "  <thead>\n",
       "    <tr style=\"text-align: right;\">\n",
       "      <th></th>\n",
       "      <th>Accuracy</th>\n",
       "      <th>F1-score (class 1)</th>\n",
       "      <th>F1-score (class 0)</th>\n",
       "      <th>F1-score (macro avg)</th>\n",
       "    </tr>\n",
       "  </thead>\n",
       "  <tbody>\n",
       "    <tr>\n",
       "      <th>DT-default</th>\n",
       "      <td>0.872</td>\n",
       "      <td>0.466</td>\n",
       "      <td>0.928</td>\n",
       "      <td>0.697</td>\n",
       "    </tr>\n",
       "  </tbody>\n",
       "</table>\n",
       "</div>"
      ],
      "text/plain": [
       "           Accuracy F1-score (class 1) F1-score (class 0) F1-score (macro avg)\n",
       "DT-default    0.872              0.466              0.928                0.697"
      ]
     },
     "execution_count": 29,
     "metadata": {},
     "output_type": "execute_result"
    }
   ],
   "source": [
    "print(classification_report(y_val,\n",
    "                            y_pred,\n",
    "                            target_names=['no', 'yes'],))\n",
    "\n",
    "results"
   ]
  },
  {
   "cell_type": "markdown",
   "metadata": {},
   "source": [
    "We can check if this model is overfitting by computing its train metrics and checking its complexity (is it a huge tree?)\n",
    "\n",
    "As we can see on our results this model is able to predict the training data perfectly. It is possible that it has adapted to much to it, and because of that, we are obtaining those bad results on our validation partition."
   ]
  },
  {
   "cell_type": "code",
   "execution_count": 30,
   "metadata": {},
   "outputs": [
    {
     "data": {
      "text/html": [
       "<div>\n",
       "<style scoped>\n",
       "    .dataframe tbody tr th:only-of-type {\n",
       "        vertical-align: middle;\n",
       "    }\n",
       "\n",
       "    .dataframe tbody tr th {\n",
       "        vertical-align: top;\n",
       "    }\n",
       "\n",
       "    .dataframe thead th {\n",
       "        text-align: right;\n",
       "    }\n",
       "</style>\n",
       "<table border=\"1\" class=\"dataframe\">\n",
       "  <thead>\n",
       "    <tr style=\"text-align: right;\">\n",
       "      <th>predicted</th>\n",
       "      <th>0</th>\n",
       "      <th>1</th>\n",
       "    </tr>\n",
       "    <tr>\n",
       "      <th>target</th>\n",
       "      <th></th>\n",
       "      <th></th>\n",
       "    </tr>\n",
       "  </thead>\n",
       "  <tbody>\n",
       "    <tr>\n",
       "      <th>0</th>\n",
       "      <td>23953</td>\n",
       "      <td>0</td>\n",
       "    </tr>\n",
       "    <tr>\n",
       "      <th>1</th>\n",
       "      <td>0</td>\n",
       "      <td>3173</td>\n",
       "    </tr>\n",
       "  </tbody>\n",
       "</table>\n",
       "</div>"
      ],
      "text/plain": [
       "predicted      0     1\n",
       "target                \n",
       "0          23953     0\n",
       "1              0  3173"
      ]
     },
     "execution_count": 30,
     "metadata": {},
     "output_type": "execute_result"
    },
    {
     "name": "stdout",
     "output_type": "stream",
     "text": [
      "              precision    recall  f1-score   support\n",
      "\n",
      "          no       1.00      1.00      1.00     23953\n",
      "         yes       1.00      1.00      1.00      3173\n",
      "\n",
      "    accuracy                           1.00     27126\n",
      "   macro avg       1.00      1.00      1.00     27126\n",
      "weighted avg       1.00      1.00      1.00     27126\n",
      "\n"
     ]
    }
   ],
   "source": [
    "y_pred_train = model_tree.predict(X_train)\n",
    "\n",
    "confusion(y_train,y_pred_train)\n",
    "\n",
    "print(classification_report(y_train,\n",
    "                            y_pred_train,\n",
    "                            target_names=['no', 'yes'],))"
   ]
  },
  {
   "cell_type": "markdown",
   "metadata": {},
   "source": [
    "If we check our classification tree we can see that the model with the default hyperparameters has generated a huge tree."
   ]
  },
  {
   "cell_type": "code",
   "execution_count": 31,
   "metadata": {},
   "outputs": [
    {
     "name": "stdout",
     "output_type": "stream",
     "text": [
      "Tree depht: 35\n",
      "Nodes: 4469\n"
     ]
    }
   ],
   "source": [
    "print('Tree depht: {}\\nNodes: {}'.format(model_tree.tree_.max_depth, model_tree.tree_.node_count))"
   ]
  },
  {
   "cell_type": "markdown",
   "metadata": {},
   "source": [
    "We can try to improve these results by optimizing its hyperparameters. We are going to use gridsearchcv from sklearn because its implementation is faster but we could just use our validation split to compare all the models. "
   ]
  },
  {
   "cell_type": "code",
   "execution_count": 32,
   "metadata": {},
   "outputs": [
    {
     "name": "stdout",
     "output_type": "stream",
     "text": [
      "0:03:20.139919\n"
     ]
    }
   ],
   "source": [
    "criterion = ['gini', 'entropy']\n",
    "max_dephts = [None, 5, 10, 15, 20]\n",
    "min_samples_split = [1, 2, 3, 4, 5]\n",
    "min_samples_leaf = [1, 2, 3, 4, 5]\n",
    "max_features = ['auto', 'sqrt', 'log2', None]\n",
    "\n",
    "from sklearn.model_selection import GridSearchCV\n",
    "from sklearn.metrics import make_scorer\n",
    "\n",
    "init_time = time()\n",
    "model_tree = DecisionTreeClassifier()\n",
    "\n",
    "f1_class_0_scorer = make_scorer(f1_score, pos_label=0)\n",
    "f1_class_1_scorer = make_scorer(f1_score, pos_label=1)\n",
    "\n",
    "scoring_dict = {\n",
    "    'f1_mac': 'f1_macro',\n",
    "    'f1_class_0': f1_class_0_scorer,\n",
    "    'f1_class_1': f1_class_1_scorer,\n",
    "    'acc': 'accuracy'\n",
    "}\n",
    "\n",
    "trc = GridSearchCV(estimator=model_tree,\n",
    "                   scoring=scoring_dict,\n",
    "                   param_grid={\n",
    "                       'criterion': criterion,\n",
    "                       'max_depth': max_dephts,\n",
    "                       'min_samples_split': min_samples_split,\n",
    "                       'min_samples_leaf': min_samples_leaf,\n",
    "                       'max_features': max_features\n",
    "                   },\n",
    "                   cv=5,\n",
    "                   return_train_score=False,\n",
    "                   refit='f1_mac')\n",
    "\n",
    "model_5CV = trc.fit(X_train, y_train)\n",
    "print(timedelta(seconds=(time() - init_time)))"
   ]
  },
  {
   "cell_type": "code",
   "execution_count": 33,
   "metadata": {},
   "outputs": [
    {
     "data": {
      "text/html": [
       "<div>\n",
       "<style scoped>\n",
       "    .dataframe tbody tr th:only-of-type {\n",
       "        vertical-align: middle;\n",
       "    }\n",
       "\n",
       "    .dataframe tbody tr th {\n",
       "        vertical-align: top;\n",
       "    }\n",
       "\n",
       "    .dataframe thead th {\n",
       "        text-align: right;\n",
       "    }\n",
       "</style>\n",
       "<table border=\"1\" class=\"dataframe\">\n",
       "  <thead>\n",
       "    <tr style=\"text-align: right;\">\n",
       "      <th></th>\n",
       "      <th>param_criterion</th>\n",
       "      <th>param_max_depth</th>\n",
       "      <th>param_max_features</th>\n",
       "      <th>param_min_samples_leaf</th>\n",
       "      <th>param_min_samples_split</th>\n",
       "      <th>mean_test_f1_mac</th>\n",
       "      <th>mean_test_f1_class_0</th>\n",
       "      <th>mean_test_f1_class_1</th>\n",
       "      <th>mean_test_acc</th>\n",
       "    </tr>\n",
       "  </thead>\n",
       "  <tbody>\n",
       "    <tr>\n",
       "      <th>888</th>\n",
       "      <td>entropy</td>\n",
       "      <td>15</td>\n",
       "      <td>None</td>\n",
       "      <td>3</td>\n",
       "      <td>4</td>\n",
       "      <td>0.715</td>\n",
       "      <td>0.939</td>\n",
       "      <td>0.49</td>\n",
       "      <td>0.891</td>\n",
       "    </tr>\n",
       "    <tr>\n",
       "      <th>887</th>\n",
       "      <td>entropy</td>\n",
       "      <td>15</td>\n",
       "      <td>None</td>\n",
       "      <td>3</td>\n",
       "      <td>3</td>\n",
       "      <td>0.714</td>\n",
       "      <td>0.939</td>\n",
       "      <td>0.49</td>\n",
       "      <td>0.891</td>\n",
       "    </tr>\n",
       "    <tr>\n",
       "      <th>886</th>\n",
       "      <td>entropy</td>\n",
       "      <td>15</td>\n",
       "      <td>None</td>\n",
       "      <td>3</td>\n",
       "      <td>2</td>\n",
       "      <td>0.714</td>\n",
       "      <td>0.939</td>\n",
       "      <td>0.49</td>\n",
       "      <td>0.891</td>\n",
       "    </tr>\n",
       "    <tr>\n",
       "      <th>879</th>\n",
       "      <td>entropy</td>\n",
       "      <td>15</td>\n",
       "      <td>None</td>\n",
       "      <td>1</td>\n",
       "      <td>5</td>\n",
       "      <td>0.714</td>\n",
       "      <td>0.939</td>\n",
       "      <td>0.49</td>\n",
       "      <td>0.891</td>\n",
       "    </tr>\n",
       "    <tr>\n",
       "      <th>876</th>\n",
       "      <td>entropy</td>\n",
       "      <td>15</td>\n",
       "      <td>None</td>\n",
       "      <td>1</td>\n",
       "      <td>2</td>\n",
       "      <td>0.714</td>\n",
       "      <td>0.938</td>\n",
       "      <td>0.49</td>\n",
       "      <td>0.889</td>\n",
       "    </tr>\n",
       "  </tbody>\n",
       "</table>\n",
       "</div>"
      ],
      "text/plain": [
       "    param_criterion param_max_depth param_max_features param_min_samples_leaf  \\\n",
       "888         entropy              15               None                      3   \n",
       "887         entropy              15               None                      3   \n",
       "886         entropy              15               None                      3   \n",
       "879         entropy              15               None                      1   \n",
       "876         entropy              15               None                      1   \n",
       "\n",
       "    param_min_samples_split  mean_test_f1_mac  mean_test_f1_class_0  \\\n",
       "888                       4             0.715                 0.939   \n",
       "887                       3             0.714                 0.939   \n",
       "886                       2             0.714                 0.939   \n",
       "879                       5             0.714                 0.939   \n",
       "876                       2             0.714                 0.938   \n",
       "\n",
       "     mean_test_f1_class_1  mean_test_acc  \n",
       "888                  0.49          0.891  \n",
       "887                  0.49          0.891  \n",
       "886                  0.49          0.891  \n",
       "879                  0.49          0.891  \n",
       "876                  0.49          0.889  "
      ]
     },
     "execution_count": 33,
     "metadata": {},
     "output_type": "execute_result"
    }
   ],
   "source": [
    "scoring_cols = [\n",
    "    'param_criterion', 'param_max_depth', 'param_max_features',\n",
    "    'param_min_samples_leaf', 'param_min_samples_split', 'mean_test_f1_mac',\n",
    "    'mean_test_f1_class_0', 'mean_test_f1_class_1', 'mean_test_acc'\n",
    "]\n",
    "\n",
    "pd.DataFrame(model_5CV.cv_results_).sort_values(by='mean_test_f1_mac',\n",
    "                                                 ascending=False)[scoring_cols].head()"
   ]
  },
  {
   "cell_type": "markdown",
   "metadata": {},
   "source": [
    "The best parameters we have found are "
   ]
  },
  {
   "cell_type": "code",
   "execution_count": 34,
   "metadata": {},
   "outputs": [
    {
     "data": {
      "text/plain": [
       "{'criterion': 'entropy',\n",
       " 'max_depth': 15,\n",
       " 'max_features': None,\n",
       " 'min_samples_leaf': 3,\n",
       " 'min_samples_split': 4}"
      ]
     },
     "execution_count": 34,
     "metadata": {},
     "output_type": "execute_result"
    }
   ],
   "source": [
    "best_params = model_5CV.best_params_\n",
    "best_params"
   ]
  },
  {
   "cell_type": "markdown",
   "metadata": {},
   "source": [
    "We can use our validation metrics to save our best decision tree.\n",
    "\n",
    "Our metrics show that the performance has improven a bit, but I would not trust my money on this prediction. Let's see if a more complex model can improve these results."
   ]
  },
  {
   "cell_type": "code",
   "execution_count": 35,
   "metadata": {},
   "outputs": [
    {
     "data": {
      "text/html": [
       "<div>\n",
       "<style scoped>\n",
       "    .dataframe tbody tr th:only-of-type {\n",
       "        vertical-align: middle;\n",
       "    }\n",
       "\n",
       "    .dataframe tbody tr th {\n",
       "        vertical-align: top;\n",
       "    }\n",
       "\n",
       "    .dataframe thead th {\n",
       "        text-align: right;\n",
       "    }\n",
       "</style>\n",
       "<table border=\"1\" class=\"dataframe\">\n",
       "  <thead>\n",
       "    <tr style=\"text-align: right;\">\n",
       "      <th>predicted</th>\n",
       "      <th>0</th>\n",
       "      <th>1</th>\n",
       "    </tr>\n",
       "    <tr>\n",
       "      <th>target</th>\n",
       "      <th></th>\n",
       "      <th></th>\n",
       "    </tr>\n",
       "  </thead>\n",
       "  <tbody>\n",
       "    <tr>\n",
       "      <th>0</th>\n",
       "      <td>7629</td>\n",
       "      <td>355</td>\n",
       "    </tr>\n",
       "    <tr>\n",
       "      <th>1</th>\n",
       "      <td>580</td>\n",
       "      <td>478</td>\n",
       "    </tr>\n",
       "  </tbody>\n",
       "</table>\n",
       "</div>"
      ],
      "text/plain": [
       "predicted     0    1\n",
       "target              \n",
       "0          7629  355\n",
       "1           580  478"
      ]
     },
     "execution_count": 35,
     "metadata": {},
     "output_type": "execute_result"
    },
    {
     "data": {
      "text/html": [
       "<div>\n",
       "<style scoped>\n",
       "    .dataframe tbody tr th:only-of-type {\n",
       "        vertical-align: middle;\n",
       "    }\n",
       "\n",
       "    .dataframe tbody tr th {\n",
       "        vertical-align: top;\n",
       "    }\n",
       "\n",
       "    .dataframe thead th {\n",
       "        text-align: right;\n",
       "    }\n",
       "</style>\n",
       "<table border=\"1\" class=\"dataframe\">\n",
       "  <thead>\n",
       "    <tr style=\"text-align: right;\">\n",
       "      <th></th>\n",
       "      <th>Accuracy</th>\n",
       "      <th>F1-score (class 1)</th>\n",
       "      <th>F1-score (class 0)</th>\n",
       "      <th>F1-score (macro avg)</th>\n",
       "    </tr>\n",
       "  </thead>\n",
       "  <tbody>\n",
       "    <tr>\n",
       "      <th>DT-best</th>\n",
       "      <td>0.897</td>\n",
       "      <td>0.506</td>\n",
       "      <td>0.942</td>\n",
       "      <td>0.724</td>\n",
       "    </tr>\n",
       "    <tr>\n",
       "      <th>DT-default</th>\n",
       "      <td>0.872</td>\n",
       "      <td>0.466</td>\n",
       "      <td>0.928</td>\n",
       "      <td>0.697</td>\n",
       "    </tr>\n",
       "  </tbody>\n",
       "</table>\n",
       "</div>"
      ],
      "text/plain": [
       "           Accuracy F1-score (class 1) F1-score (class 0) F1-score (macro avg)\n",
       "DT-best       0.897              0.506              0.942                0.724\n",
       "DT-default    0.872              0.466              0.928                0.697"
      ]
     },
     "execution_count": 35,
     "metadata": {},
     "output_type": "execute_result"
    }
   ],
   "source": [
    "y_pred = model_5CV.predict(X_val)\n",
    "\n",
    "results.loc['DT-best',:] = compute_metrics(y_val, y_pred)\n",
    "\n",
    "confusion(y_val,y_pred)\n",
    "results.sort_values(by='F1-score (macro avg)', ascending=False)"
   ]
  },
  {
   "cell_type": "markdown",
   "metadata": {},
   "source": [
    "***"
   ]
  },
  {
   "cell_type": "markdown",
   "metadata": {},
   "source": [
    "### Random Forests\n",
    "\n",
    "Random Forest is an ensemble of Decision Trees; the idea is that by averaging high-variance but decorrelated individual decision trees we will avoid their tendency to overfitting. \n",
    "\n",
    "We also introduce the **Out-of-Bag** (OOB) error. This error is a metric that we can compute on Random Forest model while training. It is very very useful because it allows us to perform model selection (tune hyperparameters) without having to execute costly cross-validations.\n",
    "\n",
    "While training, RF separates the data into subsets with replacement and trains the different trees of the forest with them. The OOB score is obtained by computing the accuracy of the trees on a set of samples that are not being used to train each specific tree. So, it acts as a **validation** score rather than a training one.\n"
   ]
  },
  {
   "cell_type": "code",
   "execution_count": 36,
   "metadata": {
    "ExecuteTime": {
     "end_time": "2020-07-15T10:16:59.297465Z",
     "start_time": "2020-07-15T10:16:55.784208Z"
    }
   },
   "outputs": [
    {
     "data": {
      "text/html": [
       "<div>\n",
       "<style scoped>\n",
       "    .dataframe tbody tr th:only-of-type {\n",
       "        vertical-align: middle;\n",
       "    }\n",
       "\n",
       "    .dataframe tbody tr th {\n",
       "        vertical-align: top;\n",
       "    }\n",
       "\n",
       "    .dataframe thead th {\n",
       "        text-align: right;\n",
       "    }\n",
       "</style>\n",
       "<table border=\"1\" class=\"dataframe\">\n",
       "  <thead>\n",
       "    <tr style=\"text-align: right;\">\n",
       "      <th>predicted</th>\n",
       "      <th>0</th>\n",
       "      <th>1</th>\n",
       "    </tr>\n",
       "    <tr>\n",
       "      <th>target</th>\n",
       "      <th></th>\n",
       "      <th></th>\n",
       "    </tr>\n",
       "  </thead>\n",
       "  <tbody>\n",
       "    <tr>\n",
       "      <th>0</th>\n",
       "      <td>23953</td>\n",
       "      <td>0</td>\n",
       "    </tr>\n",
       "    <tr>\n",
       "      <th>1</th>\n",
       "      <td>0</td>\n",
       "      <td>3173</td>\n",
       "    </tr>\n",
       "  </tbody>\n",
       "</table>\n",
       "</div>"
      ],
      "text/plain": [
       "predicted      0     1\n",
       "target                \n",
       "0          23953     0\n",
       "1              0  3173"
      ]
     },
     "execution_count": 36,
     "metadata": {},
     "output_type": "execute_result"
    },
    {
     "name": "stdout",
     "output_type": "stream",
     "text": [
      "              precision    recall  f1-score   support\n",
      "\n",
      "          no       1.00      1.00      1.00     23953\n",
      "         yes       1.00      1.00      1.00      3173\n",
      "\n",
      "    accuracy                           1.00     27126\n",
      "   macro avg       1.00      1.00      1.00     27126\n",
      "weighted avg       1.00      1.00      1.00     27126\n",
      "\n",
      "OOB accuracy= 0.902049694020497\n"
     ]
    }
   ],
   "source": [
    "model_rf1 = RandomForestClassifier(oob_score=True).fit(X_train, y_train)\n",
    "\n",
    "pred = model_rf1.predict(X_train)\n",
    "\n",
    "confusion(y_train,pred)\n",
    "\n",
    "print(classification_report(y_train,\n",
    "                            pred,\n",
    "                            target_names=['no', 'yes'],))\n",
    "\n",
    "print('OOB accuracy=', model_rf1.oob_score_)"
   ]
  },
  {
   "cell_type": "markdown",
   "metadata": {},
   "source": [
    "We can obtain an estimation of the validation accuaracy for free this way.  \n",
    "\n",
    "let's compute the real validation error:"
   ]
  },
  {
   "cell_type": "code",
   "execution_count": 37,
   "metadata": {
    "ExecuteTime": {
     "end_time": "2020-07-15T10:16:59.527365Z",
     "start_time": "2020-07-15T10:16:59.299493Z"
    }
   },
   "outputs": [
    {
     "name": "stdout",
     "output_type": "stream",
     "text": [
      "Validation Accuracy:0.904777704047777\n"
     ]
    },
    {
     "data": {
      "text/html": [
       "<div>\n",
       "<style scoped>\n",
       "    .dataframe tbody tr th:only-of-type {\n",
       "        vertical-align: middle;\n",
       "    }\n",
       "\n",
       "    .dataframe tbody tr th {\n",
       "        vertical-align: top;\n",
       "    }\n",
       "\n",
       "    .dataframe thead th {\n",
       "        text-align: right;\n",
       "    }\n",
       "</style>\n",
       "<table border=\"1\" class=\"dataframe\">\n",
       "  <thead>\n",
       "    <tr style=\"text-align: right;\">\n",
       "      <th>predicted</th>\n",
       "      <th>0</th>\n",
       "      <th>1</th>\n",
       "    </tr>\n",
       "    <tr>\n",
       "      <th>target</th>\n",
       "      <th></th>\n",
       "      <th></th>\n",
       "    </tr>\n",
       "  </thead>\n",
       "  <tbody>\n",
       "    <tr>\n",
       "      <th>0</th>\n",
       "      <td>7781</td>\n",
       "      <td>203</td>\n",
       "    </tr>\n",
       "    <tr>\n",
       "      <th>1</th>\n",
       "      <td>658</td>\n",
       "      <td>400</td>\n",
       "    </tr>\n",
       "  </tbody>\n",
       "</table>\n",
       "</div>"
      ],
      "text/plain": [
       "predicted     0    1\n",
       "target              \n",
       "0          7781  203\n",
       "1           658  400"
      ]
     },
     "execution_count": 37,
     "metadata": {},
     "output_type": "execute_result"
    }
   ],
   "source": [
    "y_pred = model_rf1.predict(X_val)\n",
    "print('Validation Accuracy:{}'.format(model_rf1.score(X_val,y_val)))\n",
    "results.loc['RF-default',:] = compute_metrics(y_val,y_pred)\n",
    "confusion(y_val,y_pred)"
   ]
  },
  {
   "cell_type": "markdown",
   "metadata": {},
   "source": [
    "We can see that the OOB accuracy has estimated quite well the real validation one. \n",
    "\n",
    "Also, our Random Forest looks better than the DT, but it is far from perfect."
   ]
  },
  {
   "cell_type": "code",
   "execution_count": 38,
   "metadata": {},
   "outputs": [
    {
     "data": {
      "text/html": [
       "<div>\n",
       "<style scoped>\n",
       "    .dataframe tbody tr th:only-of-type {\n",
       "        vertical-align: middle;\n",
       "    }\n",
       "\n",
       "    .dataframe tbody tr th {\n",
       "        vertical-align: top;\n",
       "    }\n",
       "\n",
       "    .dataframe thead th {\n",
       "        text-align: right;\n",
       "    }\n",
       "</style>\n",
       "<table border=\"1\" class=\"dataframe\">\n",
       "  <thead>\n",
       "    <tr style=\"text-align: right;\">\n",
       "      <th></th>\n",
       "      <th>Accuracy</th>\n",
       "      <th>F1-score (class 1)</th>\n",
       "      <th>F1-score (class 0)</th>\n",
       "      <th>F1-score (macro avg)</th>\n",
       "    </tr>\n",
       "  </thead>\n",
       "  <tbody>\n",
       "    <tr>\n",
       "      <th>DT-best</th>\n",
       "      <td>0.897</td>\n",
       "      <td>0.506</td>\n",
       "      <td>0.942</td>\n",
       "      <td>0.724</td>\n",
       "    </tr>\n",
       "    <tr>\n",
       "      <th>RF-default</th>\n",
       "      <td>0.905</td>\n",
       "      <td>0.482</td>\n",
       "      <td>0.948</td>\n",
       "      <td>0.715</td>\n",
       "    </tr>\n",
       "    <tr>\n",
       "      <th>DT-default</th>\n",
       "      <td>0.872</td>\n",
       "      <td>0.466</td>\n",
       "      <td>0.928</td>\n",
       "      <td>0.697</td>\n",
       "    </tr>\n",
       "  </tbody>\n",
       "</table>\n",
       "</div>"
      ],
      "text/plain": [
       "           Accuracy F1-score (class 1) F1-score (class 0) F1-score (macro avg)\n",
       "DT-best       0.897              0.506              0.942                0.724\n",
       "RF-default    0.905              0.482              0.948                0.715\n",
       "DT-default    0.872              0.466              0.928                0.697"
      ]
     },
     "execution_count": 38,
     "metadata": {},
     "output_type": "execute_result"
    }
   ],
   "source": [
    "results.sort_values(by='F1-score (macro avg)', ascending=False)"
   ]
  },
  {
   "cell_type": "markdown",
   "metadata": {},
   "source": [
    "So OOB really works in estimating accuracy and the RF is better than a single tree; however, there is a big issue with the imbalance in our target class.\n",
    "\n",
    "One way to deal with this is to include **class weights**"
   ]
  },
  {
   "cell_type": "code",
   "execution_count": 39,
   "metadata": {
    "ExecuteTime": {
     "end_time": "2020-07-15T10:17:03.172234Z",
     "start_time": "2020-07-15T10:16:59.789533Z"
    }
   },
   "outputs": [
    {
     "data": {
      "text/html": [
       "<div>\n",
       "<style scoped>\n",
       "    .dataframe tbody tr th:only-of-type {\n",
       "        vertical-align: middle;\n",
       "    }\n",
       "\n",
       "    .dataframe tbody tr th {\n",
       "        vertical-align: top;\n",
       "    }\n",
       "\n",
       "    .dataframe thead th {\n",
       "        text-align: right;\n",
       "    }\n",
       "</style>\n",
       "<table border=\"1\" class=\"dataframe\">\n",
       "  <thead>\n",
       "    <tr style=\"text-align: right;\">\n",
       "      <th>predicted</th>\n",
       "      <th>0</th>\n",
       "      <th>1</th>\n",
       "    </tr>\n",
       "    <tr>\n",
       "      <th>target</th>\n",
       "      <th></th>\n",
       "      <th></th>\n",
       "    </tr>\n",
       "  </thead>\n",
       "  <tbody>\n",
       "    <tr>\n",
       "      <th>0</th>\n",
       "      <td>23953</td>\n",
       "      <td>0</td>\n",
       "    </tr>\n",
       "    <tr>\n",
       "      <th>1</th>\n",
       "      <td>0</td>\n",
       "      <td>3173</td>\n",
       "    </tr>\n",
       "  </tbody>\n",
       "</table>\n",
       "</div>"
      ],
      "text/plain": [
       "predicted      0     1\n",
       "target                \n",
       "0          23953     0\n",
       "1              0  3173"
      ]
     },
     "execution_count": 39,
     "metadata": {},
     "output_type": "execute_result"
    },
    {
     "name": "stdout",
     "output_type": "stream",
     "text": [
      "              precision    recall  f1-score   support\n",
      "\n",
      "          no       1.00      1.00      1.00     23953\n",
      "         yes       1.00      1.00      1.00      3173\n",
      "\n",
      "    accuracy                           1.00     27126\n",
      "   macro avg       1.00      1.00      1.00     27126\n",
      "weighted avg       1.00      1.00      1.00     27126\n",
      "\n",
      "OOB accuracy= 0.9001327140013271\n"
     ]
    }
   ],
   "source": [
    "model_rf2 = RandomForestClassifier(n_estimators=100, \n",
    "                                   oob_score=True, \n",
    "                                   class_weight='balanced').fit(X_train, y_train)\n",
    "\n",
    "pred = model_rf2.predict(X_train)\n",
    "\n",
    "confusion(y_train, pred)\n",
    "\n",
    "print(classification_report(y_train,pred,target_names=['no', 'yes'],))\n",
    "\n",
    "print('OOB accuracy=', model_rf2.oob_score_)"
   ]
  },
  {
   "cell_type": "markdown",
   "metadata": {},
   "source": [
    "with a better balance; let's compute the real validation error:"
   ]
  },
  {
   "cell_type": "code",
   "execution_count": 40,
   "metadata": {
    "ExecuteTime": {
     "end_time": "2020-07-15T10:17:03.402581Z",
     "start_time": "2020-07-15T10:17:03.173984Z"
    }
   },
   "outputs": [
    {
     "data": {
      "text/html": [
       "<div>\n",
       "<style scoped>\n",
       "    .dataframe tbody tr th:only-of-type {\n",
       "        vertical-align: middle;\n",
       "    }\n",
       "\n",
       "    .dataframe tbody tr th {\n",
       "        vertical-align: top;\n",
       "    }\n",
       "\n",
       "    .dataframe thead th {\n",
       "        text-align: right;\n",
       "    }\n",
       "</style>\n",
       "<table border=\"1\" class=\"dataframe\">\n",
       "  <thead>\n",
       "    <tr style=\"text-align: right;\">\n",
       "      <th>predicted</th>\n",
       "      <th>0</th>\n",
       "      <th>1</th>\n",
       "    </tr>\n",
       "    <tr>\n",
       "      <th>target</th>\n",
       "      <th></th>\n",
       "      <th></th>\n",
       "    </tr>\n",
       "  </thead>\n",
       "  <tbody>\n",
       "    <tr>\n",
       "      <th>0</th>\n",
       "      <td>7825</td>\n",
       "      <td>159</td>\n",
       "    </tr>\n",
       "    <tr>\n",
       "      <th>1</th>\n",
       "      <td>711</td>\n",
       "      <td>347</td>\n",
       "    </tr>\n",
       "  </tbody>\n",
       "</table>\n",
       "</div>"
      ],
      "text/plain": [
       "predicted     0    1\n",
       "target              \n",
       "0          7825  159\n",
       "1           711  347"
      ]
     },
     "execution_count": 40,
     "metadata": {},
     "output_type": "execute_result"
    }
   ],
   "source": [
    "y_pred = model_rf2.predict(X_val)\n",
    "\n",
    "results.loc['RF-balance',:] = compute_metrics(y_val,y_pred)\n",
    "\n",
    "confusion(y_val,y_pred)"
   ]
  },
  {
   "cell_type": "code",
   "execution_count": 41,
   "metadata": {},
   "outputs": [
    {
     "data": {
      "text/html": [
       "<div>\n",
       "<style scoped>\n",
       "    .dataframe tbody tr th:only-of-type {\n",
       "        vertical-align: middle;\n",
       "    }\n",
       "\n",
       "    .dataframe tbody tr th {\n",
       "        vertical-align: top;\n",
       "    }\n",
       "\n",
       "    .dataframe thead th {\n",
       "        text-align: right;\n",
       "    }\n",
       "</style>\n",
       "<table border=\"1\" class=\"dataframe\">\n",
       "  <thead>\n",
       "    <tr style=\"text-align: right;\">\n",
       "      <th></th>\n",
       "      <th>Accuracy</th>\n",
       "      <th>F1-score (class 1)</th>\n",
       "      <th>F1-score (class 0)</th>\n",
       "      <th>F1-score (macro avg)</th>\n",
       "    </tr>\n",
       "  </thead>\n",
       "  <tbody>\n",
       "    <tr>\n",
       "      <th>DT-best</th>\n",
       "      <td>0.897</td>\n",
       "      <td>0.506</td>\n",
       "      <td>0.942</td>\n",
       "      <td>0.724</td>\n",
       "    </tr>\n",
       "    <tr>\n",
       "      <th>RF-default</th>\n",
       "      <td>0.905</td>\n",
       "      <td>0.482</td>\n",
       "      <td>0.948</td>\n",
       "      <td>0.715</td>\n",
       "    </tr>\n",
       "    <tr>\n",
       "      <th>DT-default</th>\n",
       "      <td>0.872</td>\n",
       "      <td>0.466</td>\n",
       "      <td>0.928</td>\n",
       "      <td>0.697</td>\n",
       "    </tr>\n",
       "    <tr>\n",
       "      <th>RF-balance</th>\n",
       "      <td>0.904</td>\n",
       "      <td>0.444</td>\n",
       "      <td>0.947</td>\n",
       "      <td>0.696</td>\n",
       "    </tr>\n",
       "  </tbody>\n",
       "</table>\n",
       "</div>"
      ],
      "text/plain": [
       "           Accuracy F1-score (class 1) F1-score (class 0) F1-score (macro avg)\n",
       "DT-best       0.897              0.506              0.942                0.724\n",
       "RF-default    0.905              0.482              0.948                0.715\n",
       "DT-default    0.872              0.466              0.928                0.697\n",
       "RF-balance    0.904              0.444              0.947                0.696"
      ]
     },
     "execution_count": 41,
     "metadata": {},
     "output_type": "execute_result"
    }
   ],
   "source": [
    "results.sort_values(by='F1-score (macro avg)', ascending=False)"
   ]
  },
  {
   "cell_type": "markdown",
   "metadata": {},
   "source": [
    "This is not helping a lot. Now there are two approaches that we could take: \n",
    "* We could try to handle the imbalance problem. \n",
    "* We could try to regularize our model, it has a clear overfitting problem.\n",
    "\n",
    "We will try first tuning our model hyperparameters so it can handle better the overfitting.\n",
    "\n",
    "Note that the parameter sets have been reduced to make the grid search faster on the lab."
   ]
  },
  {
   "cell_type": "code",
   "execution_count": 42,
   "metadata": {},
   "outputs": [
    {
     "name": "stdout",
     "output_type": "stream",
     "text": [
      "0:01:04.201023\n"
     ]
    }
   ],
   "source": [
    "init_time = time()\n",
    "\n",
    "rf_model = RandomForestClassifier()\n",
    "\n",
    "ntrees = [200,None]\n",
    "max_depth = [100,None]\n",
    "min_samples_split = [4,6]\n",
    "min_samples_leaf = [4,6]\n",
    "balance = [None, 'balanced', 'balanced_subsample']\n",
    "\n",
    "trc = GridSearchCV(estimator=rf_model,\n",
    "                   scoring=scoring_dict,\n",
    "                   param_grid={\n",
    "                       'n_estimators': ntrees,\n",
    "                       'max_depth':max_depth,\n",
    "                       'min_samples_split':min_samples_split,\n",
    "                       'min_samples_leaf':min_samples_leaf, \n",
    "                       'class_weight':balance\n",
    "                   },\n",
    "                   cv=5,\n",
    "                   return_train_score=False,\n",
    "                   refit=False,\n",
    "                   n_jobs=-1)\n",
    "\n",
    "model_5CV = trc.fit(X_train, y_train)\n",
    "print(timedelta(seconds=(time() - init_time)))"
   ]
  },
  {
   "cell_type": "code",
   "execution_count": 43,
   "metadata": {
    "scrolled": true
   },
   "outputs": [
    {
     "data": {
      "text/html": [
       "<div>\n",
       "<style scoped>\n",
       "    .dataframe tbody tr th:only-of-type {\n",
       "        vertical-align: middle;\n",
       "    }\n",
       "\n",
       "    .dataframe tbody tr th {\n",
       "        vertical-align: top;\n",
       "    }\n",
       "\n",
       "    .dataframe thead th {\n",
       "        text-align: right;\n",
       "    }\n",
       "</style>\n",
       "<table border=\"1\" class=\"dataframe\">\n",
       "  <thead>\n",
       "    <tr style=\"text-align: right;\">\n",
       "      <th></th>\n",
       "      <th>param_max_depth</th>\n",
       "      <th>param_min_samples_leaf</th>\n",
       "      <th>param_min_samples_split</th>\n",
       "      <th>mean_test_f1_mac</th>\n",
       "      <th>mean_test_f1_class_0</th>\n",
       "      <th>mean_test_f1_class_1</th>\n",
       "      <th>mean_test_acc</th>\n",
       "    </tr>\n",
       "  </thead>\n",
       "  <tbody>\n",
       "    <tr>\n",
       "      <th>42</th>\n",
       "      <td>None</td>\n",
       "      <td>4</td>\n",
       "      <td>6</td>\n",
       "      <td>0.770</td>\n",
       "      <td>0.933</td>\n",
       "      <td>0.607</td>\n",
       "      <td>0.886</td>\n",
       "    </tr>\n",
       "    <tr>\n",
       "      <th>16</th>\n",
       "      <td>100</td>\n",
       "      <td>4</td>\n",
       "      <td>4</td>\n",
       "      <td>0.770</td>\n",
       "      <td>0.933</td>\n",
       "      <td>0.606</td>\n",
       "      <td>0.886</td>\n",
       "    </tr>\n",
       "    <tr>\n",
       "      <th>34</th>\n",
       "      <td>100</td>\n",
       "      <td>4</td>\n",
       "      <td>6</td>\n",
       "      <td>0.769</td>\n",
       "      <td>0.933</td>\n",
       "      <td>0.605</td>\n",
       "      <td>0.885</td>\n",
       "    </tr>\n",
       "    <tr>\n",
       "      <th>18</th>\n",
       "      <td>100</td>\n",
       "      <td>4</td>\n",
       "      <td>6</td>\n",
       "      <td>0.768</td>\n",
       "      <td>0.933</td>\n",
       "      <td>0.604</td>\n",
       "      <td>0.885</td>\n",
       "    </tr>\n",
       "    <tr>\n",
       "      <th>40</th>\n",
       "      <td>None</td>\n",
       "      <td>4</td>\n",
       "      <td>4</td>\n",
       "      <td>0.768</td>\n",
       "      <td>0.933</td>\n",
       "      <td>0.603</td>\n",
       "      <td>0.885</td>\n",
       "    </tr>\n",
       "  </tbody>\n",
       "</table>\n",
       "</div>"
      ],
      "text/plain": [
       "   param_max_depth param_min_samples_leaf param_min_samples_split  \\\n",
       "42            None                      4                       6   \n",
       "16             100                      4                       4   \n",
       "34             100                      4                       6   \n",
       "18             100                      4                       6   \n",
       "40            None                      4                       4   \n",
       "\n",
       "    mean_test_f1_mac  mean_test_f1_class_0  mean_test_f1_class_1  \\\n",
       "42             0.770                 0.933                 0.607   \n",
       "16             0.770                 0.933                 0.606   \n",
       "34             0.769                 0.933                 0.605   \n",
       "18             0.768                 0.933                 0.604   \n",
       "40             0.768                 0.933                 0.603   \n",
       "\n",
       "    mean_test_acc  \n",
       "42          0.886  \n",
       "16          0.886  \n",
       "34          0.885  \n",
       "18          0.885  \n",
       "40          0.885  "
      ]
     },
     "execution_count": 43,
     "metadata": {},
     "output_type": "execute_result"
    }
   ],
   "source": [
    "scoring_cols = [\n",
    "    'param_max_depth', 'param_min_samples_leaf', 'param_min_samples_split',\n",
    "    'mean_test_f1_mac', 'mean_test_f1_class_0', 'mean_test_f1_class_1',\n",
    "    'mean_test_acc'\n",
    "]\n",
    "pd.DataFrame(model_5CV.cv_results_).sort_values(\n",
    "    by='mean_test_f1_mac', ascending=False)[scoring_cols].head()"
   ]
  },
  {
   "cell_type": "markdown",
   "metadata": {},
   "source": [
    "Best parameters found: "
   ]
  },
  {
   "cell_type": "code",
   "execution_count": 44,
   "metadata": {},
   "outputs": [
    {
     "data": {
      "text/plain": [
       "{'class_weight': 'balanced_subsample',\n",
       " 'max_depth': None,\n",
       " 'min_samples_leaf': 4,\n",
       " 'min_samples_split': 6,\n",
       " 'n_estimators': 200}"
      ]
     },
     "execution_count": 44,
     "metadata": {},
     "output_type": "execute_result"
    }
   ],
   "source": [
    "best_params = pd.DataFrame(model_5CV.cv_results_).sort_values(by='mean_test_f1_mac',ascending=False)[['params']].iloc[0,0]\n",
    "best_params"
   ]
  },
  {
   "cell_type": "markdown",
   "metadata": {},
   "source": [
    "Let's refit our new model."
   ]
  },
  {
   "cell_type": "code",
   "execution_count": 45,
   "metadata": {},
   "outputs": [
    {
     "data": {
      "text/plain": [
       "RandomForestClassifier(class_weight='balanced_subsample', min_samples_leaf=4,\n",
       "                       min_samples_split=6, n_estimators=200)"
      ]
     },
     "execution_count": 45,
     "metadata": {},
     "output_type": "execute_result"
    },
    {
     "data": {
      "text/html": [
       "<div>\n",
       "<style scoped>\n",
       "    .dataframe tbody tr th:only-of-type {\n",
       "        vertical-align: middle;\n",
       "    }\n",
       "\n",
       "    .dataframe tbody tr th {\n",
       "        vertical-align: top;\n",
       "    }\n",
       "\n",
       "    .dataframe thead th {\n",
       "        text-align: right;\n",
       "    }\n",
       "</style>\n",
       "<table border=\"1\" class=\"dataframe\">\n",
       "  <thead>\n",
       "    <tr style=\"text-align: right;\">\n",
       "      <th></th>\n",
       "      <th>Accuracy</th>\n",
       "      <th>F1-score (class 1)</th>\n",
       "      <th>F1-score (class 0)</th>\n",
       "      <th>F1-score (macro avg)</th>\n",
       "    </tr>\n",
       "  </thead>\n",
       "  <tbody>\n",
       "    <tr>\n",
       "      <th>RF-best</th>\n",
       "      <td>0.885</td>\n",
       "      <td>0.612</td>\n",
       "      <td>0.932</td>\n",
       "      <td>0.772</td>\n",
       "    </tr>\n",
       "    <tr>\n",
       "      <th>DT-best</th>\n",
       "      <td>0.897</td>\n",
       "      <td>0.506</td>\n",
       "      <td>0.942</td>\n",
       "      <td>0.724</td>\n",
       "    </tr>\n",
       "    <tr>\n",
       "      <th>RF-default</th>\n",
       "      <td>0.905</td>\n",
       "      <td>0.482</td>\n",
       "      <td>0.948</td>\n",
       "      <td>0.715</td>\n",
       "    </tr>\n",
       "    <tr>\n",
       "      <th>DT-default</th>\n",
       "      <td>0.872</td>\n",
       "      <td>0.466</td>\n",
       "      <td>0.928</td>\n",
       "      <td>0.697</td>\n",
       "    </tr>\n",
       "    <tr>\n",
       "      <th>RF-balance</th>\n",
       "      <td>0.904</td>\n",
       "      <td>0.444</td>\n",
       "      <td>0.947</td>\n",
       "      <td>0.696</td>\n",
       "    </tr>\n",
       "  </tbody>\n",
       "</table>\n",
       "</div>"
      ],
      "text/plain": [
       "           Accuracy F1-score (class 1) F1-score (class 0) F1-score (macro avg)\n",
       "RF-best       0.885              0.612              0.932                0.772\n",
       "DT-best       0.897              0.506              0.942                0.724\n",
       "RF-default    0.905              0.482              0.948                0.715\n",
       "DT-default    0.872              0.466              0.928                0.697\n",
       "RF-balance    0.904              0.444              0.947                0.696"
      ]
     },
     "execution_count": 45,
     "metadata": {},
     "output_type": "execute_result"
    }
   ],
   "source": [
    "rf_model_tuned = RandomForestClassifier(**best_params)\n",
    "rf_model_tuned.fit(X_train, y_train)\n",
    "\n",
    "y_pred = rf_model_tuned.predict(X_val)\n",
    "\n",
    "results.loc['RF-best', :] = compute_metrics(y_val, y_pred)\n",
    "\n",
    "results.sort_values(by='F1-score (macro avg)', ascending=False)"
   ]
  },
  {
   "cell_type": "markdown",
   "metadata": {},
   "source": [
    "We can see on our results table that this approach has been quite successful. Improving up to 10 points on the minority F1 score. If we look at the validation confusion table, we notice the clear improvement on the minority class (still not perfect!)"
   ]
  },
  {
   "cell_type": "code",
   "execution_count": 46,
   "metadata": {},
   "outputs": [
    {
     "data": {
      "text/html": [
       "<div>\n",
       "<style scoped>\n",
       "    .dataframe tbody tr th:only-of-type {\n",
       "        vertical-align: middle;\n",
       "    }\n",
       "\n",
       "    .dataframe tbody tr th {\n",
       "        vertical-align: top;\n",
       "    }\n",
       "\n",
       "    .dataframe thead th {\n",
       "        text-align: right;\n",
       "    }\n",
       "</style>\n",
       "<table border=\"1\" class=\"dataframe\">\n",
       "  <thead>\n",
       "    <tr style=\"text-align: right;\">\n",
       "      <th>predicted</th>\n",
       "      <th>0</th>\n",
       "      <th>1</th>\n",
       "    </tr>\n",
       "    <tr>\n",
       "      <th>target</th>\n",
       "      <th></th>\n",
       "      <th></th>\n",
       "    </tr>\n",
       "  </thead>\n",
       "  <tbody>\n",
       "    <tr>\n",
       "      <th>0</th>\n",
       "      <td>7179</td>\n",
       "      <td>805</td>\n",
       "    </tr>\n",
       "    <tr>\n",
       "      <th>1</th>\n",
       "      <td>237</td>\n",
       "      <td>821</td>\n",
       "    </tr>\n",
       "  </tbody>\n",
       "</table>\n",
       "</div>"
      ],
      "text/plain": [
       "predicted     0    1\n",
       "target              \n",
       "0          7179  805\n",
       "1           237  821"
      ]
     },
     "execution_count": 46,
     "metadata": {},
     "output_type": "execute_result"
    }
   ],
   "source": [
    "confusion(y_val, y_pred)"
   ]
  },
  {
   "cell_type": "markdown",
   "metadata": {},
   "source": [
    "### Extra trees classifier\n",
    "\n",
    "As we have seen, there is room for improvement. There is a model from the family of decision trees that we have not used: `Extra trees`. Essentially `extra trees` add randomization by choosing split-points at random (rather than trying out the best split as in random forests). This makes training them faster, and also more randomized.\n"
   ]
  },
  {
   "cell_type": "code",
   "execution_count": 47,
   "metadata": {},
   "outputs": [
    {
     "data": {
      "text/plain": [
       "ExtraTreesClassifier()"
      ]
     },
     "execution_count": 47,
     "metadata": {},
     "output_type": "execute_result"
    },
    {
     "data": {
      "text/html": [
       "<div>\n",
       "<style scoped>\n",
       "    .dataframe tbody tr th:only-of-type {\n",
       "        vertical-align: middle;\n",
       "    }\n",
       "\n",
       "    .dataframe tbody tr th {\n",
       "        vertical-align: top;\n",
       "    }\n",
       "\n",
       "    .dataframe thead th {\n",
       "        text-align: right;\n",
       "    }\n",
       "</style>\n",
       "<table border=\"1\" class=\"dataframe\">\n",
       "  <thead>\n",
       "    <tr style=\"text-align: right;\">\n",
       "      <th></th>\n",
       "      <th>Accuracy</th>\n",
       "      <th>F1-score (class 1)</th>\n",
       "      <th>F1-score (class 0)</th>\n",
       "      <th>F1-score (macro avg)</th>\n",
       "    </tr>\n",
       "  </thead>\n",
       "  <tbody>\n",
       "    <tr>\n",
       "      <th>RF-best</th>\n",
       "      <td>0.885</td>\n",
       "      <td>0.612</td>\n",
       "      <td>0.932</td>\n",
       "      <td>0.772</td>\n",
       "    </tr>\n",
       "    <tr>\n",
       "      <th>DT-best</th>\n",
       "      <td>0.897</td>\n",
       "      <td>0.506</td>\n",
       "      <td>0.942</td>\n",
       "      <td>0.724</td>\n",
       "    </tr>\n",
       "    <tr>\n",
       "      <th>RF-default</th>\n",
       "      <td>0.905</td>\n",
       "      <td>0.482</td>\n",
       "      <td>0.948</td>\n",
       "      <td>0.715</td>\n",
       "    </tr>\n",
       "    <tr>\n",
       "      <th>extra_trees</th>\n",
       "      <td>0.901</td>\n",
       "      <td>0.449</td>\n",
       "      <td>0.946</td>\n",
       "      <td>0.697</td>\n",
       "    </tr>\n",
       "    <tr>\n",
       "      <th>DT-default</th>\n",
       "      <td>0.872</td>\n",
       "      <td>0.466</td>\n",
       "      <td>0.928</td>\n",
       "      <td>0.697</td>\n",
       "    </tr>\n",
       "    <tr>\n",
       "      <th>RF-balance</th>\n",
       "      <td>0.904</td>\n",
       "      <td>0.444</td>\n",
       "      <td>0.947</td>\n",
       "      <td>0.696</td>\n",
       "    </tr>\n",
       "  </tbody>\n",
       "</table>\n",
       "</div>"
      ],
      "text/plain": [
       "            Accuracy F1-score (class 1) F1-score (class 0)  \\\n",
       "RF-best        0.885              0.612              0.932   \n",
       "DT-best        0.897              0.506              0.942   \n",
       "RF-default     0.905              0.482              0.948   \n",
       "extra_trees    0.901              0.449              0.946   \n",
       "DT-default     0.872              0.466              0.928   \n",
       "RF-balance     0.904              0.444              0.947   \n",
       "\n",
       "            F1-score (macro avg)  \n",
       "RF-best                    0.772  \n",
       "DT-best                    0.724  \n",
       "RF-default                 0.715  \n",
       "extra_trees                0.697  \n",
       "DT-default                 0.697  \n",
       "RF-balance                 0.696  "
      ]
     },
     "execution_count": 47,
     "metadata": {},
     "output_type": "execute_result"
    }
   ],
   "source": [
    "extra_trees = ExtraTreesClassifier()\n",
    "extra_trees.fit(X_train,y_train)\n",
    "\n",
    "y_pred = extra_trees.predict(X_val)\n",
    "\n",
    "results.loc['extra_trees',:] = compute_metrics(y_val,y_pred)\n",
    "\n",
    "results.sort_values(by='F1-score (macro avg)', ascending=False)"
   ]
  },
  {
   "cell_type": "code",
   "execution_count": 48,
   "metadata": {},
   "outputs": [
    {
     "name": "stdout",
     "output_type": "stream",
     "text": [
      "0:01:10.114668\n"
     ]
    }
   ],
   "source": [
    "init_time = time()\n",
    "\n",
    "rf_model = ExtraTreesClassifier(class_weight='balanced')\n",
    "\n",
    "ntrees = [150, None]\n",
    "max_depth = [100, None]\n",
    "min_samples_split = [4, 6]\n",
    "min_samples_leaf = [2, 4]\n",
    "balance = [None, 'balanced', 'balanced_subsample']\n",
    "\n",
    "trc = GridSearchCV(estimator=rf_model,\n",
    "                   scoring=scoring_dict,\n",
    "                   param_grid={\n",
    "                       'n_estimators': ntrees,\n",
    "                       'max_depth': max_depth,\n",
    "                       'min_samples_split': min_samples_split,\n",
    "                       'min_samples_leaf': min_samples_leaf,\n",
    "                       'class_weight': balance\n",
    "                   },\n",
    "                   cv=5,\n",
    "                   return_train_score=True,\n",
    "                   refit=False,\n",
    "                   n_jobs=-1)\n",
    "\n",
    "model_5CV = trc.fit(X_train, y_train)\n",
    "print(timedelta(seconds=(time() - init_time)))"
   ]
  },
  {
   "cell_type": "code",
   "execution_count": 49,
   "metadata": {},
   "outputs": [
    {
     "data": {
      "text/html": [
       "<div>\n",
       "<style scoped>\n",
       "    .dataframe tbody tr th:only-of-type {\n",
       "        vertical-align: middle;\n",
       "    }\n",
       "\n",
       "    .dataframe tbody tr th {\n",
       "        vertical-align: top;\n",
       "    }\n",
       "\n",
       "    .dataframe thead th {\n",
       "        text-align: right;\n",
       "    }\n",
       "</style>\n",
       "<table border=\"1\" class=\"dataframe\">\n",
       "  <thead>\n",
       "    <tr style=\"text-align: right;\">\n",
       "      <th></th>\n",
       "      <th>param_max_depth</th>\n",
       "      <th>param_min_samples_leaf</th>\n",
       "      <th>param_min_samples_split</th>\n",
       "      <th>mean_test_f1_mac</th>\n",
       "      <th>mean_test_f1_class_0</th>\n",
       "      <th>mean_test_f1_class_1</th>\n",
       "      <th>mean_test_acc</th>\n",
       "    </tr>\n",
       "  </thead>\n",
       "  <tbody>\n",
       "    <tr>\n",
       "      <th>26</th>\n",
       "      <td>None</td>\n",
       "      <td>2</td>\n",
       "      <td>6</td>\n",
       "      <td>0.743</td>\n",
       "      <td>0.930</td>\n",
       "      <td>0.555</td>\n",
       "      <td>0.879</td>\n",
       "    </tr>\n",
       "    <tr>\n",
       "      <th>24</th>\n",
       "      <td>None</td>\n",
       "      <td>2</td>\n",
       "      <td>4</td>\n",
       "      <td>0.743</td>\n",
       "      <td>0.932</td>\n",
       "      <td>0.554</td>\n",
       "      <td>0.881</td>\n",
       "    </tr>\n",
       "    <tr>\n",
       "      <th>18</th>\n",
       "      <td>100</td>\n",
       "      <td>2</td>\n",
       "      <td>6</td>\n",
       "      <td>0.743</td>\n",
       "      <td>0.930</td>\n",
       "      <td>0.555</td>\n",
       "      <td>0.880</td>\n",
       "    </tr>\n",
       "    <tr>\n",
       "      <th>32</th>\n",
       "      <td>100</td>\n",
       "      <td>2</td>\n",
       "      <td>4</td>\n",
       "      <td>0.743</td>\n",
       "      <td>0.932</td>\n",
       "      <td>0.553</td>\n",
       "      <td>0.882</td>\n",
       "    </tr>\n",
       "    <tr>\n",
       "      <th>16</th>\n",
       "      <td>100</td>\n",
       "      <td>2</td>\n",
       "      <td>4</td>\n",
       "      <td>0.742</td>\n",
       "      <td>0.932</td>\n",
       "      <td>0.551</td>\n",
       "      <td>0.882</td>\n",
       "    </tr>\n",
       "  </tbody>\n",
       "</table>\n",
       "</div>"
      ],
      "text/plain": [
       "   param_max_depth param_min_samples_leaf param_min_samples_split  \\\n",
       "26            None                      2                       6   \n",
       "24            None                      2                       4   \n",
       "18             100                      2                       6   \n",
       "32             100                      2                       4   \n",
       "16             100                      2                       4   \n",
       "\n",
       "    mean_test_f1_mac  mean_test_f1_class_0  mean_test_f1_class_1  \\\n",
       "26             0.743                 0.930                 0.555   \n",
       "24             0.743                 0.932                 0.554   \n",
       "18             0.743                 0.930                 0.555   \n",
       "32             0.743                 0.932                 0.553   \n",
       "16             0.742                 0.932                 0.551   \n",
       "\n",
       "    mean_test_acc  \n",
       "26          0.879  \n",
       "24          0.881  \n",
       "18          0.880  \n",
       "32          0.882  \n",
       "16          0.882  "
      ]
     },
     "execution_count": 49,
     "metadata": {},
     "output_type": "execute_result"
    }
   ],
   "source": [
    "pd.DataFrame(model_5CV.cv_results_).sort_values(by='mean_test_f1_mac',ascending=False)[scoring_cols].head()"
   ]
  },
  {
   "cell_type": "markdown",
   "metadata": {},
   "source": [
    "Best extra trees found: "
   ]
  },
  {
   "cell_type": "code",
   "execution_count": 50,
   "metadata": {},
   "outputs": [
    {
     "data": {
      "text/plain": [
       "{'class_weight': 'balanced',\n",
       " 'max_depth': None,\n",
       " 'min_samples_leaf': 2,\n",
       " 'min_samples_split': 6,\n",
       " 'n_estimators': 150}"
      ]
     },
     "execution_count": 50,
     "metadata": {},
     "output_type": "execute_result"
    }
   ],
   "source": [
    "best_params = pd.DataFrame(model_5CV.cv_results_).sort_values(by='mean_test_f1_mac',ascending=False)[['params']].iloc[0,0]\n",
    "best_params"
   ]
  },
  {
   "cell_type": "code",
   "execution_count": 51,
   "metadata": {},
   "outputs": [
    {
     "data": {
      "text/plain": [
       "ExtraTreesClassifier(class_weight='balanced', min_samples_leaf=2,\n",
       "                     min_samples_split=6, n_estimators=150)"
      ]
     },
     "execution_count": 51,
     "metadata": {},
     "output_type": "execute_result"
    },
    {
     "data": {
      "text/html": [
       "<div>\n",
       "<style scoped>\n",
       "    .dataframe tbody tr th:only-of-type {\n",
       "        vertical-align: middle;\n",
       "    }\n",
       "\n",
       "    .dataframe tbody tr th {\n",
       "        vertical-align: top;\n",
       "    }\n",
       "\n",
       "    .dataframe thead th {\n",
       "        text-align: right;\n",
       "    }\n",
       "</style>\n",
       "<table border=\"1\" class=\"dataframe\">\n",
       "  <thead>\n",
       "    <tr style=\"text-align: right;\">\n",
       "      <th></th>\n",
       "      <th>Accuracy</th>\n",
       "      <th>F1-score (class 1)</th>\n",
       "      <th>F1-score (class 0)</th>\n",
       "      <th>F1-score (macro avg)</th>\n",
       "    </tr>\n",
       "  </thead>\n",
       "  <tbody>\n",
       "    <tr>\n",
       "      <th>RF-best</th>\n",
       "      <td>0.885</td>\n",
       "      <td>0.612</td>\n",
       "      <td>0.932</td>\n",
       "      <td>0.772</td>\n",
       "    </tr>\n",
       "    <tr>\n",
       "      <th>extra_trees-best</th>\n",
       "      <td>0.878</td>\n",
       "      <td>0.561</td>\n",
       "      <td>0.929</td>\n",
       "      <td>0.745</td>\n",
       "    </tr>\n",
       "    <tr>\n",
       "      <th>DT-best</th>\n",
       "      <td>0.897</td>\n",
       "      <td>0.506</td>\n",
       "      <td>0.942</td>\n",
       "      <td>0.724</td>\n",
       "    </tr>\n",
       "    <tr>\n",
       "      <th>RF-default</th>\n",
       "      <td>0.905</td>\n",
       "      <td>0.482</td>\n",
       "      <td>0.948</td>\n",
       "      <td>0.715</td>\n",
       "    </tr>\n",
       "    <tr>\n",
       "      <th>extra_trees</th>\n",
       "      <td>0.901</td>\n",
       "      <td>0.449</td>\n",
       "      <td>0.946</td>\n",
       "      <td>0.697</td>\n",
       "    </tr>\n",
       "    <tr>\n",
       "      <th>DT-default</th>\n",
       "      <td>0.872</td>\n",
       "      <td>0.466</td>\n",
       "      <td>0.928</td>\n",
       "      <td>0.697</td>\n",
       "    </tr>\n",
       "    <tr>\n",
       "      <th>RF-balance</th>\n",
       "      <td>0.904</td>\n",
       "      <td>0.444</td>\n",
       "      <td>0.947</td>\n",
       "      <td>0.696</td>\n",
       "    </tr>\n",
       "  </tbody>\n",
       "</table>\n",
       "</div>"
      ],
      "text/plain": [
       "                 Accuracy F1-score (class 1) F1-score (class 0)  \\\n",
       "RF-best             0.885              0.612              0.932   \n",
       "extra_trees-best    0.878              0.561              0.929   \n",
       "DT-best             0.897              0.506              0.942   \n",
       "RF-default          0.905              0.482              0.948   \n",
       "extra_trees         0.901              0.449              0.946   \n",
       "DT-default          0.872              0.466              0.928   \n",
       "RF-balance          0.904              0.444              0.947   \n",
       "\n",
       "                 F1-score (macro avg)  \n",
       "RF-best                         0.772  \n",
       "extra_trees-best                0.745  \n",
       "DT-best                         0.724  \n",
       "RF-default                      0.715  \n",
       "extra_trees                     0.697  \n",
       "DT-default                      0.697  \n",
       "RF-balance                      0.696  "
      ]
     },
     "execution_count": 51,
     "metadata": {},
     "output_type": "execute_result"
    }
   ],
   "source": [
    "extra_trees_best = ExtraTreesClassifier(**best_params)\n",
    "extra_trees_best.fit(X_train,y_train)\n",
    "\n",
    "y_pred = extra_trees_best.predict(X_val)\n",
    "\n",
    "results.loc['extra_trees-best',:] = compute_metrics(y_val,y_pred)\n",
    "\n",
    "results.sort_values(by='F1-score (macro avg)', ascending=False)"
   ]
  },
  {
   "cell_type": "markdown",
   "metadata": {},
   "source": [
    "### Feature importance \n",
    "\n",
    "One advantage that RF and DT have is that they perform feature selection on training. "
   ]
  },
  {
   "cell_type": "code",
   "execution_count": 52,
   "metadata": {
    "ExecuteTime": {
     "end_time": "2020-07-15T10:17:36.311344Z",
     "start_time": "2020-07-15T10:17:36.141300Z"
    }
   },
   "outputs": [
    {
     "data": {
      "image/png": "[encoded data removed]",
      "text/plain": [
       "<Figure size 576x576 with 1 Axes>"
      ]
     },
     "metadata": {},
     "output_type": "display_data"
    }
   ],
   "source": [
    "var_imp = pd.DataFrame({'importance': rf_model_tuned.feature_importances_},\n",
    "                       index=X_train.columns)\n",
    "\n",
    "var_imp.sort_values(by='importance').plot.barh(figsize=(8,8),\n",
    "                                               legend=False);"
   ]
  },
  {
   "cell_type": "markdown",
   "metadata": {},
   "source": [
    "according to our model, `duration` is the most important variable for predicting the target. "
   ]
  },
  {
   "cell_type": "markdown",
   "metadata": {},
   "source": [
    "## Ensembles"
   ]
  },
  {
   "cell_type": "markdown",
   "metadata": {},
   "source": [
    "Now that we have a set of models we are going to combine them into more powerful classifiers. \n",
    "\n",
    "First we will take our simple classifiers + GaussianNB and make a voting classifier with them."
   ]
  },
  {
   "cell_type": "code",
   "execution_count": 53,
   "metadata": {},
   "outputs": [
    {
     "data": {
      "text/plain": [
       "GaussianNB()"
      ]
     },
     "execution_count": 53,
     "metadata": {},
     "output_type": "execute_result"
    },
    {
     "data": {
      "text/html": [
       "<div>\n",
       "<style scoped>\n",
       "    .dataframe tbody tr th:only-of-type {\n",
       "        vertical-align: middle;\n",
       "    }\n",
       "\n",
       "    .dataframe tbody tr th {\n",
       "        vertical-align: top;\n",
       "    }\n",
       "\n",
       "    .dataframe thead th {\n",
       "        text-align: right;\n",
       "    }\n",
       "</style>\n",
       "<table border=\"1\" class=\"dataframe\">\n",
       "  <thead>\n",
       "    <tr style=\"text-align: right;\">\n",
       "      <th></th>\n",
       "      <th>Accuracy</th>\n",
       "      <th>F1-score (class 1)</th>\n",
       "      <th>F1-score (class 0)</th>\n",
       "      <th>F1-score (macro avg)</th>\n",
       "    </tr>\n",
       "  </thead>\n",
       "  <tbody>\n",
       "    <tr>\n",
       "      <th>RF-best</th>\n",
       "      <td>0.885</td>\n",
       "      <td>0.612</td>\n",
       "      <td>0.932</td>\n",
       "      <td>0.772</td>\n",
       "    </tr>\n",
       "    <tr>\n",
       "      <th>extra_trees-best</th>\n",
       "      <td>0.878</td>\n",
       "      <td>0.561</td>\n",
       "      <td>0.929</td>\n",
       "      <td>0.745</td>\n",
       "    </tr>\n",
       "    <tr>\n",
       "      <th>DT-best</th>\n",
       "      <td>0.897</td>\n",
       "      <td>0.506</td>\n",
       "      <td>0.942</td>\n",
       "      <td>0.724</td>\n",
       "    </tr>\n",
       "    <tr>\n",
       "      <th>RF-default</th>\n",
       "      <td>0.905</td>\n",
       "      <td>0.482</td>\n",
       "      <td>0.948</td>\n",
       "      <td>0.715</td>\n",
       "    </tr>\n",
       "    <tr>\n",
       "      <th>extra_trees</th>\n",
       "      <td>0.901</td>\n",
       "      <td>0.449</td>\n",
       "      <td>0.946</td>\n",
       "      <td>0.697</td>\n",
       "    </tr>\n",
       "    <tr>\n",
       "      <th>DT-default</th>\n",
       "      <td>0.872</td>\n",
       "      <td>0.466</td>\n",
       "      <td>0.928</td>\n",
       "      <td>0.697</td>\n",
       "    </tr>\n",
       "    <tr>\n",
       "      <th>RF-balance</th>\n",
       "      <td>0.904</td>\n",
       "      <td>0.444</td>\n",
       "      <td>0.947</td>\n",
       "      <td>0.696</td>\n",
       "    </tr>\n",
       "    <tr>\n",
       "      <th>GaussianNB-default</th>\n",
       "      <td>0.83</td>\n",
       "      <td>0.411</td>\n",
       "      <td>0.901</td>\n",
       "      <td>0.656</td>\n",
       "    </tr>\n",
       "  </tbody>\n",
       "</table>\n",
       "</div>"
      ],
      "text/plain": [
       "                   Accuracy F1-score (class 1) F1-score (class 0)  \\\n",
       "RF-best               0.885              0.612              0.932   \n",
       "extra_trees-best      0.878              0.561              0.929   \n",
       "DT-best               0.897              0.506              0.942   \n",
       "RF-default            0.905              0.482              0.948   \n",
       "extra_trees           0.901              0.449              0.946   \n",
       "DT-default            0.872              0.466              0.928   \n",
       "RF-balance            0.904              0.444              0.947   \n",
       "GaussianNB-default     0.83              0.411              0.901   \n",
       "\n",
       "                   F1-score (macro avg)  \n",
       "RF-best                           0.772  \n",
       "extra_trees-best                  0.745  \n",
       "DT-best                           0.724  \n",
       "RF-default                        0.715  \n",
       "extra_trees                       0.697  \n",
       "DT-default                        0.697  \n",
       "RF-balance                        0.696  \n",
       "GaussianNB-default                0.656  "
      ]
     },
     "execution_count": 53,
     "metadata": {},
     "output_type": "execute_result"
    }
   ],
   "source": [
    "gauss_nb = GaussianNB()\n",
    "gauss_nb.fit(X_train,y_train)\n",
    "\n",
    "y_pred = gauss_nb.predict(X_val)\n",
    "\n",
    "results.loc['GaussianNB-default',:] = compute_metrics(y_val,y_pred)\n",
    "\n",
    "results.sort_values(by='F1-score (macro avg)', ascending=False)"
   ]
  },
  {
   "cell_type": "markdown",
   "metadata": {},
   "source": [
    "With a voting classifier we can make the models vote in a \"hard\" fashion (majority vote) or \"soft\" fashion (averaging probabilities). "
   ]
  },
  {
   "cell_type": "code",
   "execution_count": 54,
   "metadata": {},
   "outputs": [
    {
     "data": {
      "text/plain": [
       "VotingClassifier(estimators=[('dt', DecisionTreeClassifier()),\n",
       "                             ('rf', RandomForestClassifier(oob_score=True)),\n",
       "                             ('gnb', GaussianNB()),\n",
       "                             ('extratrees', ExtraTreesClassifier())])"
      ]
     },
     "execution_count": 54,
     "metadata": {},
     "output_type": "execute_result"
    },
    {
     "data": {
      "text/html": [
       "<div>\n",
       "<style scoped>\n",
       "    .dataframe tbody tr th:only-of-type {\n",
       "        vertical-align: middle;\n",
       "    }\n",
       "\n",
       "    .dataframe tbody tr th {\n",
       "        vertical-align: top;\n",
       "    }\n",
       "\n",
       "    .dataframe thead th {\n",
       "        text-align: right;\n",
       "    }\n",
       "</style>\n",
       "<table border=\"1\" class=\"dataframe\">\n",
       "  <thead>\n",
       "    <tr style=\"text-align: right;\">\n",
       "      <th></th>\n",
       "      <th>Accuracy</th>\n",
       "      <th>F1-score (class 1)</th>\n",
       "      <th>F1-score (class 0)</th>\n",
       "      <th>F1-score (macro avg)</th>\n",
       "    </tr>\n",
       "  </thead>\n",
       "  <tbody>\n",
       "    <tr>\n",
       "      <th>RF-default</th>\n",
       "      <td>0.905</td>\n",
       "      <td>0.482</td>\n",
       "      <td>0.948</td>\n",
       "      <td>0.715</td>\n",
       "    </tr>\n",
       "    <tr>\n",
       "      <th>DT-default</th>\n",
       "      <td>0.872</td>\n",
       "      <td>0.466</td>\n",
       "      <td>0.928</td>\n",
       "      <td>0.697</td>\n",
       "    </tr>\n",
       "    <tr>\n",
       "      <th>extra_trees</th>\n",
       "      <td>0.901</td>\n",
       "      <td>0.449</td>\n",
       "      <td>0.946</td>\n",
       "      <td>0.697</td>\n",
       "    </tr>\n",
       "    <tr>\n",
       "      <th>voting_hard</th>\n",
       "      <td>0.904</td>\n",
       "      <td>0.426</td>\n",
       "      <td>0.947</td>\n",
       "      <td>0.687</td>\n",
       "    </tr>\n",
       "    <tr>\n",
       "      <th>GaussianNB-default</th>\n",
       "      <td>0.83</td>\n",
       "      <td>0.411</td>\n",
       "      <td>0.901</td>\n",
       "      <td>0.656</td>\n",
       "    </tr>\n",
       "  </tbody>\n",
       "</table>\n",
       "</div>"
      ],
      "text/plain": [
       "                   Accuracy F1-score (class 1) F1-score (class 0)  \\\n",
       "RF-default            0.905              0.482              0.948   \n",
       "DT-default            0.872              0.466              0.928   \n",
       "extra_trees           0.901              0.449              0.946   \n",
       "voting_hard           0.904              0.426              0.947   \n",
       "GaussianNB-default     0.83              0.411              0.901   \n",
       "\n",
       "                   F1-score (macro avg)  \n",
       "RF-default                        0.715  \n",
       "DT-default                        0.697  \n",
       "extra_trees                       0.697  \n",
       "voting_hard                       0.687  \n",
       "GaussianNB-default                0.656  "
      ]
     },
     "execution_count": 54,
     "metadata": {},
     "output_type": "execute_result"
    }
   ],
   "source": [
    "voting_hard = VotingClassifier([('dt', model_tree), ('rf', model_rf1),\n",
    "                                ('gnb', gauss_nb),('extratrees',extra_trees)])\n",
    "voting_hard.fit(X_train, y_train)\n",
    "\n",
    "y_pred = voting_hard.predict(X_val)\n",
    "\n",
    "results.loc['voting_hard', :] = compute_metrics(y_val, y_pred)\n",
    "\n",
    "results.loc[['DT-default','GaussianNB-default','RF-default','extra_trees','voting_hard'],:].sort_values(\n",
    "    by='F1-score (class 1)',ascending=False)"
   ]
  },
  {
   "cell_type": "markdown",
   "metadata": {},
   "source": [
    "We can see that soft voting works better. We can also see that the models are performing better together. "
   ]
  },
  {
   "cell_type": "code",
   "execution_count": 55,
   "metadata": {},
   "outputs": [
    {
     "data": {
      "text/plain": [
       "VotingClassifier(estimators=[('dt', DecisionTreeClassifier()),\n",
       "                             ('rf', RandomForestClassifier(oob_score=True)),\n",
       "                             ('gnb', GaussianNB()),\n",
       "                             ('extratrees', ExtraTreesClassifier())],\n",
       "                 voting='soft')"
      ]
     },
     "execution_count": 55,
     "metadata": {},
     "output_type": "execute_result"
    },
    {
     "data": {
      "text/html": [
       "<div>\n",
       "<style scoped>\n",
       "    .dataframe tbody tr th:only-of-type {\n",
       "        vertical-align: middle;\n",
       "    }\n",
       "\n",
       "    .dataframe tbody tr th {\n",
       "        vertical-align: top;\n",
       "    }\n",
       "\n",
       "    .dataframe thead th {\n",
       "        text-align: right;\n",
       "    }\n",
       "</style>\n",
       "<table border=\"1\" class=\"dataframe\">\n",
       "  <thead>\n",
       "    <tr style=\"text-align: right;\">\n",
       "      <th></th>\n",
       "      <th>Accuracy</th>\n",
       "      <th>F1-score (class 1)</th>\n",
       "      <th>F1-score (class 0)</th>\n",
       "      <th>F1-score (macro avg)</th>\n",
       "    </tr>\n",
       "  </thead>\n",
       "  <tbody>\n",
       "    <tr>\n",
       "      <th>voting_soft</th>\n",
       "      <td>0.9</td>\n",
       "      <td>0.508</td>\n",
       "      <td>0.944</td>\n",
       "      <td>0.726</td>\n",
       "    </tr>\n",
       "    <tr>\n",
       "      <th>RF-default</th>\n",
       "      <td>0.905</td>\n",
       "      <td>0.482</td>\n",
       "      <td>0.948</td>\n",
       "      <td>0.715</td>\n",
       "    </tr>\n",
       "    <tr>\n",
       "      <th>DT-default</th>\n",
       "      <td>0.872</td>\n",
       "      <td>0.466</td>\n",
       "      <td>0.928</td>\n",
       "      <td>0.697</td>\n",
       "    </tr>\n",
       "    <tr>\n",
       "      <th>extra_trees</th>\n",
       "      <td>0.901</td>\n",
       "      <td>0.449</td>\n",
       "      <td>0.946</td>\n",
       "      <td>0.697</td>\n",
       "    </tr>\n",
       "    <tr>\n",
       "      <th>voting_hard</th>\n",
       "      <td>0.904</td>\n",
       "      <td>0.426</td>\n",
       "      <td>0.947</td>\n",
       "      <td>0.687</td>\n",
       "    </tr>\n",
       "    <tr>\n",
       "      <th>GaussianNB-default</th>\n",
       "      <td>0.83</td>\n",
       "      <td>0.411</td>\n",
       "      <td>0.901</td>\n",
       "      <td>0.656</td>\n",
       "    </tr>\n",
       "  </tbody>\n",
       "</table>\n",
       "</div>"
      ],
      "text/plain": [
       "                   Accuracy F1-score (class 1) F1-score (class 0)  \\\n",
       "voting_soft             0.9              0.508              0.944   \n",
       "RF-default            0.905              0.482              0.948   \n",
       "DT-default            0.872              0.466              0.928   \n",
       "extra_trees           0.901              0.449              0.946   \n",
       "voting_hard           0.904              0.426              0.947   \n",
       "GaussianNB-default     0.83              0.411              0.901   \n",
       "\n",
       "                   F1-score (macro avg)  \n",
       "voting_soft                       0.726  \n",
       "RF-default                        0.715  \n",
       "DT-default                        0.697  \n",
       "extra_trees                       0.697  \n",
       "voting_hard                       0.687  \n",
       "GaussianNB-default                0.656  "
      ]
     },
     "execution_count": 55,
     "metadata": {},
     "output_type": "execute_result"
    }
   ],
   "source": [
    "voting_soft = VotingClassifier([('dt', model_tree), ('rf', model_rf1),\n",
    "                                ('gnb', gauss_nb),('extratrees',extra_trees)],voting='soft')\n",
    "voting_soft.fit(X_train, y_train)\n",
    "\n",
    "y_pred = voting_soft.predict(X_val)\n",
    "\n",
    "results.loc['voting_soft', :] = compute_metrics(y_val, y_pred)\n",
    "\n",
    "results.loc[['DT-default','GaussianNB-default','RF-default','extra_trees','voting_hard','voting_soft'],:].sort_values(\n",
    "    by='F1-score (class 1)',ascending=False)"
   ]
  },
  {
   "cell_type": "markdown",
   "metadata": {},
   "source": [
    "Now we can make a voting classifier with our best models."
   ]
  },
  {
   "cell_type": "code",
   "execution_count": 56,
   "metadata": {},
   "outputs": [
    {
     "data": {
      "text/plain": [
       "VotingClassifier(estimators=[('rf',\n",
       "                              RandomForestClassifier(class_weight='balanced_subsample',\n",
       "                                                     min_samples_leaf=4,\n",
       "                                                     min_samples_split=6,\n",
       "                                                     n_estimators=200)),\n",
       "                             ('extratrees',\n",
       "                              ExtraTreesClassifier(class_weight='balanced',\n",
       "                                                   min_samples_leaf=2,\n",
       "                                                   min_samples_split=6,\n",
       "                                                   n_estimators=150))],\n",
       "                 voting='soft')"
      ]
     },
     "execution_count": 56,
     "metadata": {},
     "output_type": "execute_result"
    },
    {
     "data": {
      "text/html": [
       "<div>\n",
       "<style scoped>\n",
       "    .dataframe tbody tr th:only-of-type {\n",
       "        vertical-align: middle;\n",
       "    }\n",
       "\n",
       "    .dataframe tbody tr th {\n",
       "        vertical-align: top;\n",
       "    }\n",
       "\n",
       "    .dataframe thead th {\n",
       "        text-align: right;\n",
       "    }\n",
       "</style>\n",
       "<table border=\"1\" class=\"dataframe\">\n",
       "  <thead>\n",
       "    <tr style=\"text-align: right;\">\n",
       "      <th></th>\n",
       "      <th>Accuracy</th>\n",
       "      <th>F1-score (class 1)</th>\n",
       "      <th>F1-score (class 0)</th>\n",
       "      <th>F1-score (macro avg)</th>\n",
       "    </tr>\n",
       "  </thead>\n",
       "  <tbody>\n",
       "    <tr>\n",
       "      <th>RF-best</th>\n",
       "      <td>0.885</td>\n",
       "      <td>0.612</td>\n",
       "      <td>0.932</td>\n",
       "      <td>0.772</td>\n",
       "    </tr>\n",
       "    <tr>\n",
       "      <th>voting_best</th>\n",
       "      <td>0.886</td>\n",
       "      <td>0.6</td>\n",
       "      <td>0.934</td>\n",
       "      <td>0.767</td>\n",
       "    </tr>\n",
       "    <tr>\n",
       "      <th>extra_trees-best</th>\n",
       "      <td>0.878</td>\n",
       "      <td>0.561</td>\n",
       "      <td>0.929</td>\n",
       "      <td>0.745</td>\n",
       "    </tr>\n",
       "  </tbody>\n",
       "</table>\n",
       "</div>"
      ],
      "text/plain": [
       "                 Accuracy F1-score (class 1) F1-score (class 0)  \\\n",
       "RF-best             0.885              0.612              0.932   \n",
       "voting_best         0.886                0.6              0.934   \n",
       "extra_trees-best    0.878              0.561              0.929   \n",
       "\n",
       "                 F1-score (macro avg)  \n",
       "RF-best                         0.772  \n",
       "voting_best                     0.767  \n",
       "extra_trees-best                0.745  "
      ]
     },
     "execution_count": 56,
     "metadata": {},
     "output_type": "execute_result"
    }
   ],
   "source": [
    "voting_best = VotingClassifier([('rf', rf_model_tuned),\n",
    "                                ('extratrees',extra_trees_best)],voting='soft')\n",
    "voting_best.fit(X_train, y_train)\n",
    "\n",
    "y_pred = voting_best.predict(X_val)\n",
    "\n",
    "results.loc['voting_best', :] = compute_metrics(y_val, y_pred)\n",
    "\n",
    "results.loc[['RF-best','extra_trees-best','voting_best'],:].sort_values(by='F1-score (class 1)',ascending=False)"
   ]
  },
  {
   "cell_type": "markdown",
   "metadata": {},
   "source": [
    "Another ensamble we can use is an Stacking classifier. It will train another classifier on the top of the result of our classifiers instead of voting."
   ]
  },
  {
   "cell_type": "code",
   "execution_count": 57,
   "metadata": {},
   "outputs": [
    {
     "data": {
      "text/plain": [
       "StackingClassifier(estimators=[('rf',\n",
       "                                RandomForestClassifier(class_weight='balanced_subsample',\n",
       "                                                       min_samples_leaf=4,\n",
       "                                                       min_samples_split=6,\n",
       "                                                       n_estimators=200)),\n",
       "                               ('extratrees',\n",
       "                                ExtraTreesClassifier(class_weight='balanced',\n",
       "                                                     min_samples_leaf=2,\n",
       "                                                     min_samples_split=6,\n",
       "                                                     n_estimators=150))],\n",
       "                   final_estimator=GradientBoostingClassifier())"
      ]
     },
     "execution_count": 57,
     "metadata": {},
     "output_type": "execute_result"
    },
    {
     "data": {
      "text/html": [
       "<div>\n",
       "<style scoped>\n",
       "    .dataframe tbody tr th:only-of-type {\n",
       "        vertical-align: middle;\n",
       "    }\n",
       "\n",
       "    .dataframe tbody tr th {\n",
       "        vertical-align: top;\n",
       "    }\n",
       "\n",
       "    .dataframe thead th {\n",
       "        text-align: right;\n",
       "    }\n",
       "</style>\n",
       "<table border=\"1\" class=\"dataframe\">\n",
       "  <thead>\n",
       "    <tr style=\"text-align: right;\">\n",
       "      <th></th>\n",
       "      <th>Accuracy</th>\n",
       "      <th>F1-score (class 1)</th>\n",
       "      <th>F1-score (class 0)</th>\n",
       "      <th>F1-score (macro avg)</th>\n",
       "    </tr>\n",
       "  </thead>\n",
       "  <tbody>\n",
       "    <tr>\n",
       "      <th>RF-best</th>\n",
       "      <td>0.885</td>\n",
       "      <td>0.612</td>\n",
       "      <td>0.932</td>\n",
       "      <td>0.772</td>\n",
       "    </tr>\n",
       "    <tr>\n",
       "      <th>extra_trees-best</th>\n",
       "      <td>0.878</td>\n",
       "      <td>0.561</td>\n",
       "      <td>0.929</td>\n",
       "      <td>0.745</td>\n",
       "    </tr>\n",
       "    <tr>\n",
       "      <th>stackyn-clf</th>\n",
       "      <td>0.907</td>\n",
       "      <td>0.546</td>\n",
       "      <td>0.948</td>\n",
       "      <td>0.747</td>\n",
       "    </tr>\n",
       "  </tbody>\n",
       "</table>\n",
       "</div>"
      ],
      "text/plain": [
       "                 Accuracy F1-score (class 1) F1-score (class 0)  \\\n",
       "RF-best             0.885              0.612              0.932   \n",
       "extra_trees-best    0.878              0.561              0.929   \n",
       "stackyn-clf         0.907              0.546              0.948   \n",
       "\n",
       "                 F1-score (macro avg)  \n",
       "RF-best                         0.772  \n",
       "extra_trees-best                0.745  \n",
       "stackyn-clf                     0.747  "
      ]
     },
     "execution_count": 57,
     "metadata": {},
     "output_type": "execute_result"
    }
   ],
   "source": [
    "stacky = StackingClassifier(\n",
    "    estimators=[('rf', rf_model_tuned), ('extratrees', extra_trees_best)],\n",
    "    final_estimator=GradientBoostingClassifier())\n",
    "\n",
    "stacky.fit(X_train, y_train)\n",
    "\n",
    "y_pred = stacky.predict(X_val)\n",
    "\n",
    "results.loc['stackyn-clf', :] = compute_metrics(y_val, y_pred)\n",
    "results.loc[['RF-best','extra_trees-best','stackyn-clf'],:].sort_values(by='F1-score (class 1)',ascending=False)"
   ]
  },
  {
   "cell_type": "markdown",
   "metadata": {},
   "source": [
    "## Our results\n",
    "\n",
    "We have tried many many models and burnt lots of computing time. Let us check our results now. \n",
    "\n",
    "The best model we have trained according to our metrics is the voting soft classifier with the best random forest and extra trees. These two models follow on the ranking closely."
   ]
  },
  {
   "cell_type": "code",
   "execution_count": 58,
   "metadata": {
    "scrolled": true
   },
   "outputs": [
    {
     "data": {
      "text/html": [
       "<div>\n",
       "<style scoped>\n",
       "    .dataframe tbody tr th:only-of-type {\n",
       "        vertical-align: middle;\n",
       "    }\n",
       "\n",
       "    .dataframe tbody tr th {\n",
       "        vertical-align: top;\n",
       "    }\n",
       "\n",
       "    .dataframe thead th {\n",
       "        text-align: right;\n",
       "    }\n",
       "</style>\n",
       "<table border=\"1\" class=\"dataframe\">\n",
       "  <thead>\n",
       "    <tr style=\"text-align: right;\">\n",
       "      <th></th>\n",
       "      <th>Accuracy</th>\n",
       "      <th>F1-score (class 1)</th>\n",
       "      <th>F1-score (class 0)</th>\n",
       "      <th>F1-score (macro avg)</th>\n",
       "    </tr>\n",
       "  </thead>\n",
       "  <tbody>\n",
       "    <tr>\n",
       "      <th>RF-best</th>\n",
       "      <td>0.885</td>\n",
       "      <td>0.612</td>\n",
       "      <td>0.932</td>\n",
       "      <td>0.772</td>\n",
       "    </tr>\n",
       "    <tr>\n",
       "      <th>voting_best</th>\n",
       "      <td>0.886</td>\n",
       "      <td>0.6</td>\n",
       "      <td>0.934</td>\n",
       "      <td>0.767</td>\n",
       "    </tr>\n",
       "    <tr>\n",
       "      <th>extra_trees-best</th>\n",
       "      <td>0.878</td>\n",
       "      <td>0.561</td>\n",
       "      <td>0.929</td>\n",
       "      <td>0.745</td>\n",
       "    </tr>\n",
       "    <tr>\n",
       "      <th>stackyn-clf</th>\n",
       "      <td>0.907</td>\n",
       "      <td>0.546</td>\n",
       "      <td>0.948</td>\n",
       "      <td>0.747</td>\n",
       "    </tr>\n",
       "    <tr>\n",
       "      <th>voting_soft</th>\n",
       "      <td>0.9</td>\n",
       "      <td>0.508</td>\n",
       "      <td>0.944</td>\n",
       "      <td>0.726</td>\n",
       "    </tr>\n",
       "    <tr>\n",
       "      <th>DT-best</th>\n",
       "      <td>0.897</td>\n",
       "      <td>0.506</td>\n",
       "      <td>0.942</td>\n",
       "      <td>0.724</td>\n",
       "    </tr>\n",
       "    <tr>\n",
       "      <th>RF-default</th>\n",
       "      <td>0.905</td>\n",
       "      <td>0.482</td>\n",
       "      <td>0.948</td>\n",
       "      <td>0.715</td>\n",
       "    </tr>\n",
       "    <tr>\n",
       "      <th>DT-default</th>\n",
       "      <td>0.872</td>\n",
       "      <td>0.466</td>\n",
       "      <td>0.928</td>\n",
       "      <td>0.697</td>\n",
       "    </tr>\n",
       "    <tr>\n",
       "      <th>extra_trees</th>\n",
       "      <td>0.901</td>\n",
       "      <td>0.449</td>\n",
       "      <td>0.946</td>\n",
       "      <td>0.697</td>\n",
       "    </tr>\n",
       "    <tr>\n",
       "      <th>RF-balance</th>\n",
       "      <td>0.904</td>\n",
       "      <td>0.444</td>\n",
       "      <td>0.947</td>\n",
       "      <td>0.696</td>\n",
       "    </tr>\n",
       "    <tr>\n",
       "      <th>voting_hard</th>\n",
       "      <td>0.904</td>\n",
       "      <td>0.426</td>\n",
       "      <td>0.947</td>\n",
       "      <td>0.687</td>\n",
       "    </tr>\n",
       "    <tr>\n",
       "      <th>GaussianNB-default</th>\n",
       "      <td>0.83</td>\n",
       "      <td>0.411</td>\n",
       "      <td>0.901</td>\n",
       "      <td>0.656</td>\n",
       "    </tr>\n",
       "  </tbody>\n",
       "</table>\n",
       "</div>"
      ],
      "text/plain": [
       "                   Accuracy F1-score (class 1) F1-score (class 0)  \\\n",
       "RF-best               0.885              0.612              0.932   \n",
       "voting_best           0.886                0.6              0.934   \n",
       "extra_trees-best      0.878              0.561              0.929   \n",
       "stackyn-clf           0.907              0.546              0.948   \n",
       "voting_soft             0.9              0.508              0.944   \n",
       "DT-best               0.897              0.506              0.942   \n",
       "RF-default            0.905              0.482              0.948   \n",
       "DT-default            0.872              0.466              0.928   \n",
       "extra_trees           0.901              0.449              0.946   \n",
       "RF-balance            0.904              0.444              0.947   \n",
       "voting_hard           0.904              0.426              0.947   \n",
       "GaussianNB-default     0.83              0.411              0.901   \n",
       "\n",
       "                   F1-score (macro avg)  \n",
       "RF-best                           0.772  \n",
       "voting_best                       0.767  \n",
       "extra_trees-best                  0.745  \n",
       "stackyn-clf                       0.747  \n",
       "voting_soft                       0.726  \n",
       "DT-best                           0.724  \n",
       "RF-default                        0.715  \n",
       "DT-default                        0.697  \n",
       "extra_trees                       0.697  \n",
       "RF-balance                        0.696  \n",
       "voting_hard                       0.687  \n",
       "GaussianNB-default                0.656  "
      ]
     },
     "execution_count": 58,
     "metadata": {},
     "output_type": "execute_result"
    }
   ],
   "source": [
    "results.sort_values(by='F1-score (class 1)',ascending=False)"
   ]
  },
  {
   "cell_type": "markdown",
   "metadata": {},
   "source": [
    "We can see that our best model after all that work is the tunned random forest. Now lets check our metrics over this model.\n",
    "\n",
    "Our test results are very similar to the validation ones. Which means that our model would probably generalize well if we used it on new data.\n",
    "\n",
    "We have scalated from a f1-score for class 1 of 0.473 in our first decision tree to a 0.61. Which is a great improvement given the difficulty of the problem."
   ]
  },
  {
   "cell_type": "code",
   "execution_count": 59,
   "metadata": {},
   "outputs": [
    {
     "name": "stdout",
     "output_type": "stream",
     "text": [
      "              precision    recall  f1-score   support\n",
      "\n",
      "           0       0.97      0.90      0.93      7985\n",
      "           1       0.51      0.76      0.61      1058\n",
      "\n",
      "    accuracy                           0.89      9043\n",
      "   macro avg       0.74      0.83      0.77      9043\n",
      "weighted avg       0.91      0.89      0.90      9043\n",
      "\n"
     ]
    }
   ],
   "source": [
    "y_pred = rf_model_tuned.predict(X_test)\n",
    "\n",
    "print(classification_report(y_test,y_pred))"
   ]
  },
  {
   "cell_type": "code",
   "execution_count": 60,
   "metadata": {},
   "outputs": [
    {
     "data": {
      "text/html": [
       "<div>\n",
       "<style scoped>\n",
       "    .dataframe tbody tr th:only-of-type {\n",
       "        vertical-align: middle;\n",
       "    }\n",
       "\n",
       "    .dataframe tbody tr th {\n",
       "        vertical-align: top;\n",
       "    }\n",
       "\n",
       "    .dataframe thead th {\n",
       "        text-align: right;\n",
       "    }\n",
       "</style>\n",
       "<table border=\"1\" class=\"dataframe\">\n",
       "  <thead>\n",
       "    <tr style=\"text-align: right;\">\n",
       "      <th>predicted</th>\n",
       "      <th>0</th>\n",
       "      <th>1</th>\n",
       "    </tr>\n",
       "    <tr>\n",
       "      <th>target</th>\n",
       "      <th></th>\n",
       "      <th></th>\n",
       "    </tr>\n",
       "  </thead>\n",
       "  <tbody>\n",
       "    <tr>\n",
       "      <th>0</th>\n",
       "      <td>7208</td>\n",
       "      <td>777</td>\n",
       "    </tr>\n",
       "    <tr>\n",
       "      <th>1</th>\n",
       "      <td>254</td>\n",
       "      <td>804</td>\n",
       "    </tr>\n",
       "  </tbody>\n",
       "</table>\n",
       "</div>"
      ],
      "text/plain": [
       "predicted     0    1\n",
       "target              \n",
       "0          7208  777\n",
       "1           254  804"
      ]
     },
     "execution_count": 60,
     "metadata": {},
     "output_type": "execute_result"
    }
   ],
   "source": [
    "confusion(y_test, y_pred)"
   ]
  }
 ],
 "metadata": {
  "kernelspec": {
   "display_name": "Python 3",
   "language": "python",
   "name": "python3"
  },
  "language_info": {
   "codemirror_mode": {
    "name": "ipython",
    "version": 3
   },
   "file_extension": ".py",
   "mimetype": "text/x-python",
   "name": "python",
   "nbconvert_exporter": "python",
   "pygments_lexer": "ipython3",
   "version": "3.9.5"
  },
  "latex_envs": {
   "LaTeX_envs_menu_present": true,
   "autoclose": false,
   "autocomplete": true,
   "bibliofile": "biblio.bib",
   "cite_by": "apalike",
   "current_citInitial": 1,
   "eqLabelWithNumbers": true,
   "eqNumInitial": 1,
   "hotkeys": {
    "equation": "Ctrl-E",
    "itemize": "Ctrl-I"
   },
   "labels_anchors": false,
   "latex_user_defs": false,
   "report_style_numbering": false,
   "user_envs_cfg": false
  },
  "toc": {
   "base_numbering": 1,
   "nav_menu": {},
   "number_sections": true,
   "sideBar": true,
   "skip_h1_title": false,
   "title_cell": "Table of Contents",
   "title_sidebar": "Contents",
   "toc_cell": false,
   "toc_position": {
    "height": "calc(100% - 180px)",
    "left": "10px",
    "top": "150px",
    "width": "384px"
   },
   "toc_section_display": true,
   "toc_window_display": true
  }
 },
 "nbformat": 4,
 "nbformat_minor": 4
}
