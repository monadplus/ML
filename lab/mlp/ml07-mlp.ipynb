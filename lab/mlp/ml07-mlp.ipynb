{
 "cells": [
  {
   "cell_type": "markdown",
   "metadata": {},
   "source": [
    "# ML lab 07\n",
    "\n",
    "# Neural Networks"
   ]
  },
  {
   "cell_type": "code",
   "execution_count": 1,
   "metadata": {},
   "outputs": [],
   "source": [
    "# Uncomment to upgrade packages\n",
    "# !pip install pandas --upgrade --user --quiet\n",
    "# !pip install numpy --upgrade --user --quiet\n",
    "# !pip install scipy --upgrade --user --quiet\n",
    "# !pip install statsmodels --upgrade --user --quiet\n",
    "# !pip install scikit-learn --upgrade --user --quiet\n",
    "# !pip3 install graphviz --upgrade --user --quiet\n",
    "# If you are in windows use: conda install python-graphviz\n",
    "%load_ext autoreload"
   ]
  },
  {
   "cell_type": "code",
   "execution_count": 2,
   "metadata": {},
   "outputs": [],
   "source": [
    "import warnings\n",
    "warnings.filterwarnings('ignore')"
   ]
  },
  {
   "cell_type": "code",
   "execution_count": 3,
   "metadata": {},
   "outputs": [],
   "source": [
    "#%matplotlib notebook\n",
    "import numpy as np\n",
    "import matplotlib.pyplot as plt\n",
    "import seaborn as sn\n",
    "import pandas as pd\n",
    "from IPython.core.interactiveshell import InteractiveShell\n",
    "pd.set_option('precision', 3)\n",
    "InteractiveShell.ast_node_interactivity = \"all\""
   ]
  },
  {
   "cell_type": "code",
   "execution_count": 4,
   "metadata": {},
   "outputs": [],
   "source": [
    "# Extra imports\n",
    "from sklearn.metrics import confusion_matrix,\\\n",
    "                classification_report, accuracy_score\n",
    "from pandas import read_csv\n",
    "from sklearn.model_selection import train_test_split, cross_validate\n",
    "\n",
    "from sklearn.preprocessing import StandardScaler\n",
    "from sklearn.neural_network import MLPClassifier\n",
    "from graphviz import Digraph\n",
    "from sklearn.model_selection import GridSearchCV\n",
    "from numpy.random import normal\n",
    "from numpy.random import uniform\n",
    "\n",
    "from sklearn.neighbors import KNeighborsClassifier\n",
    "\n",
    "from sklearn.model_selection import cross_val_score\n",
    "from sklearn.model_selection import cross_val_predict\n",
    "\n",
    "from sklearn.linear_model import LogisticRegression\n",
    "from sklearn.decomposition import PCA\n",
    "\n",
    "from time import time\n",
    "from datetime import timedelta\n",
    "\n",
    "from sklearn.metrics import precision_score, classification_report, recall_score\n",
    "\n",
    "from sklearn.datasets import fetch_lfw_people\n",
    "\n",
    "np.random.seed(4567)"
   ]
  },
  {
   "cell_type": "code",
   "execution_count": 5,
   "metadata": {},
   "outputs": [],
   "source": [
    "# If you are in windows and graphviz gives you error:\n",
    "# import os \n",
    "# os.environ[\"PATH\"] += os.pathsep + r\"my graphviz installation path/bin\""
   ]
  },
  {
   "cell_type": "code",
   "execution_count": 6,
   "metadata": {},
   "outputs": [],
   "source": [
    "def confusion(true, pred):\n",
    "    \"\"\"\n",
    "    Function for pretty printing confusion matrices\n",
    "    \"\"\"\n",
    "    pred = pd.Series(pred)\n",
    "    true = pd.Series(true)\n",
    "    \n",
    "    true.name = 'target'\n",
    "    pred.name = 'predicted'\n",
    "    cm = pd.crosstab(true.reset_index(drop=True), pred.reset_index(drop=True))\n",
    "    cm = cm[cm.index]\n",
    "    return cm\n",
    "\n",
    "\n",
    "def graphMLP(vars,layers,intercepts):\n",
    "    \"\"\"\n",
    "    Function for plotting the weights of a mlp\n",
    "    \"\"\"\n",
    "    f = Digraph('')\n",
    "    f.attr(rankdir='LR')\n",
    "    for i,l in enumerate(layers):\n",
    "        if i==0:\n",
    "            for j in range(l.shape[1]):\n",
    "                for k, v in enumerate(vars):\n",
    "                    f.edge(v, 'L%dN%d'%(i,j), label=str(l[k,j]))\n",
    "            f.node('ILI', shape='doublecircle')                    \n",
    "            for k in range(intercepts[i].shape[0]): \n",
    "                f.edge('ILI', \n",
    "                       'L%dN%d'%(i,k), \n",
    "                       label=str(intercepts[i][k]))\n",
    "        else:\n",
    "            for j in range(l.shape[1]):\n",
    "                for k in range(layers[i-1].shape[1]):\n",
    "                    f.edge('L%dN%d'%(i-1,k), \n",
    "                           'L%dN%d'%(i,j), \n",
    "                           label=str(l[k,j]))\n",
    "            f.node('L%dI'%(i-1), shape='doublecircle')                  \n",
    "            for k in range(intercepts[i].shape[0]):\n",
    "                f.edge('L%dI'%(i-1), \n",
    "                       'L%dN%d'%(i,k), \n",
    "                       label=str(intercepts[i][k]))    \n",
    "                \n",
    "    return f\n"
   ]
  },
  {
   "cell_type": "markdown",
   "metadata": {},
   "source": [
    "## SECTION 1 Admissions"
   ]
  },
  {
   "cell_type": "markdown",
   "metadata": {},
   "source": [
    "We are going to use the admissions dataset for our examples on this lab. \n",
    "\n",
    "This dataset contains the next variables: \n",
    "* GRE (Graduate Record Exam scores)\n",
    "* GPA (Grade Point Average) and\n",
    "* rank (prestige of the undergraduate institution)\n",
    "\n",
    "This variables should affect admission into a graduate school.\n",
    "\n",
    "\n",
    " The target variable, admit/don't admit, is a binary variable, which we want to characterize\n",
    "and, if possible, to predict. "
   ]
  },
  {
   "cell_type": "code",
   "execution_count": 7,
   "metadata": {},
   "outputs": [
    {
     "data": {
      "text/html": [
       "<div>\n",
       "<style scoped>\n",
       "    .dataframe tbody tr th:only-of-type {\n",
       "        vertical-align: middle;\n",
       "    }\n",
       "\n",
       "    .dataframe tbody tr th {\n",
       "        vertical-align: top;\n",
       "    }\n",
       "\n",
       "    .dataframe thead th {\n",
       "        text-align: right;\n",
       "    }\n",
       "</style>\n",
       "<table border=\"1\" class=\"dataframe\">\n",
       "  <thead>\n",
       "    <tr style=\"text-align: right;\">\n",
       "      <th></th>\n",
       "      <th>admit</th>\n",
       "      <th>gre</th>\n",
       "      <th>gpa</th>\n",
       "      <th>rank</th>\n",
       "    </tr>\n",
       "  </thead>\n",
       "  <tbody>\n",
       "    <tr>\n",
       "      <th>0</th>\n",
       "      <td>0</td>\n",
       "      <td>380</td>\n",
       "      <td>3.61</td>\n",
       "      <td>3</td>\n",
       "    </tr>\n",
       "    <tr>\n",
       "      <th>1</th>\n",
       "      <td>1</td>\n",
       "      <td>660</td>\n",
       "      <td>3.67</td>\n",
       "      <td>3</td>\n",
       "    </tr>\n",
       "    <tr>\n",
       "      <th>2</th>\n",
       "      <td>1</td>\n",
       "      <td>800</td>\n",
       "      <td>4.00</td>\n",
       "      <td>1</td>\n",
       "    </tr>\n",
       "    <tr>\n",
       "      <th>3</th>\n",
       "      <td>1</td>\n",
       "      <td>640</td>\n",
       "      <td>3.19</td>\n",
       "      <td>4</td>\n",
       "    </tr>\n",
       "    <tr>\n",
       "      <th>4</th>\n",
       "      <td>0</td>\n",
       "      <td>520</td>\n",
       "      <td>2.93</td>\n",
       "      <td>4</td>\n",
       "    </tr>\n",
       "  </tbody>\n",
       "</table>\n",
       "</div>"
      ],
      "text/plain": [
       "   admit  gre   gpa  rank\n",
       "0      0  380  3.61     3\n",
       "1      1  660  3.67     3\n",
       "2      1  800  4.00     1\n",
       "3      1  640  3.19     4\n",
       "4      0  520  2.93     4"
      ]
     },
     "execution_count": 7,
     "metadata": {},
     "output_type": "execute_result"
    }
   ],
   "source": [
    "Admis = read_csv(\"Admissions.csv\", delimiter=',')\n",
    "Admis.head()"
   ]
  },
  {
   "cell_type": "markdown",
   "metadata": {},
   "source": [
    "We will treat all the variables gre and gpa as continuous.\n",
    "\n",
    "The variable rank takes on the values 1 through 4, so we can fairly treat it as numerical (although, in rigour, it is ordinal)"
   ]
  },
  {
   "cell_type": "code",
   "execution_count": 8,
   "metadata": {},
   "outputs": [
    {
     "data": {
      "text/html": [
       "<div>\n",
       "<style scoped>\n",
       "    .dataframe tbody tr th:only-of-type {\n",
       "        vertical-align: middle;\n",
       "    }\n",
       "\n",
       "    .dataframe tbody tr th {\n",
       "        vertical-align: top;\n",
       "    }\n",
       "\n",
       "    .dataframe thead th {\n",
       "        text-align: right;\n",
       "    }\n",
       "</style>\n",
       "<table border=\"1\" class=\"dataframe\">\n",
       "  <thead>\n",
       "    <tr style=\"text-align: right;\">\n",
       "      <th></th>\n",
       "      <th>admit</th>\n",
       "      <th>gre</th>\n",
       "      <th>gpa</th>\n",
       "      <th>rank</th>\n",
       "    </tr>\n",
       "  </thead>\n",
       "  <tbody>\n",
       "    <tr>\n",
       "      <th>count</th>\n",
       "      <td>400.000</td>\n",
       "      <td>400.000</td>\n",
       "      <td>400.000</td>\n",
       "      <td>400.000</td>\n",
       "    </tr>\n",
       "    <tr>\n",
       "      <th>mean</th>\n",
       "      <td>0.318</td>\n",
       "      <td>587.700</td>\n",
       "      <td>3.390</td>\n",
       "      <td>2.485</td>\n",
       "    </tr>\n",
       "    <tr>\n",
       "      <th>std</th>\n",
       "      <td>0.466</td>\n",
       "      <td>115.517</td>\n",
       "      <td>0.381</td>\n",
       "      <td>0.944</td>\n",
       "    </tr>\n",
       "    <tr>\n",
       "      <th>min</th>\n",
       "      <td>0.000</td>\n",
       "      <td>220.000</td>\n",
       "      <td>2.260</td>\n",
       "      <td>1.000</td>\n",
       "    </tr>\n",
       "    <tr>\n",
       "      <th>25%</th>\n",
       "      <td>0.000</td>\n",
       "      <td>520.000</td>\n",
       "      <td>3.130</td>\n",
       "      <td>2.000</td>\n",
       "    </tr>\n",
       "    <tr>\n",
       "      <th>50%</th>\n",
       "      <td>0.000</td>\n",
       "      <td>580.000</td>\n",
       "      <td>3.395</td>\n",
       "      <td>2.000</td>\n",
       "    </tr>\n",
       "    <tr>\n",
       "      <th>75%</th>\n",
       "      <td>1.000</td>\n",
       "      <td>660.000</td>\n",
       "      <td>3.670</td>\n",
       "      <td>3.000</td>\n",
       "    </tr>\n",
       "    <tr>\n",
       "      <th>max</th>\n",
       "      <td>1.000</td>\n",
       "      <td>800.000</td>\n",
       "      <td>4.000</td>\n",
       "      <td>4.000</td>\n",
       "    </tr>\n",
       "  </tbody>\n",
       "</table>\n",
       "</div>"
      ],
      "text/plain": [
       "         admit      gre      gpa     rank\n",
       "count  400.000  400.000  400.000  400.000\n",
       "mean     0.318  587.700    3.390    2.485\n",
       "std      0.466  115.517    0.381    0.944\n",
       "min      0.000  220.000    2.260    1.000\n",
       "25%      0.000  520.000    3.130    2.000\n",
       "50%      0.000  580.000    3.395    2.000\n",
       "75%      1.000  660.000    3.670    3.000\n",
       "max      1.000  800.000    4.000    4.000"
      ]
     },
     "execution_count": 8,
     "metadata": {},
     "output_type": "execute_result"
    }
   ],
   "source": [
    "Admis.describe()\n",
    "\n",
    "N = Admis.shape[0]"
   ]
  },
  {
   "cell_type": "markdown",
   "metadata": {},
   "source": [
    "We first split the available data into learning and test sets, selecting randomly 2/3 and 1/3 of the data We do this for a honest estimation of prediction performance."
   ]
  },
  {
   "cell_type": "markdown",
   "metadata": {},
   "source": [
    "### Resampling protocol\n",
    "\n",
    "This time we will use a Train and Test partitions and we will use the cross-validation score to compare the models. "
   ]
  },
  {
   "cell_type": "code",
   "execution_count": 9,
   "metadata": {},
   "outputs": [],
   "source": [
    "np.random.seed(63)\n",
    "X_train, X_test, y_train, y_test =\\\n",
    "        train_test_split(Admis[['gre', 'gpa', 'rank']], Admis.admit, test_size=0.33,random_state=42)"
   ]
  },
  {
   "cell_type": "markdown",
   "metadata": {},
   "source": [
    "### Pre-processing\n",
    "\n",
    "We will use a simple pre-processing. Just scaling. "
   ]
  },
  {
   "cell_type": "code",
   "execution_count": 10,
   "metadata": {},
   "outputs": [],
   "source": [
    "X_train = StandardScaler().fit_transform(X_train)\n",
    "X_test = StandardScaler().fit_transform(X_test)"
   ]
  },
  {
   "cell_type": "markdown",
   "metadata": {},
   "source": [
    "### Choosing our metrics\n",
    "\n",
    "This time we have an unbalanced classification problem, where it is equally important to predict correctly both classes. \n",
    "For this reason our main metric is going to be F-score macro. We are also going to check precision macro and recall macro. "
   ]
  },
  {
   "cell_type": "code",
   "execution_count": 11,
   "metadata": {},
   "outputs": [],
   "source": [
    "results_df = pd.DataFrame(index=['Logistic Regression'],\n",
    "                          columns=['F-score (cv)', 'Precision (cv)','Recall (cv)', 'Accuracy (cv)'])"
   ]
  },
  {
   "cell_type": "markdown",
   "metadata": {},
   "source": [
    "### Baseline: Logistic Regression\n",
    "\n",
    "We are going to use the logistic regression as a baseline, and we will try to improve the results given by the baseline with the other models.\n",
    "\n",
    "We are using a baseline this time because this is the Neural Networks lab, and we will be training MLPs. As you might already know, an MLP can be quite slow to train and has tons of hyperparameters, so, to be sure that we don't need hours to discover that we have done something wrong, we will use a simple model (logistic regression) as a baseline. "
   ]
  },
  {
   "cell_type": "code",
   "execution_count": 12,
   "metadata": {},
   "outputs": [
    {
     "data": {
      "text/plain": [
       "LogisticRegression()"
      ]
     },
     "execution_count": 12,
     "metadata": {},
     "output_type": "execute_result"
    },
    {
     "data": {
      "text/html": [
       "<div>\n",
       "<style scoped>\n",
       "    .dataframe tbody tr th:only-of-type {\n",
       "        vertical-align: middle;\n",
       "    }\n",
       "\n",
       "    .dataframe tbody tr th {\n",
       "        vertical-align: top;\n",
       "    }\n",
       "\n",
       "    .dataframe thead th {\n",
       "        text-align: right;\n",
       "    }\n",
       "</style>\n",
       "<table border=\"1\" class=\"dataframe\">\n",
       "  <thead>\n",
       "    <tr style=\"text-align: right;\">\n",
       "      <th>predicted</th>\n",
       "      <th>0</th>\n",
       "      <th>1</th>\n",
       "    </tr>\n",
       "    <tr>\n",
       "      <th>target</th>\n",
       "      <th></th>\n",
       "      <th></th>\n",
       "    </tr>\n",
       "  </thead>\n",
       "  <tbody>\n",
       "    <tr>\n",
       "      <th>0</th>\n",
       "      <td>171</td>\n",
       "      <td>12</td>\n",
       "    </tr>\n",
       "    <tr>\n",
       "      <th>1</th>\n",
       "      <td>65</td>\n",
       "      <td>20</td>\n",
       "    </tr>\n",
       "  </tbody>\n",
       "</table>\n",
       "</div>"
      ],
      "text/plain": [
       "predicted    0   1\n",
       "target            \n",
       "0          171  12\n",
       "1           65  20"
      ]
     },
     "execution_count": 12,
     "metadata": {},
     "output_type": "execute_result"
    },
    {
     "data": {
      "text/html": [
       "<div>\n",
       "<style scoped>\n",
       "    .dataframe tbody tr th:only-of-type {\n",
       "        vertical-align: middle;\n",
       "    }\n",
       "\n",
       "    .dataframe tbody tr th {\n",
       "        vertical-align: top;\n",
       "    }\n",
       "\n",
       "    .dataframe thead th {\n",
       "        text-align: right;\n",
       "    }\n",
       "</style>\n",
       "<table border=\"1\" class=\"dataframe\">\n",
       "  <thead>\n",
       "    <tr style=\"text-align: right;\">\n",
       "      <th></th>\n",
       "      <th>F-score (cv)</th>\n",
       "      <th>Precision (cv)</th>\n",
       "      <th>Recall (cv)</th>\n",
       "      <th>Accuracy (cv)</th>\n",
       "    </tr>\n",
       "  </thead>\n",
       "  <tbody>\n",
       "    <tr>\n",
       "      <th>Logistic Regression</th>\n",
       "      <td>0.554</td>\n",
       "      <td>0.686</td>\n",
       "      <td>0.568</td>\n",
       "      <td>0.698</td>\n",
       "    </tr>\n",
       "  </tbody>\n",
       "</table>\n",
       "</div>"
      ],
      "text/plain": [
       "                    F-score (cv) Precision (cv) Recall (cv) Accuracy (cv)\n",
       "Logistic Regression        0.554          0.686       0.568         0.698"
      ]
     },
     "execution_count": 12,
     "metadata": {},
     "output_type": "execute_result"
    }
   ],
   "source": [
    "logreg = LogisticRegression()\n",
    "logreg.fit(X_train, y_train)\n",
    "scores = cross_val_score(logreg, X_train, y_train, cv=5)\n",
    "y_pred_lr = logreg.predict(X_train)\n",
    "\n",
    "cross_val_results = pd.DataFrame(cross_validate(logreg , X_train, y_train, cv = 5, \n",
    "                                                scoring = [ 'f1_macro', 'precision_macro', 'recall_macro', 'accuracy'] ))\n",
    "\n",
    "results_df.loc['Logistic Regression',:] = cross_val_results[['test_f1_macro',\n",
    "       'test_precision_macro', 'test_recall_macro','test_accuracy']].mean().values\n",
    "\n",
    "confusion(y_train,y_pred_lr)\n",
    "results_df"
   ]
  },
  {
   "cell_type": "markdown",
   "metadata": {},
   "source": [
    "Just with the baseline we are already obtaining a 69% of accuracy and a 0.55 of F-score. The gap between those two metrics is probably caused by the unbalance. \n",
    "\n",
    "Now we can check the coeficients to see if there is any strange stuff that we should fix before starting with our networks."
   ]
  },
  {
   "cell_type": "code",
   "execution_count": 13,
   "metadata": {
    "scrolled": true
   },
   "outputs": [
    {
     "data": {
      "text/plain": [
       "array([[ 0.16385153,  0.35034143, -0.46349665]])"
      ]
     },
     "execution_count": 13,
     "metadata": {},
     "output_type": "execute_result"
    },
    {
     "data": {
      "text/plain": [
       "array([-0.84430907])"
      ]
     },
     "execution_count": 13,
     "metadata": {},
     "output_type": "execute_result"
    }
   ],
   "source": [
    "logreg.coef_\n",
    "logreg.intercept_"
   ]
  },
  {
   "cell_type": "markdown",
   "metadata": {},
   "source": [
    "### Multi Layered Perceptron (Yay! Neural Networks!)\n",
    "\n",
    "MLP is almost the simplest of the Neural Network models. This model is based on combining linearly the input of the previous layer and applying an activation function to the result over different layers. \n",
    "\n",
    "When it has more than a hidden layer it is called a __Deep__ Neural Network. This hidden layers give the model complexity and expresivity, but also add more weights that you will need to train.\n",
    "\n",
    "The most important parameters of the MLP are: \n",
    "* Architecture (number of layers and number of neurons by layer). \n",
    "* Activation function. \n",
    "* alpha (regularization term).\n",
    "* Solver ‘lbfgs’, ‘sgd’, ‘adam’.\n",
    "* Learning rate, learning_rate_init.\n",
    "\n",
    "As you can see, this model has many hyperparameters; if in doubt, you can look up [their meaning here](https://scikit-learn.org/stable/modules/generated/sklearn.neural_network.MLPClassifier.html)\n",
    "\n",
    "We are going to start with a 1 neuron dummy MLP with logistic activation function and no regularization."
   ]
  },
  {
   "cell_type": "code",
   "execution_count": 14,
   "metadata": {},
   "outputs": [
    {
     "data": {
      "text/plain": [
       "MLPClassifier(activation='logistic', alpha=0, hidden_layer_sizes=[1],\n",
       "              random_state=42, solver='lbfgs')"
      ]
     },
     "execution_count": 14,
     "metadata": {},
     "output_type": "execute_result"
    },
    {
     "name": "stdout",
     "output_type": "stream",
     "text": [
      "Confusion matrix of the TRAIN dataset\n"
     ]
    },
    {
     "data": {
      "text/html": [
       "<div>\n",
       "<style scoped>\n",
       "    .dataframe tbody tr th:only-of-type {\n",
       "        vertical-align: middle;\n",
       "    }\n",
       "\n",
       "    .dataframe tbody tr th {\n",
       "        vertical-align: top;\n",
       "    }\n",
       "\n",
       "    .dataframe thead th {\n",
       "        text-align: right;\n",
       "    }\n",
       "</style>\n",
       "<table border=\"1\" class=\"dataframe\">\n",
       "  <thead>\n",
       "    <tr style=\"text-align: right;\">\n",
       "      <th>predicted</th>\n",
       "      <th>0</th>\n",
       "      <th>1</th>\n",
       "    </tr>\n",
       "    <tr>\n",
       "      <th>target</th>\n",
       "      <th></th>\n",
       "      <th></th>\n",
       "    </tr>\n",
       "  </thead>\n",
       "  <tbody>\n",
       "    <tr>\n",
       "      <th>0</th>\n",
       "      <td>171</td>\n",
       "      <td>12</td>\n",
       "    </tr>\n",
       "    <tr>\n",
       "      <th>1</th>\n",
       "      <td>66</td>\n",
       "      <td>19</td>\n",
       "    </tr>\n",
       "  </tbody>\n",
       "</table>\n",
       "</div>"
      ],
      "text/plain": [
       "predicted    0   1\n",
       "target            \n",
       "0          171  12\n",
       "1           66  19"
      ]
     },
     "execution_count": 14,
     "metadata": {},
     "output_type": "execute_result"
    },
    {
     "data": {
      "text/html": [
       "<div>\n",
       "<style scoped>\n",
       "    .dataframe tbody tr th:only-of-type {\n",
       "        vertical-align: middle;\n",
       "    }\n",
       "\n",
       "    .dataframe tbody tr th {\n",
       "        vertical-align: top;\n",
       "    }\n",
       "\n",
       "    .dataframe thead th {\n",
       "        text-align: right;\n",
       "    }\n",
       "</style>\n",
       "<table border=\"1\" class=\"dataframe\">\n",
       "  <thead>\n",
       "    <tr style=\"text-align: right;\">\n",
       "      <th></th>\n",
       "      <th>F-score (cv)</th>\n",
       "      <th>Precision (cv)</th>\n",
       "      <th>Recall (cv)</th>\n",
       "      <th>Accuracy (cv)</th>\n",
       "    </tr>\n",
       "  </thead>\n",
       "  <tbody>\n",
       "    <tr>\n",
       "      <th>MLP[1]</th>\n",
       "      <td>0.56</td>\n",
       "      <td>0.655</td>\n",
       "      <td>0.57</td>\n",
       "      <td>0.683</td>\n",
       "    </tr>\n",
       "    <tr>\n",
       "      <th>Logistic Regression</th>\n",
       "      <td>0.554</td>\n",
       "      <td>0.686</td>\n",
       "      <td>0.568</td>\n",
       "      <td>0.698</td>\n",
       "    </tr>\n",
       "  </tbody>\n",
       "</table>\n",
       "</div>"
      ],
      "text/plain": [
       "                    F-score (cv) Precision (cv) Recall (cv) Accuracy (cv)\n",
       "MLP[1]                      0.56          0.655        0.57         0.683\n",
       "Logistic Regression        0.554          0.686       0.568         0.698"
      ]
     },
     "execution_count": 14,
     "metadata": {},
     "output_type": "execute_result"
    }
   ],
   "source": [
    "model_nnet = MLPClassifier(hidden_layer_sizes=[1],\n",
    "                           alpha=0,\n",
    "                           activation='logistic',\n",
    "                           max_iter=200,\n",
    "                           solver='lbfgs',random_state=42)\n",
    "model_nnet.fit(X_train, y_train);\n",
    "\n",
    "\n",
    "y_pred = model_nnet.predict(X_train)\n",
    "\n",
    "print('Confusion matrix of the TRAIN dataset')\n",
    "confusion(y_train, y_pred)\n",
    "\n",
    "cross_val_results = pd.DataFrame(cross_validate(model_nnet , X_train, y_train, cv = 5, \n",
    "                                                scoring = [ 'f1_macro', 'precision_macro', 'recall_macro', 'accuracy'] ))\n",
    "\n",
    "results_df.loc['MLP[1]',:] = cross_val_results[['test_f1_macro',\n",
    "       'test_precision_macro', 'test_recall_macro','test_accuracy']].mean().values\n",
    "\n",
    "results_df.sort_values(by='F-score (cv)', ascending=False)"
   ]
  },
  {
   "cell_type": "markdown",
   "metadata": {},
   "source": [
    "We can see that this dummy mlp is already winning our other model in our main metric. Let's see how this is looking on the inside.\n",
    "\n",
    "Here we can see this mlp weights."
   ]
  },
  {
   "cell_type": "code",
   "execution_count": 15,
   "metadata": {},
   "outputs": [
    {
     "data": {
      "text/plain": [
       "[array([[-0.04738262],\n",
       "        [-0.09513642],\n",
       "        [ 0.12664584]]),\n",
       " array([[-44.9439396]])]"
      ]
     },
     "execution_count": 15,
     "metadata": {},
     "output_type": "execute_result"
    },
    {
     "data": {
      "text/plain": [
       "[array([-2.27715207]), array([3.37721454])]"
      ]
     },
     "execution_count": 15,
     "metadata": {},
     "output_type": "execute_result"
    }
   ],
   "source": [
    "model_nnet.coefs_\n",
    "model_nnet.intercepts_"
   ]
  },
  {
   "cell_type": "markdown",
   "metadata": {},
   "source": [
    "We can also look at it as a graph. Isn't this structure familiar?"
   ]
  },
  {
   "cell_type": "code",
   "execution_count": 16,
   "metadata": {},
   "outputs": [
    {
     "data": {
      "image/svg+xml": [
       "<?xml version=\"1.0\" encoding=\"UTF-8\" standalone=\"no\"?>\n",
       "<!DOCTYPE svg PUBLIC \"-//W3C//DTD SVG 1.1//EN\"\n",
       " \"http://www.w3.org/Graphics/SVG/1.1/DTD/svg11.dtd\">\n",
       "<!-- Generated by graphviz version 2.47.1 (0)\n",
       " -->\n",
       "<!-- Pages: 1 -->\n",
       "<svg width=\"508pt\" height=\"222pt\"\n",
       " viewBox=\"0.00 0.00 507.79 222.10\" xmlns=\"http://www.w3.org/2000/svg\" xmlns:xlink=\"http://www.w3.org/1999/xlink\">\n",
       "<g id=\"graph0\" class=\"graph\" transform=\"scale(1 1) rotate(0) translate(4 218.1)\">\n",
       "<polygon fill=\"white\" stroke=\"transparent\" points=\"-4,4 -4,-218.1 503.79,-218.1 503.79,4 -4,4\"/>\n",
       "<!-- gre -->\n",
       "<g id=\"node1\" class=\"node\">\n",
       "<title>gre</title>\n",
       "<ellipse fill=\"none\" stroke=\"black\" cx=\"27\" cy=\"-196.1\" rx=\"27\" ry=\"18\"/>\n",
       "<text text-anchor=\"middle\" x=\"27\" y=\"-192.4\" font-family=\"Times,serif\" font-size=\"14.00\">gre</text>\n",
       "</g>\n",
       "<!-- L0N0 -->\n",
       "<g id=\"node2\" class=\"node\">\n",
       "<title>L0N0</title>\n",
       "<ellipse fill=\"none\" stroke=\"black\" cx=\"251.2\" cy=\"-115.1\" rx=\"31.4\" ry=\"18\"/>\n",
       "<text text-anchor=\"middle\" x=\"251.2\" y=\"-111.4\" font-family=\"Times,serif\" font-size=\"14.00\">L0N0</text>\n",
       "</g>\n",
       "<!-- gre&#45;&gt;L0N0 -->\n",
       "<g id=\"edge1\" class=\"edge\">\n",
       "<title>gre&#45;&gt;L0N0</title>\n",
       "<path fill=\"none\" stroke=\"black\" d=\"M54.03,-193.72C89.2,-189.7 153.11,-179.45 202,-155.1 211.01,-150.61 219.8,-144.14 227.36,-137.71\"/>\n",
       "<polygon fill=\"black\" stroke=\"black\" points=\"229.91,-140.12 235.02,-130.84 225.24,-134.91 229.91,-140.12\"/>\n",
       "<text text-anchor=\"middle\" x=\"137\" y=\"-194.9\" font-family=\"Times,serif\" font-size=\"14.00\">&#45;0.04738261893792862</text>\n",
       "</g>\n",
       "<!-- L1N0 -->\n",
       "<g id=\"node6\" class=\"node\">\n",
       "<title>L1N0</title>\n",
       "<ellipse fill=\"none\" stroke=\"black\" cx=\"468.59\" cy=\"-71.1\" rx=\"31.4\" ry=\"18\"/>\n",
       "<text text-anchor=\"middle\" x=\"468.59\" y=\"-67.4\" font-family=\"Times,serif\" font-size=\"14.00\">L1N0</text>\n",
       "</g>\n",
       "<!-- L0N0&#45;&gt;L1N0 -->\n",
       "<g id=\"edge5\" class=\"edge\">\n",
       "<title>L0N0&#45;&gt;L1N0</title>\n",
       "<path fill=\"none\" stroke=\"black\" d=\"M280.8,-109.26C318.86,-101.48 386.29,-87.71 428.87,-79.01\"/>\n",
       "<polygon fill=\"black\" stroke=\"black\" points=\"429.77,-82.4 438.87,-76.97 428.37,-75.54 429.77,-82.4\"/>\n",
       "<text text-anchor=\"middle\" x=\"359.89\" y=\"-107.9\" font-family=\"Times,serif\" font-size=\"14.00\">&#45;44.94393960144501</text>\n",
       "</g>\n",
       "<!-- gpa -->\n",
       "<g id=\"node3\" class=\"node\">\n",
       "<title>gpa</title>\n",
       "<ellipse fill=\"none\" stroke=\"black\" cx=\"27\" cy=\"-142.1\" rx=\"27\" ry=\"18\"/>\n",
       "<text text-anchor=\"middle\" x=\"27\" y=\"-138.4\" font-family=\"Times,serif\" font-size=\"14.00\">gpa</text>\n",
       "</g>\n",
       "<!-- gpa&#45;&gt;L0N0 -->\n",
       "<g id=\"edge2\" class=\"edge\">\n",
       "<title>gpa&#45;&gt;L0N0</title>\n",
       "<path fill=\"none\" stroke=\"black\" d=\"M53.92,-138.95C92.48,-134.26 165.23,-125.42 210.51,-119.92\"/>\n",
       "<polygon fill=\"black\" stroke=\"black\" points=\"211.06,-123.38 220.56,-118.7 210.21,-116.43 211.06,-123.38\"/>\n",
       "<text text-anchor=\"middle\" x=\"137\" y=\"-139.9\" font-family=\"Times,serif\" font-size=\"14.00\">&#45;0.09513641895959138</text>\n",
       "</g>\n",
       "<!-- rank -->\n",
       "<g id=\"node4\" class=\"node\">\n",
       "<title>rank</title>\n",
       "<ellipse fill=\"none\" stroke=\"black\" cx=\"27\" cy=\"-88.1\" rx=\"27\" ry=\"18\"/>\n",
       "<text text-anchor=\"middle\" x=\"27\" y=\"-84.4\" font-family=\"Times,serif\" font-size=\"14.00\">rank</text>\n",
       "</g>\n",
       "<!-- rank&#45;&gt;L0N0 -->\n",
       "<g id=\"edge3\" class=\"edge\">\n",
       "<title>rank&#45;&gt;L0N0</title>\n",
       "<path fill=\"none\" stroke=\"black\" d=\"M54.13,-88.71C88.33,-89.85 150.04,-93.08 202,-102.1 205.72,-102.74 209.57,-103.55 213.4,-104.43\"/>\n",
       "<polygon fill=\"black\" stroke=\"black\" points=\"212.82,-107.9 223.37,-106.93 214.52,-101.11 212.82,-107.9\"/>\n",
       "<text text-anchor=\"middle\" x=\"137\" y=\"-105.9\" font-family=\"Times,serif\" font-size=\"14.00\">0.12664583659405035</text>\n",
       "</g>\n",
       "<!-- ILI -->\n",
       "<g id=\"node5\" class=\"node\">\n",
       "<title>ILI</title>\n",
       "<ellipse fill=\"none\" stroke=\"black\" cx=\"27\" cy=\"-26.1\" rx=\"22.18\" ry=\"22.18\"/>\n",
       "<ellipse fill=\"none\" stroke=\"black\" cx=\"27\" cy=\"-26.1\" rx=\"26.2\" ry=\"26.2\"/>\n",
       "<text text-anchor=\"middle\" x=\"27\" y=\"-22.4\" font-family=\"Times,serif\" font-size=\"14.00\">ILI</text>\n",
       "</g>\n",
       "<!-- ILI&#45;&gt;L0N0 -->\n",
       "<g id=\"edge4\" class=\"edge\">\n",
       "<title>ILI&#45;&gt;L0N0</title>\n",
       "<path fill=\"none\" stroke=\"black\" d=\"M53.18,-28.23C88.49,-32.13 153.77,-42.71 202,-70.1 211.84,-75.69 211.78,-80.32 220,-88.1 221.83,-89.83 223.75,-91.61 225.68,-93.39\"/>\n",
       "<polygon fill=\"black\" stroke=\"black\" points=\"223.36,-96 233.12,-100.13 228.06,-90.82 223.36,-96\"/>\n",
       "<text text-anchor=\"middle\" x=\"137\" y=\"-73.9\" font-family=\"Times,serif\" font-size=\"14.00\">&#45;2.2771520681283635</text>\n",
       "</g>\n",
       "<!-- L0I -->\n",
       "<g id=\"node7\" class=\"node\">\n",
       "<title>L0I</title>\n",
       "<ellipse fill=\"none\" stroke=\"black\" cx=\"251.2\" cy=\"-52.1\" rx=\"23.31\" ry=\"23.31\"/>\n",
       "<ellipse fill=\"none\" stroke=\"black\" cx=\"251.2\" cy=\"-52.1\" rx=\"27.3\" ry=\"27.3\"/>\n",
       "<text text-anchor=\"middle\" x=\"251.2\" y=\"-48.4\" font-family=\"Times,serif\" font-size=\"14.00\">L0I</text>\n",
       "</g>\n",
       "<!-- L0I&#45;&gt;L1N0 -->\n",
       "<g id=\"edge6\" class=\"edge\">\n",
       "<title>L0I&#45;&gt;L1N0</title>\n",
       "<path fill=\"none\" stroke=\"black\" d=\"M278.58,-53.77C311.56,-55.95 369.72,-60.08 419.39,-65.1 422.23,-65.38 425.15,-65.7 428.09,-66.03\"/>\n",
       "<polygon fill=\"black\" stroke=\"black\" points=\"427.71,-69.51 438.05,-67.2 428.53,-62.56 427.71,-69.51\"/>\n",
       "<text text-anchor=\"middle\" x=\"359.89\" y=\"-68.9\" font-family=\"Times,serif\" font-size=\"14.00\">3.3772145429900964</text>\n",
       "</g>\n",
       "</g>\n",
       "</svg>\n"
      ],
      "text/plain": [
       "<graphviz.dot.Digraph at 0x7f5ed92dbd30>"
      ]
     },
     "execution_count": 16,
     "metadata": {},
     "output_type": "execute_result"
    }
   ],
   "source": [
    "graphMLP(Admis.columns[1:], model_nnet.coefs_, model_nnet.intercepts_)"
   ]
  },
  {
   "cell_type": "markdown",
   "metadata": {},
   "source": [
    "On this graph the gre, gpa, rank and ILI represent the input layer,which would be our training samples. \n",
    "L0N0 is our hidden neuron. L01 the extra intercept and L1N0 our output neuron. "
   ]
  },
  {
   "cell_type": "markdown",
   "metadata": {},
   "source": [
    "Now that we know what we are doing, lets make a bigger network."
   ]
  },
  {
   "cell_type": "code",
   "execution_count": 17,
   "metadata": {},
   "outputs": [
    {
     "data": {
      "text/plain": [
       "MLPClassifier(activation='logistic', alpha=0, hidden_layer_sizes=[2, 2, 2],\n",
       "              random_state=42, solver='lbfgs')"
      ]
     },
     "execution_count": 17,
     "metadata": {},
     "output_type": "execute_result"
    },
    {
     "name": "stdout",
     "output_type": "stream",
     "text": [
      "Confusion matrix of the TRAIN dataset\n"
     ]
    },
    {
     "data": {
      "text/html": [
       "<div>\n",
       "<style scoped>\n",
       "    .dataframe tbody tr th:only-of-type {\n",
       "        vertical-align: middle;\n",
       "    }\n",
       "\n",
       "    .dataframe tbody tr th {\n",
       "        vertical-align: top;\n",
       "    }\n",
       "\n",
       "    .dataframe thead th {\n",
       "        text-align: right;\n",
       "    }\n",
       "</style>\n",
       "<table border=\"1\" class=\"dataframe\">\n",
       "  <thead>\n",
       "    <tr style=\"text-align: right;\">\n",
       "      <th>predicted</th>\n",
       "      <th>0</th>\n",
       "      <th>1</th>\n",
       "    </tr>\n",
       "    <tr>\n",
       "      <th>target</th>\n",
       "      <th></th>\n",
       "      <th></th>\n",
       "    </tr>\n",
       "  </thead>\n",
       "  <tbody>\n",
       "    <tr>\n",
       "      <th>0</th>\n",
       "      <td>150</td>\n",
       "      <td>33</td>\n",
       "    </tr>\n",
       "    <tr>\n",
       "      <th>1</th>\n",
       "      <td>46</td>\n",
       "      <td>39</td>\n",
       "    </tr>\n",
       "  </tbody>\n",
       "</table>\n",
       "</div>"
      ],
      "text/plain": [
       "predicted    0   1\n",
       "target            \n",
       "0          150  33\n",
       "1           46  39"
      ]
     },
     "execution_count": 17,
     "metadata": {},
     "output_type": "execute_result"
    },
    {
     "data": {
      "text/html": [
       "<div>\n",
       "<style scoped>\n",
       "    .dataframe tbody tr th:only-of-type {\n",
       "        vertical-align: middle;\n",
       "    }\n",
       "\n",
       "    .dataframe tbody tr th {\n",
       "        vertical-align: top;\n",
       "    }\n",
       "\n",
       "    .dataframe thead th {\n",
       "        text-align: right;\n",
       "    }\n",
       "</style>\n",
       "<table border=\"1\" class=\"dataframe\">\n",
       "  <thead>\n",
       "    <tr style=\"text-align: right;\">\n",
       "      <th></th>\n",
       "      <th>F-score (cv)</th>\n",
       "      <th>Precision (cv)</th>\n",
       "      <th>Recall (cv)</th>\n",
       "      <th>Accuracy (cv)</th>\n",
       "    </tr>\n",
       "  </thead>\n",
       "  <tbody>\n",
       "    <tr>\n",
       "      <th>MLP[2,2,2]</th>\n",
       "      <td>0.575</td>\n",
       "      <td>0.648</td>\n",
       "      <td>0.586</td>\n",
       "      <td>0.702</td>\n",
       "    </tr>\n",
       "    <tr>\n",
       "      <th>MLP[1]</th>\n",
       "      <td>0.56</td>\n",
       "      <td>0.655</td>\n",
       "      <td>0.57</td>\n",
       "      <td>0.683</td>\n",
       "    </tr>\n",
       "    <tr>\n",
       "      <th>Logistic Regression</th>\n",
       "      <td>0.554</td>\n",
       "      <td>0.686</td>\n",
       "      <td>0.568</td>\n",
       "      <td>0.698</td>\n",
       "    </tr>\n",
       "  </tbody>\n",
       "</table>\n",
       "</div>"
      ],
      "text/plain": [
       "                    F-score (cv) Precision (cv) Recall (cv) Accuracy (cv)\n",
       "MLP[2,2,2]                 0.575          0.648       0.586         0.702\n",
       "MLP[1]                      0.56          0.655        0.57         0.683\n",
       "Logistic Regression        0.554          0.686       0.568         0.698"
      ]
     },
     "execution_count": 17,
     "metadata": {},
     "output_type": "execute_result"
    }
   ],
   "source": [
    "model_nnet = MLPClassifier(hidden_layer_sizes=[2,2,2],\n",
    "                           alpha=0,\n",
    "                           activation='logistic',\n",
    "                           max_iter=200,\n",
    "                           solver='lbfgs',random_state=42)\n",
    "model_nnet.fit(X_train,y_train);\n",
    "y_pred = model_nnet.predict(X_train)\n",
    "\n",
    "print('Confusion matrix of the TRAIN dataset')\n",
    "confusion(y_train,y_pred)\n",
    "\n",
    "cross_val_results = pd.DataFrame(cross_validate(model_nnet , X_train, y_train, cv = 5, \n",
    "                                                scoring = [ 'f1_macro', 'precision_macro', 'recall_macro', 'accuracy'] ))\n",
    "\n",
    "results_df.loc['MLP[2,2,2]',:] = cross_val_results[['test_f1_macro',\n",
    "       'test_precision_macro', 'test_recall_macro','test_accuracy']].mean().values\n",
    "\n",
    "results_df.sort_values(by='F-score (cv)', ascending=False)\n"
   ]
  },
  {
   "cell_type": "markdown",
   "metadata": {},
   "source": [
    "Now our model is performing slightly better. \n",
    "Also, our model complexity is increasing, which might increase the training time. "
   ]
  },
  {
   "cell_type": "code",
   "execution_count": 18,
   "metadata": {},
   "outputs": [
    {
     "data": {
      "image/svg+xml": [
       "<?xml version=\"1.0\" encoding=\"UTF-8\" standalone=\"no\"?>\n",
       "<!DOCTYPE svg PUBLIC \"-//W3C//DTD SVG 1.1//EN\"\n",
       " \"http://www.w3.org/Graphics/SVG/1.1/DTD/svg11.dtd\">\n",
       "<!-- Generated by graphviz version 2.47.1 (0)\n",
       " -->\n",
       "<!-- Pages: 1 -->\n",
       "<svg width=\"937pt\" height=\"363pt\"\n",
       " viewBox=\"0.00 0.00 936.58 363.40\" xmlns=\"http://www.w3.org/2000/svg\" xmlns:xlink=\"http://www.w3.org/1999/xlink\">\n",
       "<g id=\"graph0\" class=\"graph\" transform=\"scale(1 1) rotate(0) translate(4 359.4)\">\n",
       "<polygon fill=\"white\" stroke=\"transparent\" points=\"-4,4 -4,-359.4 932.58,-359.4 932.58,4 -4,4\"/>\n",
       "<!-- gre -->\n",
       "<g id=\"node1\" class=\"node\">\n",
       "<title>gre</title>\n",
       "<ellipse fill=\"none\" stroke=\"black\" cx=\"27\" cy=\"-326.4\" rx=\"27\" ry=\"18\"/>\n",
       "<text text-anchor=\"middle\" x=\"27\" y=\"-322.7\" font-family=\"Times,serif\" font-size=\"14.00\">gre</text>\n",
       "</g>\n",
       "<!-- L0N0 -->\n",
       "<g id=\"node2\" class=\"node\">\n",
       "<title>L0N0</title>\n",
       "<ellipse fill=\"none\" stroke=\"black\" cx=\"240.2\" cy=\"-134.4\" rx=\"31.4\" ry=\"18\"/>\n",
       "<text text-anchor=\"middle\" x=\"240.2\" y=\"-130.7\" font-family=\"Times,serif\" font-size=\"14.00\">L0N0</text>\n",
       "</g>\n",
       "<!-- gre&#45;&gt;L0N0 -->\n",
       "<g id=\"edge1\" class=\"edge\">\n",
       "<title>gre&#45;&gt;L0N0</title>\n",
       "<path fill=\"none\" stroke=\"black\" d=\"M49.63,-316.56C56.66,-313.63 64.56,-310.61 72,-308.4 123.62,-293.01 153.67,-324.23 191,-285.4 227.76,-247.15 186.11,-215.25 209,-167.4 210.72,-163.8 212.97,-160.31 215.47,-157.04\"/>\n",
       "<polygon fill=\"black\" stroke=\"black\" points=\"218.16,-159.28 222.01,-149.41 212.84,-154.72 218.16,-159.28\"/>\n",
       "<text text-anchor=\"middle\" x=\"131.5\" y=\"-312.2\" font-family=\"Times,serif\" font-size=\"14.00\">66.00158299444354</text>\n",
       "</g>\n",
       "<!-- L0N1 -->\n",
       "<g id=\"node5\" class=\"node\">\n",
       "<title>L0N1</title>\n",
       "<ellipse fill=\"none\" stroke=\"black\" cx=\"240.2\" cy=\"-269.4\" rx=\"31.4\" ry=\"18\"/>\n",
       "<text text-anchor=\"middle\" x=\"240.2\" y=\"-265.7\" font-family=\"Times,serif\" font-size=\"14.00\">L0N1</text>\n",
       "</g>\n",
       "<!-- gre&#45;&gt;L0N1 -->\n",
       "<g id=\"edge4\" class=\"edge\">\n",
       "<title>gre&#45;&gt;L0N1</title>\n",
       "<path fill=\"none\" stroke=\"black\" d=\"M52.31,-332.77C85.43,-340.1 145.78,-348.61 191,-327.4 205.31,-320.69 216.84,-307.41 225.03,-295.25\"/>\n",
       "<polygon fill=\"black\" stroke=\"black\" points=\"228.04,-297.03 230.39,-286.7 222.11,-293.31 228.04,-297.03\"/>\n",
       "<text text-anchor=\"middle\" x=\"131.5\" y=\"-344.2\" font-family=\"Times,serif\" font-size=\"14.00\">182.4141544594386</text>\n",
       "</g>\n",
       "<!-- L1N0 -->\n",
       "<g id=\"node7\" class=\"node\">\n",
       "<title>L1N0</title>\n",
       "<ellipse fill=\"none\" stroke=\"black\" cx=\"457.59\" cy=\"-141.4\" rx=\"31.4\" ry=\"18\"/>\n",
       "<text text-anchor=\"middle\" x=\"457.59\" y=\"-137.7\" font-family=\"Times,serif\" font-size=\"14.00\">L1N0</text>\n",
       "</g>\n",
       "<!-- L0N0&#45;&gt;L1N0 -->\n",
       "<g id=\"edge9\" class=\"edge\">\n",
       "<title>L0N0&#45;&gt;L1N0</title>\n",
       "<path fill=\"none\" stroke=\"black\" d=\"M259.26,-119.8C267.85,-113.77 278.59,-107.49 289.39,-104.4 340.25,-89.86 358.31,-87.39 408.39,-104.4 417.64,-107.54 426.5,-113.24 434.04,-119.24\"/>\n",
       "<polygon fill=\"black\" stroke=\"black\" points=\"431.79,-121.93 441.66,-125.77 436.34,-116.61 431.79,-121.93\"/>\n",
       "<text text-anchor=\"middle\" x=\"348.89\" y=\"-108.2\" font-family=\"Times,serif\" font-size=\"14.00\">&#45;53.71832345108445</text>\n",
       "</g>\n",
       "<!-- L1N1 -->\n",
       "<g id=\"node8\" class=\"node\">\n",
       "<title>L1N1</title>\n",
       "<ellipse fill=\"none\" stroke=\"black\" cx=\"457.59\" cy=\"-217.4\" rx=\"31.4\" ry=\"18\"/>\n",
       "<text text-anchor=\"middle\" x=\"457.59\" y=\"-213.7\" font-family=\"Times,serif\" font-size=\"14.00\">L1N1</text>\n",
       "</g>\n",
       "<!-- L0N0&#45;&gt;L1N1 -->\n",
       "<g id=\"edge11\" class=\"edge\">\n",
       "<title>L0N0&#45;&gt;L1N1</title>\n",
       "<path fill=\"none\" stroke=\"black\" d=\"M263.85,-146.34C271.78,-150.22 280.85,-154.32 289.39,-157.4 340.7,-175.9 358.2,-166.06 408.39,-187.4 415.1,-190.25 421.95,-193.95 428.3,-197.78\"/>\n",
       "<polygon fill=\"black\" stroke=\"black\" points=\"426.86,-201.01 437.18,-203.39 430.6,-195.09 426.86,-201.01\"/>\n",
       "<text text-anchor=\"middle\" x=\"348.89\" y=\"-191.2\" font-family=\"Times,serif\" font-size=\"14.00\">34.82097885269448</text>\n",
       "</g>\n",
       "<!-- gpa -->\n",
       "<g id=\"node3\" class=\"node\">\n",
       "<title>gpa</title>\n",
       "<ellipse fill=\"none\" stroke=\"black\" cx=\"27\" cy=\"-105.4\" rx=\"27\" ry=\"18\"/>\n",
       "<text text-anchor=\"middle\" x=\"27\" y=\"-101.7\" font-family=\"Times,serif\" font-size=\"14.00\">gpa</text>\n",
       "</g>\n",
       "<!-- gpa&#45;&gt;L0N0 -->\n",
       "<g id=\"edge2\" class=\"edge\">\n",
       "<title>gpa&#45;&gt;L0N0</title>\n",
       "<path fill=\"none\" stroke=\"black\" d=\"M47.91,-93.59C55.22,-89.88 63.74,-86.27 72,-84.4 123.58,-72.72 142.32,-63.71 191,-84.4 203.31,-89.63 214,-99.72 222.17,-109.47\"/>\n",
       "<polygon fill=\"black\" stroke=\"black\" points=\"219.5,-111.74 228.41,-117.47 225.02,-107.43 219.5,-111.74\"/>\n",
       "<text text-anchor=\"middle\" x=\"131.5\" y=\"-88.2\" font-family=\"Times,serif\" font-size=\"14.00\">&#45;42.87870113959985</text>\n",
       "</g>\n",
       "<!-- gpa&#45;&gt;L0N1 -->\n",
       "<g id=\"edge5\" class=\"edge\">\n",
       "<title>gpa&#45;&gt;L0N1</title>\n",
       "<path fill=\"none\" stroke=\"black\" d=\"M36.63,-122.5C46.32,-141.01 62,-168.79 72,-175.4 116.68,-204.93 149.16,-160.96 191,-194.4 207.83,-207.85 197.11,-221.43 209,-239.4 210.68,-241.94 212.61,-244.44 214.65,-246.85\"/>\n",
       "<polygon fill=\"black\" stroke=\"black\" points=\"212.51,-249.68 221.89,-254.6 217.62,-244.9 212.51,-249.68\"/>\n",
       "<text text-anchor=\"middle\" x=\"131.5\" y=\"-198.2\" font-family=\"Times,serif\" font-size=\"14.00\">248.23668327393733</text>\n",
       "</g>\n",
       "<!-- rank -->\n",
       "<g id=\"node4\" class=\"node\">\n",
       "<title>rank</title>\n",
       "<ellipse fill=\"none\" stroke=\"black\" cx=\"27\" cy=\"-184.4\" rx=\"27\" ry=\"18\"/>\n",
       "<text text-anchor=\"middle\" x=\"27\" y=\"-180.7\" font-family=\"Times,serif\" font-size=\"14.00\">rank</text>\n",
       "</g>\n",
       "<!-- rank&#45;&gt;L0N0 -->\n",
       "<g id=\"edge3\" class=\"edge\">\n",
       "<title>rank&#45;&gt;L0N0</title>\n",
       "<path fill=\"none\" stroke=\"black\" d=\"M34.79,-167.16C41.69,-152.27 53.94,-131.73 72,-122.4 113.42,-101 168.47,-111.08 203.87,-121.62\"/>\n",
       "<polygon fill=\"black\" stroke=\"black\" points=\"203.16,-125.07 213.75,-124.73 205.26,-118.39 203.16,-125.07\"/>\n",
       "<text text-anchor=\"middle\" x=\"131.5\" y=\"-126.2\" font-family=\"Times,serif\" font-size=\"14.00\">&#45;137.7700252075386</text>\n",
       "</g>\n",
       "<!-- rank&#45;&gt;L0N1 -->\n",
       "<g id=\"edge6\" class=\"edge\">\n",
       "<title>rank&#45;&gt;L0N1</title>\n",
       "<path fill=\"none\" stroke=\"black\" d=\"M45.17,-197.75C52.99,-203.28 62.59,-209.34 72,-213.4 121.9,-234.9 140.52,-221.31 191,-241.4 197.52,-243.99 204.22,-247.37 210.47,-250.87\"/>\n",
       "<polygon fill=\"black\" stroke=\"black\" points=\"208.84,-253.97 219.23,-256.02 212.38,-247.93 208.84,-253.97\"/>\n",
       "<text text-anchor=\"middle\" x=\"131.5\" y=\"-245.2\" font-family=\"Times,serif\" font-size=\"14.00\">201.47512511791717</text>\n",
       "</g>\n",
       "<!-- L0N1&#45;&gt;L1N0 -->\n",
       "<g id=\"edge10\" class=\"edge\">\n",
       "<title>L0N1&#45;&gt;L1N0</title>\n",
       "<path fill=\"none\" stroke=\"black\" d=\"M266.46,-259.57C273.78,-256.97 281.83,-254.35 289.39,-252.4 341.32,-238.98 366.23,-265.54 408.39,-232.4 424.36,-219.85 417.04,-208.42 426.39,-190.4 430.41,-182.66 435.19,-174.52 439.75,-167.13\"/>\n",
       "<polygon fill=\"black\" stroke=\"black\" points=\"442.96,-168.6 445.34,-158.27 437.04,-164.86 442.96,-168.6\"/>\n",
       "<text text-anchor=\"middle\" x=\"348.89\" y=\"-256.2\" font-family=\"Times,serif\" font-size=\"14.00\">&#45;53.37573626103396</text>\n",
       "</g>\n",
       "<!-- L0N1&#45;&gt;L1N1 -->\n",
       "<g id=\"edge12\" class=\"edge\">\n",
       "<title>L0N1&#45;&gt;L1N1</title>\n",
       "<path fill=\"none\" stroke=\"black\" d=\"M268.97,-276.56C303.36,-283.93 362.96,-291.75 408.39,-271.4 421.61,-265.48 432.69,-253.95 440.88,-243.06\"/>\n",
       "<polygon fill=\"black\" stroke=\"black\" points=\"443.95,-244.79 446.82,-234.59 438.21,-240.77 443.95,-244.79\"/>\n",
       "<text text-anchor=\"middle\" x=\"348.89\" y=\"-288.2\" font-family=\"Times,serif\" font-size=\"14.00\">35.71552573162049</text>\n",
       "</g>\n",
       "<!-- ILI -->\n",
       "<g id=\"node6\" class=\"node\">\n",
       "<title>ILI</title>\n",
       "<ellipse fill=\"none\" stroke=\"black\" cx=\"27\" cy=\"-258.4\" rx=\"22.18\" ry=\"22.18\"/>\n",
       "<ellipse fill=\"none\" stroke=\"black\" cx=\"27\" cy=\"-258.4\" rx=\"26.2\" ry=\"26.2\"/>\n",
       "<text text-anchor=\"middle\" x=\"27\" y=\"-254.7\" font-family=\"Times,serif\" font-size=\"14.00\">ILI</text>\n",
       "</g>\n",
       "<!-- ILI&#45;&gt;L0N0 -->\n",
       "<g id=\"edge7\" class=\"edge\">\n",
       "<title>ILI&#45;&gt;L0N0</title>\n",
       "<path fill=\"none\" stroke=\"black\" d=\"M41.21,-236.31C45.57,-228.57 50.25,-219.73 54,-211.4 63.85,-189.47 53.51,-175.75 72,-160.4 81.64,-152.4 152.68,-143.51 199.01,-138.48\"/>\n",
       "<polygon fill=\"black\" stroke=\"black\" points=\"199.49,-141.94 209.06,-137.4 198.74,-134.98 199.49,-141.94\"/>\n",
       "<text text-anchor=\"middle\" x=\"131.5\" y=\"-164.2\" font-family=\"Times,serif\" font-size=\"14.00\">40.178997976718684</text>\n",
       "</g>\n",
       "<!-- ILI&#45;&gt;L0N1 -->\n",
       "<g id=\"edge8\" class=\"edge\">\n",
       "<title>ILI&#45;&gt;L0N1</title>\n",
       "<path fill=\"none\" stroke=\"black\" d=\"M53.48,-259.72C89.56,-261.6 155.92,-265.06 198.77,-267.29\"/>\n",
       "<polygon fill=\"black\" stroke=\"black\" points=\"198.69,-270.79 208.86,-267.82 199.05,-263.8 198.69,-270.79\"/>\n",
       "<text text-anchor=\"middle\" x=\"131.5\" y=\"-270.2\" font-family=\"Times,serif\" font-size=\"14.00\">65.8139252508938</text>\n",
       "</g>\n",
       "<!-- L2N0 -->\n",
       "<g id=\"node10\" class=\"node\">\n",
       "<title>L2N0</title>\n",
       "<ellipse fill=\"none\" stroke=\"black\" cx=\"674.99\" cy=\"-90.4\" rx=\"31.4\" ry=\"18\"/>\n",
       "<text text-anchor=\"middle\" x=\"674.99\" y=\"-86.7\" font-family=\"Times,serif\" font-size=\"14.00\">L2N0</text>\n",
       "</g>\n",
       "<!-- L1N0&#45;&gt;L2N0 -->\n",
       "<g id=\"edge15\" class=\"edge\">\n",
       "<title>L1N0&#45;&gt;L2N0</title>\n",
       "<path fill=\"none\" stroke=\"black\" d=\"M473.59,-125.51C478.52,-120.15 483.97,-114.09 488.79,-108.4 497.18,-98.49 495.12,-91.08 506.79,-85.4 547.9,-65.37 601.69,-71.87 637.01,-79.84\"/>\n",
       "<polygon fill=\"black\" stroke=\"black\" points=\"636.36,-83.29 646.9,-82.22 638,-76.48 636.36,-83.29\"/>\n",
       "<text text-anchor=\"middle\" x=\"566.29\" y=\"-89.2\" font-family=\"Times,serif\" font-size=\"14.00\">1.0656507536423223</text>\n",
       "</g>\n",
       "<!-- L2N1 -->\n",
       "<g id=\"node11\" class=\"node\">\n",
       "<title>L2N1</title>\n",
       "<ellipse fill=\"none\" stroke=\"black\" cx=\"674.99\" cy=\"-155.4\" rx=\"31.4\" ry=\"18\"/>\n",
       "<text text-anchor=\"middle\" x=\"674.99\" y=\"-151.7\" font-family=\"Times,serif\" font-size=\"14.00\">L2N1</text>\n",
       "</g>\n",
       "<!-- L1N0&#45;&gt;L2N1 -->\n",
       "<g id=\"edge17\" class=\"edge\">\n",
       "<title>L1N0&#45;&gt;L2N1</title>\n",
       "<path fill=\"none\" stroke=\"black\" d=\"M489,-143.37C526.84,-145.83 591.6,-150.04 633.58,-152.77\"/>\n",
       "<polygon fill=\"black\" stroke=\"black\" points=\"633.53,-156.28 643.74,-153.43 633.98,-149.29 633.53,-156.28\"/>\n",
       "<text text-anchor=\"middle\" x=\"566.29\" y=\"-155.2\" font-family=\"Times,serif\" font-size=\"14.00\">35.848506662123825</text>\n",
       "</g>\n",
       "<!-- L1N1&#45;&gt;L2N0 -->\n",
       "<g id=\"edge16\" class=\"edge\">\n",
       "<title>L1N1&#45;&gt;L2N0</title>\n",
       "<path fill=\"none\" stroke=\"black\" d=\"M481.71,-205.59C489.53,-201.94 498.4,-198.16 506.79,-195.4 558.13,-178.52 583.99,-204.65 625.79,-170.4 641.5,-157.53 633.38,-145.84 643.79,-128.4 646.65,-123.6 650.05,-118.75 653.53,-114.18\"/>\n",
       "<polygon fill=\"black\" stroke=\"black\" points=\"656.27,-116.36 659.75,-106.35 650.79,-112 656.27,-116.36\"/>\n",
       "<text text-anchor=\"middle\" x=\"566.29\" y=\"-199.2\" font-family=\"Times,serif\" font-size=\"14.00\">2.000881527790654</text>\n",
       "</g>\n",
       "<!-- L1N1&#45;&gt;L2N1 -->\n",
       "<g id=\"edge18\" class=\"edge\">\n",
       "<title>L1N1&#45;&gt;L2N1</title>\n",
       "<path fill=\"none\" stroke=\"black\" d=\"M486.88,-223.8C521.53,-230.13 581.13,-236.08 625.79,-214.4 640.25,-207.38 651.84,-193.73 660.03,-181.33\"/>\n",
       "<polygon fill=\"black\" stroke=\"black\" points=\"663.12,-182.98 665.38,-172.63 657.16,-179.31 663.12,-182.98\"/>\n",
       "<text text-anchor=\"middle\" x=\"566.29\" y=\"-233.2\" font-family=\"Times,serif\" font-size=\"14.00\">&#45;12.72108171574331</text>\n",
       "</g>\n",
       "<!-- L0I -->\n",
       "<g id=\"node9\" class=\"node\">\n",
       "<title>L0I</title>\n",
       "<ellipse fill=\"none\" stroke=\"black\" cx=\"240.2\" cy=\"-203.4\" rx=\"23.31\" ry=\"23.31\"/>\n",
       "<ellipse fill=\"none\" stroke=\"black\" cx=\"240.2\" cy=\"-203.4\" rx=\"27.3\" ry=\"27.3\"/>\n",
       "<text text-anchor=\"middle\" x=\"240.2\" y=\"-199.7\" font-family=\"Times,serif\" font-size=\"14.00\">L0I</text>\n",
       "</g>\n",
       "<!-- L0I&#45;&gt;L1N0 -->\n",
       "<g id=\"edge13\" class=\"edge\">\n",
       "<title>L0I&#45;&gt;L1N0</title>\n",
       "<path fill=\"none\" stroke=\"black\" d=\"M257.05,-181.49C269.29,-164.91 284.88,-144.6 289.39,-142.4 330.11,-122.52 383.34,-126.51 418.68,-132.66\"/>\n",
       "<polygon fill=\"black\" stroke=\"black\" points=\"418.12,-136.11 428.59,-134.52 419.41,-129.23 418.12,-136.11\"/>\n",
       "<text text-anchor=\"middle\" x=\"348.89\" y=\"-146.2\" font-family=\"Times,serif\" font-size=\"14.00\">47.168562368080245</text>\n",
       "</g>\n",
       "<!-- L0I&#45;&gt;L1N1 -->\n",
       "<g id=\"edge14\" class=\"edge\">\n",
       "<title>L0I&#45;&gt;L1N1</title>\n",
       "<path fill=\"none\" stroke=\"black\" d=\"M267.61,-205.11C304.76,-207.53 372.77,-211.95 416.27,-214.78\"/>\n",
       "<polygon fill=\"black\" stroke=\"black\" points=\"416.29,-218.29 426.5,-215.44 416.75,-211.3 416.29,-218.29\"/>\n",
       "<text text-anchor=\"middle\" x=\"348.89\" y=\"-217.2\" font-family=\"Times,serif\" font-size=\"14.00\">6.096042760234955</text>\n",
       "</g>\n",
       "<!-- L3N0 -->\n",
       "<g id=\"node13\" class=\"node\">\n",
       "<title>L3N0</title>\n",
       "<ellipse fill=\"none\" stroke=\"black\" cx=\"897.38\" cy=\"-90.4\" rx=\"31.4\" ry=\"18\"/>\n",
       "<text text-anchor=\"middle\" x=\"897.38\" y=\"-86.7\" font-family=\"Times,serif\" font-size=\"14.00\">L3N0</text>\n",
       "</g>\n",
       "<!-- L2N0&#45;&gt;L3N0 -->\n",
       "<g id=\"edge21\" class=\"edge\">\n",
       "<title>L2N0&#45;&gt;L3N0</title>\n",
       "<path fill=\"none\" stroke=\"black\" d=\"M706.63,-90.4C745.53,-90.4 812.75,-90.4 855.85,-90.4\"/>\n",
       "<polygon fill=\"black\" stroke=\"black\" points=\"856,-93.9 866,-90.4 856,-86.9 856,-93.9\"/>\n",
       "<text text-anchor=\"middle\" x=\"786.18\" y=\"-94.2\" font-family=\"Times,serif\" font-size=\"14.00\">&#45;17.13982304895169</text>\n",
       "</g>\n",
       "<!-- L2N1&#45;&gt;L3N0 -->\n",
       "<g id=\"edge22\" class=\"edge\">\n",
       "<title>L2N1&#45;&gt;L3N0</title>\n",
       "<path fill=\"none\" stroke=\"black\" d=\"M704.31,-148.89C738.68,-140.74 798.22,-125.86 848.18,-109.4 852.75,-107.89 857.51,-106.19 862.18,-104.43\"/>\n",
       "<polygon fill=\"black\" stroke=\"black\" points=\"863.5,-107.68 871.56,-100.81 860.97,-101.15 863.5,-107.68\"/>\n",
       "<text text-anchor=\"middle\" x=\"786.18\" y=\"-147.2\" font-family=\"Times,serif\" font-size=\"14.00\">&#45;130.74344824227188</text>\n",
       "</g>\n",
       "<!-- L1I -->\n",
       "<g id=\"node12\" class=\"node\">\n",
       "<title>L1I</title>\n",
       "<ellipse fill=\"none\" stroke=\"black\" cx=\"457.59\" cy=\"-72.4\" rx=\"23.31\" ry=\"23.31\"/>\n",
       "<ellipse fill=\"none\" stroke=\"black\" cx=\"457.59\" cy=\"-72.4\" rx=\"27.3\" ry=\"27.3\"/>\n",
       "<text text-anchor=\"middle\" x=\"457.59\" y=\"-68.7\" font-family=\"Times,serif\" font-size=\"14.00\">L1I</text>\n",
       "</g>\n",
       "<!-- L1I&#45;&gt;L2N0 -->\n",
       "<g id=\"edge19\" class=\"edge\">\n",
       "<title>L1I&#45;&gt;L2N0</title>\n",
       "<path fill=\"none\" stroke=\"black\" d=\"M481.24,-57.82C489.02,-53.59 498,-49.54 506.79,-47.4 558.17,-34.86 576.37,-28.56 625.79,-47.4 625.89,-47.44 637.63,-57.91 649.5,-68.51\"/>\n",
       "<polygon fill=\"black\" stroke=\"black\" points=\"647.4,-71.33 657.19,-75.38 652.06,-66.11 647.4,-71.33\"/>\n",
       "<text text-anchor=\"middle\" x=\"566.29\" y=\"-51.2\" font-family=\"Times,serif\" font-size=\"14.00\">&#45;5.526515125128196</text>\n",
       "</g>\n",
       "<!-- L1I&#45;&gt;L2N1 -->\n",
       "<g id=\"edge20\" class=\"edge\">\n",
       "<title>L1I&#45;&gt;L2N1</title>\n",
       "<path fill=\"none\" stroke=\"black\" d=\"M480.89,-87.34C488.8,-92.1 497.94,-97 506.79,-100.4 557.24,-119.77 575.64,-105.26 625.79,-125.4 632.83,-128.23 640,-132.07 646.58,-136.06\"/>\n",
       "<polygon fill=\"black\" stroke=\"black\" points=\"644.8,-139.08 655.12,-141.51 648.57,-133.18 644.8,-139.08\"/>\n",
       "<text text-anchor=\"middle\" x=\"566.29\" y=\"-129.2\" font-family=\"Times,serif\" font-size=\"14.00\">11.091824129029517</text>\n",
       "</g>\n",
       "<!-- L2I -->\n",
       "<g id=\"node14\" class=\"node\">\n",
       "<title>L2I</title>\n",
       "<ellipse fill=\"none\" stroke=\"black\" cx=\"674.99\" cy=\"-27.4\" rx=\"23.31\" ry=\"23.31\"/>\n",
       "<ellipse fill=\"none\" stroke=\"black\" cx=\"674.99\" cy=\"-27.4\" rx=\"27.3\" ry=\"27.3\"/>\n",
       "<text text-anchor=\"middle\" x=\"674.99\" y=\"-23.7\" font-family=\"Times,serif\" font-size=\"14.00\">L2I</text>\n",
       "</g>\n",
       "<!-- L2I&#45;&gt;L3N0 -->\n",
       "<g id=\"edge23\" class=\"edge\">\n",
       "<title>L2I&#45;&gt;L3N0</title>\n",
       "<path fill=\"none\" stroke=\"black\" d=\"M701.95,-32.96C735.91,-40.49 797.1,-54.87 848.18,-71.4 852.76,-72.88 857.52,-74.57 862.2,-76.31\"/>\n",
       "<polygon fill=\"black\" stroke=\"black\" points=\"860.99,-79.6 871.58,-79.93 863.51,-73.07 860.99,-79.6\"/>\n",
       "<text text-anchor=\"middle\" x=\"786.18\" y=\"-75.2\" font-family=\"Times,serif\" font-size=\"14.00\">22.106386574601057</text>\n",
       "</g>\n",
       "</g>\n",
       "</svg>\n"
      ],
      "text/plain": [
       "<graphviz.dot.Digraph at 0x7f5ed92a6b80>"
      ]
     },
     "execution_count": 18,
     "metadata": {},
     "output_type": "execute_result"
    }
   ],
   "source": [
    "graphMLP(Admis.columns[1:], model_nnet.coefs_, model_nnet.intercepts_)"
   ]
  },
  {
   "cell_type": "markdown",
   "metadata": {},
   "source": [
    "As you can see, some weights are large (two orders of magnitude larger then others) This is no good, since it makes the model unstable (i.e., small changes in some inputs may entail significant changes in the network, because of the large weights)\n",
    "\n",
    "One way to avoid this is by regularizing the learning process:"
   ]
  },
  {
   "cell_type": "code",
   "execution_count": 19,
   "metadata": {},
   "outputs": [
    {
     "data": {
      "text/plain": [
       "MLPClassifier(activation='logistic', alpha=0.001, hidden_layer_sizes=[2, 2, 2],\n",
       "              random_state=42, solver='lbfgs')"
      ]
     },
     "execution_count": 19,
     "metadata": {},
     "output_type": "execute_result"
    },
    {
     "name": "stdout",
     "output_type": "stream",
     "text": [
      "Confusion matrix of the TRAIN dataset\n"
     ]
    },
    {
     "data": {
      "text/html": [
       "<div>\n",
       "<style scoped>\n",
       "    .dataframe tbody tr th:only-of-type {\n",
       "        vertical-align: middle;\n",
       "    }\n",
       "\n",
       "    .dataframe tbody tr th {\n",
       "        vertical-align: top;\n",
       "    }\n",
       "\n",
       "    .dataframe thead th {\n",
       "        text-align: right;\n",
       "    }\n",
       "</style>\n",
       "<table border=\"1\" class=\"dataframe\">\n",
       "  <thead>\n",
       "    <tr style=\"text-align: right;\">\n",
       "      <th>predicted</th>\n",
       "      <th>0</th>\n",
       "      <th>1</th>\n",
       "    </tr>\n",
       "    <tr>\n",
       "      <th>target</th>\n",
       "      <th></th>\n",
       "      <th></th>\n",
       "    </tr>\n",
       "  </thead>\n",
       "  <tbody>\n",
       "    <tr>\n",
       "      <th>0</th>\n",
       "      <td>150</td>\n",
       "      <td>33</td>\n",
       "    </tr>\n",
       "    <tr>\n",
       "      <th>1</th>\n",
       "      <td>46</td>\n",
       "      <td>39</td>\n",
       "    </tr>\n",
       "  </tbody>\n",
       "</table>\n",
       "</div>"
      ],
      "text/plain": [
       "predicted    0   1\n",
       "target            \n",
       "0          150  33\n",
       "1           46  39"
      ]
     },
     "execution_count": 19,
     "metadata": {},
     "output_type": "execute_result"
    },
    {
     "data": {
      "text/html": [
       "<div>\n",
       "<style scoped>\n",
       "    .dataframe tbody tr th:only-of-type {\n",
       "        vertical-align: middle;\n",
       "    }\n",
       "\n",
       "    .dataframe tbody tr th {\n",
       "        vertical-align: top;\n",
       "    }\n",
       "\n",
       "    .dataframe thead th {\n",
       "        text-align: right;\n",
       "    }\n",
       "</style>\n",
       "<table border=\"1\" class=\"dataframe\">\n",
       "  <thead>\n",
       "    <tr style=\"text-align: right;\">\n",
       "      <th></th>\n",
       "      <th>F-score (cv)</th>\n",
       "      <th>Precision (cv)</th>\n",
       "      <th>Recall (cv)</th>\n",
       "      <th>Accuracy (cv)</th>\n",
       "    </tr>\n",
       "  </thead>\n",
       "  <tbody>\n",
       "    <tr>\n",
       "      <th>MLP[2,2,2]</th>\n",
       "      <td>0.575</td>\n",
       "      <td>0.648</td>\n",
       "      <td>0.586</td>\n",
       "      <td>0.702</td>\n",
       "    </tr>\n",
       "    <tr>\n",
       "      <th>MLP[1]</th>\n",
       "      <td>0.56</td>\n",
       "      <td>0.655</td>\n",
       "      <td>0.57</td>\n",
       "      <td>0.683</td>\n",
       "    </tr>\n",
       "    <tr>\n",
       "      <th>Logistic Regression</th>\n",
       "      <td>0.554</td>\n",
       "      <td>0.686</td>\n",
       "      <td>0.568</td>\n",
       "      <td>0.698</td>\n",
       "    </tr>\n",
       "    <tr>\n",
       "      <th>MLP[2,2,2]-alpha=0.001</th>\n",
       "      <td>0.506</td>\n",
       "      <td>0.546</td>\n",
       "      <td>0.541</td>\n",
       "      <td>0.683</td>\n",
       "    </tr>\n",
       "  </tbody>\n",
       "</table>\n",
       "</div>"
      ],
      "text/plain": [
       "                       F-score (cv) Precision (cv) Recall (cv) Accuracy (cv)\n",
       "MLP[2,2,2]                    0.575          0.648       0.586         0.702\n",
       "MLP[1]                         0.56          0.655        0.57         0.683\n",
       "Logistic Regression           0.554          0.686       0.568         0.698\n",
       "MLP[2,2,2]-alpha=0.001        0.506          0.546       0.541         0.683"
      ]
     },
     "execution_count": 19,
     "metadata": {},
     "output_type": "execute_result"
    }
   ],
   "source": [
    "model_nnet = MLPClassifier(hidden_layer_sizes=[2,2,2],\n",
    "                           alpha=0.001,\n",
    "                           activation='logistic',\n",
    "                           max_iter=200,\n",
    "                           solver='lbfgs',random_state=42)\n",
    "model_nnet.fit(X_train,y_train);\n",
    "print('Confusion matrix of the TRAIN dataset')\n",
    "confusion(y_train,y_pred)\n",
    "\n",
    "cross_val_results = pd.DataFrame(cross_validate(model_nnet , X_train, y_train, cv = 5, \n",
    "                                                scoring = [ 'f1_macro', 'precision_macro', 'recall_macro', 'accuracy'] ))\n",
    "\n",
    "results_df.loc['MLP[2,2,2]-alpha=0.001',:] = cross_val_results[['test_f1_macro',\n",
    "       'test_precision_macro', 'test_recall_macro','test_accuracy']].mean().values\n",
    "\n",
    "results_df.sort_values(by='F-score (cv)', ascending=False)"
   ]
  },
  {
   "cell_type": "markdown",
   "metadata": {},
   "source": [
    "Now we have a model with smaller weights (more robust) but with worse performance. As you can see, just trying hyperparameter configurations is not enough to obtain a good model. If we want to succeed we need to try a lot of different configurations changing the architecture, the regularization parameter and the activation functions."
   ]
  },
  {
   "cell_type": "code",
   "execution_count": 20,
   "metadata": {
    "scrolled": true
   },
   "outputs": [
    {
     "data": {
      "image/svg+xml": [
       "<?xml version=\"1.0\" encoding=\"UTF-8\" standalone=\"no\"?>\n",
       "<!DOCTYPE svg PUBLIC \"-//W3C//DTD SVG 1.1//EN\"\n",
       " \"http://www.w3.org/Graphics/SVG/1.1/DTD/svg11.dtd\">\n",
       "<!-- Generated by graphviz version 2.47.1 (0)\n",
       " -->\n",
       "<!-- Pages: 1 -->\n",
       "<svg width=\"950pt\" height=\"364pt\"\n",
       " viewBox=\"0.00 0.00 949.58 364.40\" xmlns=\"http://www.w3.org/2000/svg\" xmlns:xlink=\"http://www.w3.org/1999/xlink\">\n",
       "<g id=\"graph0\" class=\"graph\" transform=\"scale(1 1) rotate(0) translate(4 360.4)\">\n",
       "<polygon fill=\"white\" stroke=\"transparent\" points=\"-4,4 -4,-360.4 945.58,-360.4 945.58,4 -4,4\"/>\n",
       "<!-- gre -->\n",
       "<g id=\"node1\" class=\"node\">\n",
       "<title>gre</title>\n",
       "<ellipse fill=\"none\" stroke=\"black\" cx=\"27\" cy=\"-326.4\" rx=\"27\" ry=\"18\"/>\n",
       "<text text-anchor=\"middle\" x=\"27\" y=\"-322.7\" font-family=\"Times,serif\" font-size=\"14.00\">gre</text>\n",
       "</g>\n",
       "<!-- L0N0 -->\n",
       "<g id=\"node2\" class=\"node\">\n",
       "<title>L0N0</title>\n",
       "<ellipse fill=\"none\" stroke=\"black\" cx=\"251.2\" cy=\"-134.4\" rx=\"31.4\" ry=\"18\"/>\n",
       "<text text-anchor=\"middle\" x=\"251.2\" y=\"-130.7\" font-family=\"Times,serif\" font-size=\"14.00\">L0N0</text>\n",
       "</g>\n",
       "<!-- gre&#45;&gt;L0N0 -->\n",
       "<g id=\"edge1\" class=\"edge\">\n",
       "<title>gre&#45;&gt;L0N0</title>\n",
       "<path fill=\"none\" stroke=\"black\" d=\"M49.61,-316.49C56.64,-313.55 64.55,-310.55 72,-308.4 128.36,-292.09 161.01,-327.38 202,-285.4 239.06,-247.44 197.11,-215.25 220,-167.4 221.72,-163.8 223.97,-160.31 226.47,-157.04\"/>\n",
       "<polygon fill=\"black\" stroke=\"black\" points=\"229.16,-159.28 233.01,-149.41 223.84,-154.72 229.16,-159.28\"/>\n",
       "<text text-anchor=\"middle\" x=\"137\" y=\"-312.2\" font-family=\"Times,serif\" font-size=\"14.00\">&#45;0.38128528825004443</text>\n",
       "</g>\n",
       "<!-- L0N1 -->\n",
       "<g id=\"node5\" class=\"node\">\n",
       "<title>L0N1</title>\n",
       "<ellipse fill=\"none\" stroke=\"black\" cx=\"251.2\" cy=\"-269.4\" rx=\"31.4\" ry=\"18\"/>\n",
       "<text text-anchor=\"middle\" x=\"251.2\" y=\"-265.7\" font-family=\"Times,serif\" font-size=\"14.00\">L0N1</text>\n",
       "</g>\n",
       "<!-- gre&#45;&gt;L0N1 -->\n",
       "<g id=\"edge4\" class=\"edge\">\n",
       "<title>gre&#45;&gt;L0N1</title>\n",
       "<path fill=\"none\" stroke=\"black\" d=\"M52.47,-332.85C87.48,-340.73 153.05,-350.37 202,-327.4 216.31,-320.69 227.84,-307.41 236.03,-295.25\"/>\n",
       "<polygon fill=\"black\" stroke=\"black\" points=\"239.04,-297.03 241.39,-286.7 233.11,-293.31 239.04,-297.03\"/>\n",
       "<text text-anchor=\"middle\" x=\"137\" y=\"-345.2\" font-family=\"Times,serif\" font-size=\"14.00\">15.939007201162292</text>\n",
       "</g>\n",
       "<!-- L1N0 -->\n",
       "<g id=\"node7\" class=\"node\">\n",
       "<title>L1N0</title>\n",
       "<ellipse fill=\"none\" stroke=\"black\" cx=\"468.59\" cy=\"-141.4\" rx=\"31.4\" ry=\"18\"/>\n",
       "<text text-anchor=\"middle\" x=\"468.59\" y=\"-137.7\" font-family=\"Times,serif\" font-size=\"14.00\">L1N0</text>\n",
       "</g>\n",
       "<!-- L0N0&#45;&gt;L1N0 -->\n",
       "<g id=\"edge9\" class=\"edge\">\n",
       "<title>L0N0&#45;&gt;L1N0</title>\n",
       "<path fill=\"none\" stroke=\"black\" d=\"M270.26,-119.8C278.85,-113.77 289.59,-107.49 300.39,-104.4 351.25,-89.86 369.31,-87.39 419.39,-104.4 428.64,-107.54 437.5,-113.24 445.04,-119.24\"/>\n",
       "<polygon fill=\"black\" stroke=\"black\" points=\"442.79,-121.93 452.66,-125.77 447.34,-116.61 442.79,-121.93\"/>\n",
       "<text text-anchor=\"middle\" x=\"359.89\" y=\"-108.2\" font-family=\"Times,serif\" font-size=\"14.00\">&#45;7.800403779375142</text>\n",
       "</g>\n",
       "<!-- L1N1 -->\n",
       "<g id=\"node8\" class=\"node\">\n",
       "<title>L1N1</title>\n",
       "<ellipse fill=\"none\" stroke=\"black\" cx=\"468.59\" cy=\"-217.4\" rx=\"31.4\" ry=\"18\"/>\n",
       "<text text-anchor=\"middle\" x=\"468.59\" y=\"-213.7\" font-family=\"Times,serif\" font-size=\"14.00\">L1N1</text>\n",
       "</g>\n",
       "<!-- L0N0&#45;&gt;L1N1 -->\n",
       "<g id=\"edge11\" class=\"edge\">\n",
       "<title>L0N0&#45;&gt;L1N1</title>\n",
       "<path fill=\"none\" stroke=\"black\" d=\"M274.85,-146.34C282.78,-150.22 291.85,-154.32 300.39,-157.4 351.7,-175.9 369.2,-166.06 419.39,-187.4 426.1,-190.25 432.95,-193.95 439.3,-197.78\"/>\n",
       "<polygon fill=\"black\" stroke=\"black\" points=\"437.86,-201.01 448.18,-203.39 441.6,-195.09 437.86,-201.01\"/>\n",
       "<text text-anchor=\"middle\" x=\"359.89\" y=\"-191.2\" font-family=\"Times,serif\" font-size=\"14.00\">2.667985503590597</text>\n",
       "</g>\n",
       "<!-- gpa -->\n",
       "<g id=\"node3\" class=\"node\">\n",
       "<title>gpa</title>\n",
       "<ellipse fill=\"none\" stroke=\"black\" cx=\"27\" cy=\"-105.4\" rx=\"27\" ry=\"18\"/>\n",
       "<text text-anchor=\"middle\" x=\"27\" y=\"-101.7\" font-family=\"Times,serif\" font-size=\"14.00\">gpa</text>\n",
       "</g>\n",
       "<!-- gpa&#45;&gt;L0N0 -->\n",
       "<g id=\"edge2\" class=\"edge\">\n",
       "<title>gpa&#45;&gt;L0N0</title>\n",
       "<path fill=\"none\" stroke=\"black\" d=\"M47.91,-93.59C55.22,-89.88 63.74,-86.27 72,-84.4 128.35,-71.64 148.83,-61.8 202,-84.4 214.31,-89.63 225,-99.72 233.17,-109.47\"/>\n",
       "<polygon fill=\"black\" stroke=\"black\" points=\"230.5,-111.74 239.41,-117.47 236.02,-107.43 230.5,-111.74\"/>\n",
       "<text text-anchor=\"middle\" x=\"137\" y=\"-88.2\" font-family=\"Times,serif\" font-size=\"14.00\">&#45;0.4610667498448965</text>\n",
       "</g>\n",
       "<!-- gpa&#45;&gt;L0N1 -->\n",
       "<g id=\"edge5\" class=\"edge\">\n",
       "<title>gpa&#45;&gt;L0N1</title>\n",
       "<path fill=\"none\" stroke=\"black\" d=\"M36.61,-122.52C46.29,-141.06 61.96,-168.86 72,-175.4 120.93,-207.27 156.15,-158.24 202,-194.4 218.91,-207.74 208.11,-221.43 220,-239.4 221.68,-241.94 223.61,-244.44 225.65,-246.85\"/>\n",
       "<polygon fill=\"black\" stroke=\"black\" points=\"223.51,-249.68 232.89,-254.6 228.62,-244.9 223.51,-249.68\"/>\n",
       "<text text-anchor=\"middle\" x=\"137\" y=\"-198.2\" font-family=\"Times,serif\" font-size=\"14.00\">18.46060555707469</text>\n",
       "</g>\n",
       "<!-- rank -->\n",
       "<g id=\"node4\" class=\"node\">\n",
       "<title>rank</title>\n",
       "<ellipse fill=\"none\" stroke=\"black\" cx=\"27\" cy=\"-184.4\" rx=\"27\" ry=\"18\"/>\n",
       "<text text-anchor=\"middle\" x=\"27\" y=\"-180.7\" font-family=\"Times,serif\" font-size=\"14.00\">rank</text>\n",
       "</g>\n",
       "<!-- rank&#45;&gt;L0N0 -->\n",
       "<g id=\"edge3\" class=\"edge\">\n",
       "<title>rank&#45;&gt;L0N0</title>\n",
       "<path fill=\"none\" stroke=\"black\" d=\"M34.79,-167.16C41.69,-152.27 53.94,-131.73 72,-122.4 116.95,-99.18 176.99,-110.43 214.62,-121.65\"/>\n",
       "<polygon fill=\"black\" stroke=\"black\" points=\"214.02,-125.13 224.61,-124.78 216.12,-118.45 214.02,-125.13\"/>\n",
       "<text text-anchor=\"middle\" x=\"137\" y=\"-126.2\" font-family=\"Times,serif\" font-size=\"14.00\">&#45;4.719220773154652</text>\n",
       "</g>\n",
       "<!-- rank&#45;&gt;L0N1 -->\n",
       "<g id=\"edge6\" class=\"edge\">\n",
       "<title>rank&#45;&gt;L0N1</title>\n",
       "<path fill=\"none\" stroke=\"black\" d=\"M45.14,-197.84C52.95,-203.39 62.55,-209.43 72,-213.4 126.5,-236.27 146.88,-220.07 202,-241.4 208.55,-243.93 215.26,-247.28 221.51,-250.77\"/>\n",
       "<polygon fill=\"black\" stroke=\"black\" points=\"219.88,-253.87 230.27,-255.93 223.42,-247.84 219.88,-253.87\"/>\n",
       "<text text-anchor=\"middle\" x=\"137\" y=\"-245.2\" font-family=\"Times,serif\" font-size=\"14.00\">23.950016988368226</text>\n",
       "</g>\n",
       "<!-- L0N1&#45;&gt;L1N0 -->\n",
       "<g id=\"edge10\" class=\"edge\">\n",
       "<title>L0N1&#45;&gt;L1N0</title>\n",
       "<path fill=\"none\" stroke=\"black\" d=\"M277.46,-259.57C284.78,-256.97 292.83,-254.35 300.39,-252.4 352.32,-238.98 377.23,-265.54 419.39,-232.4 435.36,-219.85 428.04,-208.42 437.39,-190.4 441.41,-182.66 446.19,-174.52 450.75,-167.13\"/>\n",
       "<polygon fill=\"black\" stroke=\"black\" points=\"453.96,-168.6 456.34,-158.27 448.04,-164.86 453.96,-168.6\"/>\n",
       "<text text-anchor=\"middle\" x=\"359.89\" y=\"-256.2\" font-family=\"Times,serif\" font-size=\"14.00\">&#45;9.038897116146318</text>\n",
       "</g>\n",
       "<!-- L0N1&#45;&gt;L1N1 -->\n",
       "<g id=\"edge12\" class=\"edge\">\n",
       "<title>L0N1&#45;&gt;L1N1</title>\n",
       "<path fill=\"none\" stroke=\"black\" d=\"M279.97,-276.56C314.36,-283.93 373.96,-291.75 419.39,-271.4 432.61,-265.48 443.69,-253.95 451.88,-243.06\"/>\n",
       "<polygon fill=\"black\" stroke=\"black\" points=\"454.95,-244.79 457.82,-234.59 449.21,-240.77 454.95,-244.79\"/>\n",
       "<text text-anchor=\"middle\" x=\"359.89\" y=\"-288.2\" font-family=\"Times,serif\" font-size=\"14.00\">7.70476722001194</text>\n",
       "</g>\n",
       "<!-- ILI -->\n",
       "<g id=\"node6\" class=\"node\">\n",
       "<title>ILI</title>\n",
       "<ellipse fill=\"none\" stroke=\"black\" cx=\"27\" cy=\"-258.4\" rx=\"22.18\" ry=\"22.18\"/>\n",
       "<ellipse fill=\"none\" stroke=\"black\" cx=\"27\" cy=\"-258.4\" rx=\"26.2\" ry=\"26.2\"/>\n",
       "<text text-anchor=\"middle\" x=\"27\" y=\"-254.7\" font-family=\"Times,serif\" font-size=\"14.00\">ILI</text>\n",
       "</g>\n",
       "<!-- ILI&#45;&gt;L0N0 -->\n",
       "<g id=\"edge7\" class=\"edge\">\n",
       "<title>ILI&#45;&gt;L0N0</title>\n",
       "<path fill=\"none\" stroke=\"black\" d=\"M41.21,-236.31C45.57,-228.57 50.25,-219.73 54,-211.4 63.85,-189.47 53.43,-175.66 72,-160.4 82.48,-151.78 160.74,-142.89 210,-138.06\"/>\n",
       "<polygon fill=\"black\" stroke=\"black\" points=\"210.41,-141.54 220.03,-137.1 209.74,-134.57 210.41,-141.54\"/>\n",
       "<text text-anchor=\"middle\" x=\"137\" y=\"-164.2\" font-family=\"Times,serif\" font-size=\"14.00\">0.30106237011186693</text>\n",
       "</g>\n",
       "<!-- ILI&#45;&gt;L0N1 -->\n",
       "<g id=\"edge8\" class=\"edge\">\n",
       "<title>ILI&#45;&gt;L0N1</title>\n",
       "<path fill=\"none\" stroke=\"black\" d=\"M53.49,-259.66C91.77,-261.55 164.47,-265.15 209.96,-267.41\"/>\n",
       "<polygon fill=\"black\" stroke=\"black\" points=\"209.9,-270.91 220.06,-267.91 210.25,-263.92 209.9,-270.91\"/>\n",
       "<text text-anchor=\"middle\" x=\"137\" y=\"-270.2\" font-family=\"Times,serif\" font-size=\"14.00\">1.5930912131042487</text>\n",
       "</g>\n",
       "<!-- L2N0 -->\n",
       "<g id=\"node10\" class=\"node\">\n",
       "<title>L2N0</title>\n",
       "<ellipse fill=\"none\" stroke=\"black\" cx=\"692.99\" cy=\"-90.4\" rx=\"31.4\" ry=\"18\"/>\n",
       "<text text-anchor=\"middle\" x=\"692.99\" y=\"-86.7\" font-family=\"Times,serif\" font-size=\"14.00\">L2N0</text>\n",
       "</g>\n",
       "<!-- L1N0&#45;&gt;L2N0 -->\n",
       "<g id=\"edge15\" class=\"edge\">\n",
       "<title>L1N0&#45;&gt;L2N0</title>\n",
       "<path fill=\"none\" stroke=\"black\" d=\"M484.59,-125.51C489.52,-120.15 494.97,-114.09 499.79,-108.4 508.18,-98.49 506.12,-91.08 517.79,-85.4 561.3,-64.2 618.44,-71.45 655.2,-79.86\"/>\n",
       "<polygon fill=\"black\" stroke=\"black\" points=\"654.46,-83.29 665,-82.25 656.11,-76.48 654.46,-83.29\"/>\n",
       "<text text-anchor=\"middle\" x=\"580.79\" y=\"-89.2\" font-family=\"Times,serif\" font-size=\"14.00\">0.07733222603469458</text>\n",
       "</g>\n",
       "<!-- L2N1 -->\n",
       "<g id=\"node11\" class=\"node\">\n",
       "<title>L2N1</title>\n",
       "<ellipse fill=\"none\" stroke=\"black\" cx=\"692.99\" cy=\"-155.4\" rx=\"31.4\" ry=\"18\"/>\n",
       "<text text-anchor=\"middle\" x=\"692.99\" y=\"-151.7\" font-family=\"Times,serif\" font-size=\"14.00\">L2N1</text>\n",
       "</g>\n",
       "<!-- L1N0&#45;&gt;L2N1 -->\n",
       "<g id=\"edge17\" class=\"edge\">\n",
       "<title>L1N0&#45;&gt;L2N1</title>\n",
       "<path fill=\"none\" stroke=\"black\" d=\"M500.05,-143.32C539.39,-145.79 608,-150.11 651.64,-152.86\"/>\n",
       "<polygon fill=\"black\" stroke=\"black\" points=\"651.7,-156.37 661.9,-153.5 652.14,-149.38 651.7,-156.37\"/>\n",
       "<text text-anchor=\"middle\" x=\"580.79\" y=\"-155.2\" font-family=\"Times,serif\" font-size=\"14.00\">5.5680771067174115</text>\n",
       "</g>\n",
       "<!-- L1N1&#45;&gt;L2N0 -->\n",
       "<g id=\"edge16\" class=\"edge\">\n",
       "<title>L1N1&#45;&gt;L2N0</title>\n",
       "<path fill=\"none\" stroke=\"black\" d=\"M492.69,-205.54C500.51,-201.88 509.39,-198.11 517.79,-195.4 572.12,-177.87 599.43,-206.34 643.79,-170.4 659.57,-157.61 651.38,-145.84 661.79,-128.4 664.65,-123.6 668.05,-118.75 671.53,-114.18\"/>\n",
       "<polygon fill=\"black\" stroke=\"black\" points=\"674.27,-116.36 677.75,-106.35 668.79,-112 674.27,-116.36\"/>\n",
       "<text text-anchor=\"middle\" x=\"580.79\" y=\"-199.2\" font-family=\"Times,serif\" font-size=\"14.00\">&#45;1.811021428495348</text>\n",
       "</g>\n",
       "<!-- L1N1&#45;&gt;L2N1 -->\n",
       "<g id=\"edge18\" class=\"edge\">\n",
       "<title>L1N1&#45;&gt;L2N1</title>\n",
       "<path fill=\"none\" stroke=\"black\" d=\"M497.8,-223.86C533.71,-230.57 596.71,-237.23 643.79,-214.4 658.25,-207.39 669.84,-193.74 678.03,-181.33\"/>\n",
       "<polygon fill=\"black\" stroke=\"black\" points=\"681.12,-182.99 683.38,-172.63 675.16,-179.32 681.12,-182.99\"/>\n",
       "<text text-anchor=\"middle\" x=\"580.79\" y=\"-233.2\" font-family=\"Times,serif\" font-size=\"14.00\">1.8899644078279032</text>\n",
       "</g>\n",
       "<!-- L0I -->\n",
       "<g id=\"node9\" class=\"node\">\n",
       "<title>L0I</title>\n",
       "<ellipse fill=\"none\" stroke=\"black\" cx=\"251.2\" cy=\"-203.4\" rx=\"23.31\" ry=\"23.31\"/>\n",
       "<ellipse fill=\"none\" stroke=\"black\" cx=\"251.2\" cy=\"-203.4\" rx=\"27.3\" ry=\"27.3\"/>\n",
       "<text text-anchor=\"middle\" x=\"251.2\" y=\"-199.7\" font-family=\"Times,serif\" font-size=\"14.00\">L0I</text>\n",
       "</g>\n",
       "<!-- L0I&#45;&gt;L1N0 -->\n",
       "<g id=\"edge13\" class=\"edge\">\n",
       "<title>L0I&#45;&gt;L1N0</title>\n",
       "<path fill=\"none\" stroke=\"black\" d=\"M268.05,-181.49C280.29,-164.91 295.88,-144.6 300.39,-142.4 341.11,-122.52 394.34,-126.51 429.68,-132.66\"/>\n",
       "<polygon fill=\"black\" stroke=\"black\" points=\"429.12,-136.11 439.59,-134.52 430.41,-129.23 429.12,-136.11\"/>\n",
       "<text text-anchor=\"middle\" x=\"359.89\" y=\"-146.2\" font-family=\"Times,serif\" font-size=\"14.00\">7.2479574373829765</text>\n",
       "</g>\n",
       "<!-- L0I&#45;&gt;L1N1 -->\n",
       "<g id=\"edge14\" class=\"edge\">\n",
       "<title>L0I&#45;&gt;L1N1</title>\n",
       "<path fill=\"none\" stroke=\"black\" d=\"M278.61,-205.11C315.76,-207.53 383.77,-211.95 427.27,-214.78\"/>\n",
       "<polygon fill=\"black\" stroke=\"black\" points=\"427.29,-218.29 437.5,-215.44 427.75,-211.3 427.29,-218.29\"/>\n",
       "<text text-anchor=\"middle\" x=\"359.89\" y=\"-217.2\" font-family=\"Times,serif\" font-size=\"14.00\">&#45;4.071497977089565</text>\n",
       "</g>\n",
       "<!-- L3N0 -->\n",
       "<g id=\"node13\" class=\"node\">\n",
       "<title>L3N0</title>\n",
       "<ellipse fill=\"none\" stroke=\"black\" cx=\"910.38\" cy=\"-90.4\" rx=\"31.4\" ry=\"18\"/>\n",
       "<text text-anchor=\"middle\" x=\"910.38\" y=\"-86.7\" font-family=\"Times,serif\" font-size=\"14.00\">L3N0</text>\n",
       "</g>\n",
       "<!-- L2N0&#45;&gt;L3N0 -->\n",
       "<g id=\"edge21\" class=\"edge\">\n",
       "<title>L2N0&#45;&gt;L3N0</title>\n",
       "<path fill=\"none\" stroke=\"black\" d=\"M724.39,-90.4C762.23,-90.4 826.99,-90.4 868.98,-90.4\"/>\n",
       "<polygon fill=\"black\" stroke=\"black\" points=\"869.13,-93.9 879.13,-90.4 869.13,-86.9 869.13,-93.9\"/>\n",
       "<text text-anchor=\"middle\" x=\"801.68\" y=\"-94.2\" font-family=\"Times,serif\" font-size=\"14.00\">2.6330274863314527</text>\n",
       "</g>\n",
       "<!-- L2N1&#45;&gt;L3N0 -->\n",
       "<g id=\"edge22\" class=\"edge\">\n",
       "<title>L2N1&#45;&gt;L3N0</title>\n",
       "<path fill=\"none\" stroke=\"black\" d=\"M722.07,-148.65C755.51,-140.39 812.92,-125.5 861.18,-109.4 865.74,-107.88 870.5,-106.16 875.17,-104.4\"/>\n",
       "<polygon fill=\"black\" stroke=\"black\" points=\"876.49,-107.65 884.55,-100.77 873.96,-101.12 876.49,-107.65\"/>\n",
       "<text text-anchor=\"middle\" x=\"801.68\" y=\"-147.2\" font-family=\"Times,serif\" font-size=\"14.00\">&#45;8.577755834499614</text>\n",
       "</g>\n",
       "<!-- L1I -->\n",
       "<g id=\"node12\" class=\"node\">\n",
       "<title>L1I</title>\n",
       "<ellipse fill=\"none\" stroke=\"black\" cx=\"468.59\" cy=\"-72.4\" rx=\"23.31\" ry=\"23.31\"/>\n",
       "<ellipse fill=\"none\" stroke=\"black\" cx=\"468.59\" cy=\"-72.4\" rx=\"27.3\" ry=\"27.3\"/>\n",
       "<text text-anchor=\"middle\" x=\"468.59\" y=\"-68.7\" font-family=\"Times,serif\" font-size=\"14.00\">L1I</text>\n",
       "</g>\n",
       "<!-- L1I&#45;&gt;L2N0 -->\n",
       "<g id=\"edge19\" class=\"edge\">\n",
       "<title>L1I&#45;&gt;L2N0</title>\n",
       "<path fill=\"none\" stroke=\"black\" d=\"M492.24,-57.82C500.02,-53.59 509,-49.54 517.79,-47.4 572.19,-34.13 591.46,-27.45 643.79,-47.4 643.89,-47.44 655.63,-57.91 667.5,-68.51\"/>\n",
       "<polygon fill=\"black\" stroke=\"black\" points=\"665.4,-71.33 675.19,-75.38 670.06,-66.11 665.4,-71.33\"/>\n",
       "<text text-anchor=\"middle\" x=\"580.79\" y=\"-51.2\" font-family=\"Times,serif\" font-size=\"14.00\">0.13051144123038974</text>\n",
       "</g>\n",
       "<!-- L1I&#45;&gt;L2N1 -->\n",
       "<g id=\"edge20\" class=\"edge\">\n",
       "<title>L1I&#45;&gt;L2N1</title>\n",
       "<path fill=\"none\" stroke=\"black\" d=\"M491.87,-87.4C499.77,-92.16 508.92,-97.05 517.79,-100.4 571.2,-120.57 590.69,-104.42 643.79,-125.4 650.85,-128.19 658.02,-132.01 664.6,-136\"/>\n",
       "<polygon fill=\"black\" stroke=\"black\" points=\"662.83,-139.02 673.14,-141.45 666.59,-133.12 662.83,-139.02\"/>\n",
       "<text text-anchor=\"middle\" x=\"580.79\" y=\"-129.2\" font-family=\"Times,serif\" font-size=\"14.00\">&#45;2.0963388762323745</text>\n",
       "</g>\n",
       "<!-- L2I -->\n",
       "<g id=\"node14\" class=\"node\">\n",
       "<title>L2I</title>\n",
       "<ellipse fill=\"none\" stroke=\"black\" cx=\"692.99\" cy=\"-27.4\" rx=\"23.31\" ry=\"23.31\"/>\n",
       "<ellipse fill=\"none\" stroke=\"black\" cx=\"692.99\" cy=\"-27.4\" rx=\"27.3\" ry=\"27.3\"/>\n",
       "<text text-anchor=\"middle\" x=\"692.99\" y=\"-23.7\" font-family=\"Times,serif\" font-size=\"14.00\">L2I</text>\n",
       "</g>\n",
       "<!-- L2I&#45;&gt;L3N0 -->\n",
       "<g id=\"edge23\" class=\"edge\">\n",
       "<title>L2I&#45;&gt;L3N0</title>\n",
       "<path fill=\"none\" stroke=\"black\" d=\"M720.04,-33.25C753.17,-40.91 811.98,-55.29 861.18,-71.4 865.75,-72.89 870.51,-74.59 875.19,-76.34\"/>\n",
       "<polygon fill=\"black\" stroke=\"black\" points=\"873.98,-79.63 884.57,-79.97 876.5,-73.1 873.98,-79.63\"/>\n",
       "<text text-anchor=\"middle\" x=\"801.68\" y=\"-75.2\" font-family=\"Times,serif\" font-size=\"14.00\">3.627191481246223</text>\n",
       "</g>\n",
       "</g>\n",
       "</svg>\n"
      ],
      "text/plain": [
       "<graphviz.dot.Digraph at 0x7f5ed92afb50>"
      ]
     },
     "execution_count": 20,
     "metadata": {},
     "output_type": "execute_result"
    }
   ],
   "source": [
    "graphMLP(Admis.columns[1:], model_nnet.coefs_, model_nnet.intercepts_)"
   ]
  },
  {
   "cell_type": "markdown",
   "metadata": {},
   "source": [
    "MLP results depend *Strongly* of its hyperparameter configuration. Now we are going to see different strategies to obtain the best hyperparameters for our model."
   ]
  },
  {
   "cell_type": "markdown",
   "metadata": {},
   "source": [
    "Scikit learn has specific functions for parameter search so we can tune the parameters of a model.\n",
    "\n",
    " We are going to use a grid search that will use a cross validation strategy to evaluate the results for each combination of parameters. At the end the best model will be returned\n",
    "\n",
    " In order to find the best network architecture, we can:\n",
    "\n",
    "1. Explore different numbers of hidden units in one hidden layer, with the best architecture, find the best regularization. \n",
    "2. Use grid search over all the combinations of architectures and regularization values. \n",
    "\n",
    "Most of the times the first option is good enough in terms of results, while a lot faster than the second. \n",
    "\n",
    "In this particular case we will do the secon method, as we are woring with a small and easy dataset.\n",
    "\n",
    "set desired sizes"
   ]
  },
  {
   "cell_type": "code",
   "execution_count": 21,
   "metadata": {},
   "outputs": [
    {
     "data": {
      "text/plain": [
       "(12,\n",
       " [2,\n",
       "  4,\n",
       "  6,\n",
       "  8,\n",
       "  [2, 2],\n",
       "  [4, 4],\n",
       "  [6, 6],\n",
       "  [8, 8],\n",
       "  [2, 2, 2],\n",
       "  [4, 4, 4],\n",
       "  [6, 6, 6],\n",
       "  [8, 8, 8]])"
      ]
     },
     "execution_count": 21,
     "metadata": {},
     "output_type": "execute_result"
    },
    {
     "data": {
      "text/plain": [
       "(7, [1e-05, 0.0001, 0.001, 0.01, 0.1, 0.5, 1])"
      ]
     },
     "execution_count": 21,
     "metadata": {},
     "output_type": "execute_result"
    }
   ],
   "source": [
    "sizes = [2*i for i in range(1,5)]\n",
    "sizes = sizes + [[2*i,2*i] for i in range(1,5)]\n",
    "sizes = sizes + [[2*i,2*i, 2*i] for i in range(1,5)]\n",
    "\n",
    "len(sizes), sizes\n",
    "\n",
    "\n",
    "decays = [0.00001,0.0001,0.001,0.01,0.1,0.5,1]\n",
    "len(decays), decays[:10] \n",
    "\n"
   ]
  },
  {
   "cell_type": "code",
   "execution_count": 22,
   "metadata": {},
   "outputs": [
    {
     "name": "stdout",
     "output_type": "stream",
     "text": [
      "0:01:13.765686\n"
     ]
    }
   ],
   "source": [
    "init_time=time()\n",
    "model_nnet = MLPClassifier(alpha=0,\n",
    "                           activation='logistic',\n",
    "                           max_iter=500,\n",
    "                           solver='lbfgs',\n",
    "                           random_state=42)\n",
    "\n",
    "trc = GridSearchCV(estimator=model_nnet,\n",
    "                   scoring=['f1_macro', 'precision_macro', 'recall_macro', 'accuracy'],\n",
    "                   param_grid={'hidden_layer_sizes': sizes,\n",
    "                              'alpha': decays},\n",
    "                   cv=10,\n",
    "                   return_train_score=True,\n",
    "                   refit='f1_macro')\n",
    "\n",
    "model_10CV = trc.fit(X_train, y_train)\n",
    "print(timedelta(seconds=(time()-init_time)))"
   ]
  },
  {
   "cell_type": "markdown",
   "metadata": {},
   "source": [
    "Now we can use the results of the cv to decide which is the best parameter configuration.\n",
    "\n",
    "According to the criteria of having the greatest F-score, the winner is architecture layers [2,2]"
   ]
  },
  {
   "cell_type": "code",
   "execution_count": 23,
   "metadata": {},
   "outputs": [
    {
     "data": {
      "text/html": [
       "<div>\n",
       "<style scoped>\n",
       "    .dataframe tbody tr th:only-of-type {\n",
       "        vertical-align: middle;\n",
       "    }\n",
       "\n",
       "    .dataframe tbody tr th {\n",
       "        vertical-align: top;\n",
       "    }\n",
       "\n",
       "    .dataframe thead th {\n",
       "        text-align: right;\n",
       "    }\n",
       "</style>\n",
       "<table border=\"1\" class=\"dataframe\">\n",
       "  <thead>\n",
       "    <tr style=\"text-align: right;\">\n",
       "      <th></th>\n",
       "      <th>param_alpha</th>\n",
       "      <th>param_hidden_layer_sizes</th>\n",
       "      <th>mean_test_f1_macro</th>\n",
       "      <th>std_test_f1_macro</th>\n",
       "      <th>mean_test_precision_macro</th>\n",
       "      <th>std_test_precision_macro</th>\n",
       "      <th>mean_test_accuracy</th>\n",
       "      <th>std_test_accuracy</th>\n",
       "    </tr>\n",
       "  </thead>\n",
       "  <tbody>\n",
       "    <tr>\n",
       "      <th>52</th>\n",
       "      <td>0.1</td>\n",
       "      <td>[2, 2]</td>\n",
       "      <td>0.628</td>\n",
       "      <td>0.110</td>\n",
       "      <td>0.692</td>\n",
       "      <td>0.134</td>\n",
       "      <td>0.732</td>\n",
       "      <td>0.067</td>\n",
       "    </tr>\n",
       "    <tr>\n",
       "      <th>13</th>\n",
       "      <td>0.0</td>\n",
       "      <td>4</td>\n",
       "      <td>0.615</td>\n",
       "      <td>0.083</td>\n",
       "      <td>0.629</td>\n",
       "      <td>0.077</td>\n",
       "      <td>0.691</td>\n",
       "      <td>0.055</td>\n",
       "    </tr>\n",
       "    <tr>\n",
       "      <th>53</th>\n",
       "      <td>0.1</td>\n",
       "      <td>[4, 4]</td>\n",
       "      <td>0.599</td>\n",
       "      <td>0.098</td>\n",
       "      <td>0.641</td>\n",
       "      <td>0.125</td>\n",
       "      <td>0.698</td>\n",
       "      <td>0.069</td>\n",
       "    </tr>\n",
       "    <tr>\n",
       "      <th>37</th>\n",
       "      <td>0.01</td>\n",
       "      <td>4</td>\n",
       "      <td>0.596</td>\n",
       "      <td>0.066</td>\n",
       "      <td>0.633</td>\n",
       "      <td>0.075</td>\n",
       "      <td>0.690</td>\n",
       "      <td>0.043</td>\n",
       "    </tr>\n",
       "    <tr>\n",
       "      <th>25</th>\n",
       "      <td>0.001</td>\n",
       "      <td>4</td>\n",
       "      <td>0.591</td>\n",
       "      <td>0.076</td>\n",
       "      <td>0.610</td>\n",
       "      <td>0.072</td>\n",
       "      <td>0.672</td>\n",
       "      <td>0.053</td>\n",
       "    </tr>\n",
       "  </tbody>\n",
       "</table>\n",
       "</div>"
      ],
      "text/plain": [
       "   param_alpha param_hidden_layer_sizes  mean_test_f1_macro  \\\n",
       "52         0.1                   [2, 2]               0.628   \n",
       "13         0.0                        4               0.615   \n",
       "53         0.1                   [4, 4]               0.599   \n",
       "37        0.01                        4               0.596   \n",
       "25       0.001                        4               0.591   \n",
       "\n",
       "    std_test_f1_macro  mean_test_precision_macro  std_test_precision_macro  \\\n",
       "52              0.110                      0.692                     0.134   \n",
       "13              0.083                      0.629                     0.077   \n",
       "53              0.098                      0.641                     0.125   \n",
       "37              0.066                      0.633                     0.075   \n",
       "25              0.076                      0.610                     0.072   \n",
       "\n",
       "    mean_test_accuracy  std_test_accuracy  \n",
       "52               0.732              0.067  \n",
       "13               0.691              0.055  \n",
       "53               0.698              0.069  \n",
       "37               0.690              0.043  \n",
       "25               0.672              0.053  "
      ]
     },
     "execution_count": 23,
     "metadata": {},
     "output_type": "execute_result"
    }
   ],
   "source": [
    "pd.DataFrame(model_10CV.cv_results_).loc[:,['param_alpha','param_hidden_layer_sizes',  'mean_test_f1_macro', \n",
    "                                            'std_test_f1_macro','mean_test_precision_macro', 'std_test_precision_macro',\n",
    "                                        'mean_test_accuracy','std_test_accuracy',]].sort_values(by='mean_test_f1_macro',\n",
    "                                                                                                ascending=False).head()"
   ]
  },
  {
   "cell_type": "code",
   "execution_count": 24,
   "metadata": {},
   "outputs": [
    {
     "data": {
      "text/plain": [
       "{'alpha': 0.1, 'hidden_layer_sizes': [2, 2]}"
      ]
     },
     "execution_count": 24,
     "metadata": {},
     "output_type": "execute_result"
    }
   ],
   "source": [
    "model_10CV.best_params_"
   ]
  },
  {
   "cell_type": "code",
   "execution_count": 25,
   "metadata": {},
   "outputs": [
    {
     "data": {
      "text/plain": [
       "0.6276606758915622"
      ]
     },
     "execution_count": 25,
     "metadata": {},
     "output_type": "execute_result"
    }
   ],
   "source": [
    "model_10CV.best_score_"
   ]
  },
  {
   "cell_type": "markdown",
   "metadata": {},
   "source": [
    "So,according to our experiments the best parameter configuration would be: \n",
    "* Architecture [2,2]\n",
    "* Alpha 0.1\n",
    "\n",
    "Lets calculate our cross-validation scores of the best model found trained (model_10CV.best_estimator_)."
   ]
  },
  {
   "cell_type": "code",
   "execution_count": 26,
   "metadata": {},
   "outputs": [
    {
     "data": {
      "text/html": [
       "<div>\n",
       "<style scoped>\n",
       "    .dataframe tbody tr th:only-of-type {\n",
       "        vertical-align: middle;\n",
       "    }\n",
       "\n",
       "    .dataframe tbody tr th {\n",
       "        vertical-align: top;\n",
       "    }\n",
       "\n",
       "    .dataframe thead th {\n",
       "        text-align: right;\n",
       "    }\n",
       "</style>\n",
       "<table border=\"1\" class=\"dataframe\">\n",
       "  <thead>\n",
       "    <tr style=\"text-align: right;\">\n",
       "      <th></th>\n",
       "      <th>F-score (cv)</th>\n",
       "      <th>Precision (cv)</th>\n",
       "      <th>Recall (cv)</th>\n",
       "      <th>Accuracy (cv)</th>\n",
       "    </tr>\n",
       "  </thead>\n",
       "  <tbody>\n",
       "    <tr>\n",
       "      <th>MLP[2,2]-alpha=0.1</th>\n",
       "      <td>0.615</td>\n",
       "      <td>0.709</td>\n",
       "      <td>0.612</td>\n",
       "      <td>0.724</td>\n",
       "    </tr>\n",
       "    <tr>\n",
       "      <th>MLP[2,2,2]</th>\n",
       "      <td>0.575</td>\n",
       "      <td>0.648</td>\n",
       "      <td>0.586</td>\n",
       "      <td>0.702</td>\n",
       "    </tr>\n",
       "    <tr>\n",
       "      <th>MLP[1]</th>\n",
       "      <td>0.56</td>\n",
       "      <td>0.655</td>\n",
       "      <td>0.57</td>\n",
       "      <td>0.683</td>\n",
       "    </tr>\n",
       "    <tr>\n",
       "      <th>Logistic Regression</th>\n",
       "      <td>0.554</td>\n",
       "      <td>0.686</td>\n",
       "      <td>0.568</td>\n",
       "      <td>0.698</td>\n",
       "    </tr>\n",
       "    <tr>\n",
       "      <th>MLP[2,2,2]-alpha=0.001</th>\n",
       "      <td>0.506</td>\n",
       "      <td>0.546</td>\n",
       "      <td>0.541</td>\n",
       "      <td>0.683</td>\n",
       "    </tr>\n",
       "  </tbody>\n",
       "</table>\n",
       "</div>"
      ],
      "text/plain": [
       "                       F-score (cv) Precision (cv) Recall (cv) Accuracy (cv)\n",
       "MLP[2,2]-alpha=0.1            0.615          0.709       0.612         0.724\n",
       "MLP[2,2,2]                    0.575          0.648       0.586         0.702\n",
       "MLP[1]                         0.56          0.655        0.57         0.683\n",
       "Logistic Regression           0.554          0.686       0.568         0.698\n",
       "MLP[2,2,2]-alpha=0.001        0.506          0.546       0.541         0.683"
      ]
     },
     "execution_count": 26,
     "metadata": {},
     "output_type": "execute_result"
    }
   ],
   "source": [
    "cross_val_results = pd.DataFrame(cross_validate(model_10CV.best_estimator_ , X_train, y_train, cv = 5, scoring = [ 'f1_macro', 'precision_macro', 'recall_macro', 'accuracy'] ))\n",
    "\n",
    "results_df.loc['MLP[2,2]-alpha=0.1',:] = cross_val_results[['test_f1_macro',\n",
    "       'test_precision_macro', 'test_recall_macro','test_accuracy']].mean().values\n",
    "\n",
    "results_df.sort_values(by='F-score (cv)', ascending=False)"
   ]
  },
  {
   "cell_type": "markdown",
   "metadata": {},
   "source": [
    "The best model according to our metrics is an MLP with two layers and a regularization of 0.1. "
   ]
  },
  {
   "cell_type": "markdown",
   "metadata": {},
   "source": [
    "Finally we obtain our test metrics, which tell us that our model is not generalizing a lot and as problems to predict the minoritary class. Perhaps this suggests that the admissions are done using other criteria not in our data."
   ]
  },
  {
   "cell_type": "code",
   "execution_count": 27,
   "metadata": {},
   "outputs": [
    {
     "data": {
      "text/html": [
       "<div>\n",
       "<style scoped>\n",
       "    .dataframe tbody tr th:only-of-type {\n",
       "        vertical-align: middle;\n",
       "    }\n",
       "\n",
       "    .dataframe tbody tr th {\n",
       "        vertical-align: top;\n",
       "    }\n",
       "\n",
       "    .dataframe thead th {\n",
       "        text-align: right;\n",
       "    }\n",
       "</style>\n",
       "<table border=\"1\" class=\"dataframe\">\n",
       "  <thead>\n",
       "    <tr style=\"text-align: right;\">\n",
       "      <th>predicted</th>\n",
       "      <th>0</th>\n",
       "      <th>1</th>\n",
       "    </tr>\n",
       "    <tr>\n",
       "      <th>target</th>\n",
       "      <th></th>\n",
       "      <th></th>\n",
       "    </tr>\n",
       "  </thead>\n",
       "  <tbody>\n",
       "    <tr>\n",
       "      <th>0</th>\n",
       "      <td>76</td>\n",
       "      <td>14</td>\n",
       "    </tr>\n",
       "    <tr>\n",
       "      <th>1</th>\n",
       "      <td>32</td>\n",
       "      <td>10</td>\n",
       "    </tr>\n",
       "  </tbody>\n",
       "</table>\n",
       "</div>"
      ],
      "text/plain": [
       "predicted   0   1\n",
       "target           \n",
       "0          76  14\n",
       "1          32  10"
      ]
     },
     "execution_count": 27,
     "metadata": {},
     "output_type": "execute_result"
    },
    {
     "name": "stdout",
     "output_type": "stream",
     "text": [
      "              precision    recall  f1-score   support\n",
      "\n",
      "           0       0.70      0.84      0.77        90\n",
      "           1       0.42      0.24      0.30        42\n",
      "\n",
      "    accuracy                           0.65       132\n",
      "   macro avg       0.56      0.54      0.54       132\n",
      "weighted avg       0.61      0.65      0.62       132\n",
      "\n"
     ]
    }
   ],
   "source": [
    "y_pred = model_10CV.predict(X_test)\n",
    "\n",
    "confusion(y_test,y_pred)\n",
    "\n",
    "print(classification_report(y_test, y_pred))"
   ]
  },
  {
   "cell_type": "markdown",
   "metadata": {},
   "source": [
    "## SECTION 2: Labeled Faces in the Wild\n",
    "\n",
    "Now we are going to try the same with a more complex dataset. \n",
    "\n",
    "This dataset contains images in black and white of public personalities. The task is to clasify the images with the proper name. \n",
    "\n",
    "Disclaimer: Even though this is an image dataset we will try it as a full numerical data. It is complex enough for showing MLP with real data and *someone* likes image data."
   ]
  },
  {
   "cell_type": "code",
   "execution_count": 28,
   "metadata": {},
   "outputs": [
    {
     "name": "stdout",
     "output_type": "stream",
     "text": [
      "Total dataset size:\n",
      "n_samples: 1288\n",
      "n_features: 1850\n",
      "n_classes: 7\n"
     ]
    }
   ],
   "source": [
    "lfw_people = fetch_lfw_people(min_faces_per_person=70, resize=0.4)\n",
    "n_samples, h, w = lfw_people.images.shape\n",
    "X = lfw_people.data\n",
    "n_features = X.shape[1]\n",
    "\n",
    "y = lfw_people.target\n",
    "target_names = lfw_people.target_names\n",
    "n_classes = target_names.shape[0]\n",
    "\n",
    "\n",
    "print(\"Total dataset size:\")\n",
    "print(\"n_samples: {}\".format(n_samples))\n",
    "print(\"n_features: {}\".format(n_features))\n",
    "print(\"n_classes: {}\".format(n_classes))"
   ]
  },
  {
   "cell_type": "markdown",
   "metadata": {},
   "source": [
    "### Resampling and metrics\n",
    "\n",
    "We will use the same resampling and pre-processing that on the previous example."
   ]
  },
  {
   "cell_type": "code",
   "execution_count": 29,
   "metadata": {},
   "outputs": [],
   "source": [
    "X_train, X_test, y_train, y_test = train_test_split(\n",
    "    X, y, test_size=0.25, random_state=42)\n",
    "\n",
    "X_train = StandardScaler().fit_transform(X_train)\n",
    "X_test = StandardScaler().fit_transform(X_test)"
   ]
  },
  {
   "cell_type": "markdown",
   "metadata": {},
   "source": [
    "We can see that this dataset is quite big and it has more features than samples. That might be a problem."
   ]
  },
  {
   "cell_type": "code",
   "execution_count": 30,
   "metadata": {
    "scrolled": true
   },
   "outputs": [
    {
     "data": {
      "text/plain": [
       "(966, 1850)"
      ]
     },
     "execution_count": 30,
     "metadata": {},
     "output_type": "execute_result"
    }
   ],
   "source": [
    "X_train.shape"
   ]
  },
  {
   "cell_type": "markdown",
   "metadata": {},
   "source": [
    "Also, we can see that this dataset is quite unbalanced. We could get almost a 40% of accuracy only with a constant model."
   ]
  },
  {
   "cell_type": "code",
   "execution_count": 31,
   "metadata": {},
   "outputs": [
    {
     "data": {
      "text/plain": [
       "<AxesSubplot:ylabel='count'>"
      ]
     },
     "execution_count": 31,
     "metadata": {},
     "output_type": "execute_result"
    },
    {
     "data": {
      "image/png": "[encoded data removed]",
      "text/plain": [
       "<Figure size 432x288 with 1 Axes>"
      ]
     },
     "metadata": {
      "needs_background": "light"
     },
     "output_type": "display_data"
    }
   ],
   "source": [
    "sn.countplot(y_train)"
   ]
  },
  {
   "cell_type": "code",
   "execution_count": 32,
   "metadata": {},
   "outputs": [
    {
     "data": {
      "text/plain": [
       "0.39751552795031053"
      ]
     },
     "execution_count": 32,
     "metadata": {},
     "output_type": "execute_result"
    }
   ],
   "source": [
    "(y_train==3).sum()/len(y_train)"
   ]
  },
  {
   "cell_type": "markdown",
   "metadata": {},
   "source": [
    "We will use the same metrics than on the previous section. \n",
    "Also, we will check how much *Time* is taking our models to train."
   ]
  },
  {
   "cell_type": "code",
   "execution_count": 33,
   "metadata": {},
   "outputs": [
    {
     "data": {
      "text/html": [
       "<div>\n",
       "<style scoped>\n",
       "    .dataframe tbody tr th:only-of-type {\n",
       "        vertical-align: middle;\n",
       "    }\n",
       "\n",
       "    .dataframe tbody tr th {\n",
       "        vertical-align: top;\n",
       "    }\n",
       "\n",
       "    .dataframe thead th {\n",
       "        text-align: right;\n",
       "    }\n",
       "</style>\n",
       "<table border=\"1\" class=\"dataframe\">\n",
       "  <thead>\n",
       "    <tr style=\"text-align: right;\">\n",
       "      <th></th>\n",
       "      <th>F-score (cv)</th>\n",
       "      <th>Precision (cv)</th>\n",
       "      <th>Recall (cv)</th>\n",
       "      <th>Accuracy</th>\n",
       "      <th>Time(s)</th>\n",
       "    </tr>\n",
       "  </thead>\n",
       "  <tbody>\n",
       "    <tr>\n",
       "      <th>KNN</th>\n",
       "      <td>NaN</td>\n",
       "      <td>NaN</td>\n",
       "      <td>NaN</td>\n",
       "      <td>NaN</td>\n",
       "      <td>NaN</td>\n",
       "    </tr>\n",
       "  </tbody>\n",
       "</table>\n",
       "</div>"
      ],
      "text/plain": [
       "    F-score (cv) Precision (cv) Recall (cv) Accuracy Time(s)\n",
       "KNN          NaN            NaN         NaN      NaN     NaN"
      ]
     },
     "execution_count": 33,
     "metadata": {},
     "output_type": "execute_result"
    }
   ],
   "source": [
    "metrics = ['F-score (cv)', 'Precision (cv)','Recall (cv)', 'Accuracy']\n",
    "\n",
    "results_df = pd.DataFrame(index=['KNN'],columns=metrics + ['Time(s)'])\n",
    "results_df"
   ]
  },
  {
   "cell_type": "markdown",
   "metadata": {},
   "source": [
    "### Baseline: KNN\n",
    "\n",
    "We will use knn as a baseline, because is a very fast model to train."
   ]
  },
  {
   "cell_type": "code",
   "execution_count": 34,
   "metadata": {},
   "outputs": [
    {
     "data": {
      "text/plain": [
       "KNeighborsClassifier()"
      ]
     },
     "execution_count": 34,
     "metadata": {},
     "output_type": "execute_result"
    },
    {
     "name": "stdout",
     "output_type": "stream",
     "text": [
      "0:00:00.002565\n"
     ]
    },
    {
     "data": {
      "text/html": [
       "<div>\n",
       "<style scoped>\n",
       "    .dataframe tbody tr th:only-of-type {\n",
       "        vertical-align: middle;\n",
       "    }\n",
       "\n",
       "    .dataframe tbody tr th {\n",
       "        vertical-align: top;\n",
       "    }\n",
       "\n",
       "    .dataframe thead th {\n",
       "        text-align: right;\n",
       "    }\n",
       "</style>\n",
       "<table border=\"1\" class=\"dataframe\">\n",
       "  <thead>\n",
       "    <tr style=\"text-align: right;\">\n",
       "      <th></th>\n",
       "      <th>F-score (cv)</th>\n",
       "      <th>Precision (cv)</th>\n",
       "      <th>Recall (cv)</th>\n",
       "      <th>Accuracy</th>\n",
       "      <th>Time(s)</th>\n",
       "    </tr>\n",
       "  </thead>\n",
       "  <tbody>\n",
       "    <tr>\n",
       "      <th>KNN</th>\n",
       "      <td>0.428</td>\n",
       "      <td>0.51</td>\n",
       "      <td>0.413</td>\n",
       "      <td>0.562</td>\n",
       "      <td>0.003</td>\n",
       "    </tr>\n",
       "  </tbody>\n",
       "</table>\n",
       "</div>"
      ],
      "text/plain": [
       "    F-score (cv) Precision (cv) Recall (cv) Accuracy Time(s)\n",
       "KNN        0.428           0.51       0.413    0.562   0.003"
      ]
     },
     "execution_count": 34,
     "metadata": {},
     "output_type": "execute_result"
    }
   ],
   "source": [
    "init_time = time()\n",
    "myknn = KNeighborsClassifier(n_neighbors=5)\n",
    "myknn.fit(X_train, y_train)\n",
    "\n",
    "training_time = time()-init_time\n",
    "print(timedelta(seconds=training_time))\n",
    "\n",
    "\n",
    "cross_val_results = pd.DataFrame(cross_validate(myknn , X_train, y_train, cv = 5, scoring = [ 'f1_macro', 'precision_macro', 'recall_macro', 'accuracy'] ))\n",
    "\n",
    "results_df.loc['KNN',metrics] = cross_val_results[['test_f1_macro',\n",
    "       'test_precision_macro', 'test_recall_macro','test_accuracy']].mean().values\n",
    "\n",
    "results_df.loc['KNN','Time(s)'] = training_time\n",
    "\n",
    "results_df"
   ]
  },
  {
   "cell_type": "markdown",
   "metadata": {},
   "source": [
    "We obtain quite bad results with this model. Lets see with the MLP. "
   ]
  },
  {
   "cell_type": "markdown",
   "metadata": {},
   "source": [
    "### MLP\n",
    "\n",
    "We are going to use an arbitrary hyperparameter configuration just to see how the model behaves. Is it slow? Is it good?"
   ]
  },
  {
   "cell_type": "code",
   "execution_count": 35,
   "metadata": {},
   "outputs": [
    {
     "data": {
      "text/plain": [
       "MLPClassifier(activation='logistic', alpha=0.01, hidden_layer_sizes=[5],\n",
       "              random_state=42, solver='lbfgs')"
      ]
     },
     "execution_count": 35,
     "metadata": {},
     "output_type": "execute_result"
    },
    {
     "name": "stdout",
     "output_type": "stream",
     "text": [
      "0:00:03.672235\n"
     ]
    },
    {
     "data": {
      "text/html": [
       "<div>\n",
       "<style scoped>\n",
       "    .dataframe tbody tr th:only-of-type {\n",
       "        vertical-align: middle;\n",
       "    }\n",
       "\n",
       "    .dataframe tbody tr th {\n",
       "        vertical-align: top;\n",
       "    }\n",
       "\n",
       "    .dataframe thead th {\n",
       "        text-align: right;\n",
       "    }\n",
       "</style>\n",
       "<table border=\"1\" class=\"dataframe\">\n",
       "  <thead>\n",
       "    <tr style=\"text-align: right;\">\n",
       "      <th></th>\n",
       "      <th>F-score (cv)</th>\n",
       "      <th>Precision (cv)</th>\n",
       "      <th>Recall (cv)</th>\n",
       "      <th>Accuracy</th>\n",
       "      <th>Time(s)</th>\n",
       "    </tr>\n",
       "  </thead>\n",
       "  <tbody>\n",
       "    <tr>\n",
       "      <th>MLP[5]-0.01</th>\n",
       "      <td>0.661</td>\n",
       "      <td>0.674</td>\n",
       "      <td>0.666</td>\n",
       "      <td>0.726</td>\n",
       "      <td>3.672</td>\n",
       "    </tr>\n",
       "    <tr>\n",
       "      <th>KNN</th>\n",
       "      <td>0.428</td>\n",
       "      <td>0.51</td>\n",
       "      <td>0.413</td>\n",
       "      <td>0.562</td>\n",
       "      <td>0.003</td>\n",
       "    </tr>\n",
       "  </tbody>\n",
       "</table>\n",
       "</div>"
      ],
      "text/plain": [
       "            F-score (cv) Precision (cv) Recall (cv) Accuracy Time(s)\n",
       "MLP[5]-0.01        0.661          0.674       0.666    0.726   3.672\n",
       "KNN                0.428           0.51       0.413    0.562   0.003"
      ]
     },
     "execution_count": 35,
     "metadata": {},
     "output_type": "execute_result"
    }
   ],
   "source": [
    "init_time = time()\n",
    "model_nnet = MLPClassifier(hidden_layer_sizes=[5],\n",
    "                           alpha=0.01,\n",
    "                           activation='logistic',\n",
    "                           max_iter=200,\n",
    "                           solver='lbfgs',random_state=42)\n",
    "model_nnet.fit(X_train,y_train);\n",
    "\n",
    "training_time = time()-init_time\n",
    "print(timedelta(seconds=training_time))\n",
    "\n",
    "cross_val_results = pd.DataFrame(cross_validate(model_nnet , X_train, y_train, cv = 5, \n",
    "                                                scoring = [ 'f1_macro', 'precision_macro', 'recall_macro', 'accuracy'] ))\n",
    "\n",
    "results_df.loc['MLP[5]-0.01',metrics] = cross_val_results[['test_f1_macro',\n",
    "       'test_precision_macro', 'test_recall_macro','test_accuracy']].mean().values\n",
    "\n",
    "results_df.loc['MLP[5]-0.01','Time(s)'] = training_time\n",
    "\n",
    "results_df.sort_values(by='F-score (cv)', ascending=False)"
   ]
  },
  {
   "cell_type": "markdown",
   "metadata": {},
   "source": [
    "It gives better results but it is several times slower than the knn. \n",
    "\n",
    "If we wanted to try different hyperparameters we would need a lot of time. "
   ]
  },
  {
   "cell_type": "markdown",
   "metadata": {},
   "source": [
    "### PCA"
   ]
  },
  {
   "cell_type": "markdown",
   "metadata": {},
   "source": [
    "Lets try another strategy instead. We can use PCA to reduce the dimensionality of the data. This way the training of the model would be faster, and might reduce the noise in the data.\n",
    "\n",
    "\n",
    "First lets see how many components do we need."
   ]
  },
  {
   "cell_type": "code",
   "execution_count": 36,
   "metadata": {
    "scrolled": true
   },
   "outputs": [
    {
     "data": {
      "text/plain": [
       "339"
      ]
     },
     "execution_count": 36,
     "metadata": {},
     "output_type": "execute_result"
    }
   ],
   "source": [
    "pca = PCA().fit(X_train)\n",
    "\n",
    "n_components =(pca.explained_variance_ratio_.cumsum() < 0.99).sum()\n",
    "n_components"
   ]
  },
  {
   "cell_type": "markdown",
   "metadata": {},
   "source": [
    "With just 339 of the variables, we could maintain 99 % of the variance of the data. Thas a huge reduction from the original 1850."
   ]
  },
  {
   "cell_type": "code",
   "execution_count": 37,
   "metadata": {},
   "outputs": [],
   "source": [
    "pca = PCA(n_components=n_components).fit(X_train)\n",
    "\n",
    "X_train_pca = pca.transform(X_train)\n",
    "X_test_pca = pca.transform(X_test)"
   ]
  },
  {
   "cell_type": "markdown",
   "metadata": {},
   "source": [
    "#### KNN\n",
    "Lets see how affects our smaller data to the knn results."
   ]
  },
  {
   "cell_type": "code",
   "execution_count": 38,
   "metadata": {},
   "outputs": [
    {
     "data": {
      "text/plain": [
       "KNeighborsClassifier()"
      ]
     },
     "execution_count": 38,
     "metadata": {},
     "output_type": "execute_result"
    },
    {
     "name": "stdout",
     "output_type": "stream",
     "text": [
      "0:00:00.002046\n"
     ]
    },
    {
     "data": {
      "text/html": [
       "<div>\n",
       "<style scoped>\n",
       "    .dataframe tbody tr th:only-of-type {\n",
       "        vertical-align: middle;\n",
       "    }\n",
       "\n",
       "    .dataframe tbody tr th {\n",
       "        vertical-align: top;\n",
       "    }\n",
       "\n",
       "    .dataframe thead th {\n",
       "        text-align: right;\n",
       "    }\n",
       "</style>\n",
       "<table border=\"1\" class=\"dataframe\">\n",
       "  <thead>\n",
       "    <tr style=\"text-align: right;\">\n",
       "      <th></th>\n",
       "      <th>F-score (cv)</th>\n",
       "      <th>Precision (cv)</th>\n",
       "      <th>Recall (cv)</th>\n",
       "      <th>Accuracy</th>\n",
       "      <th>Time(s)</th>\n",
       "    </tr>\n",
       "  </thead>\n",
       "  <tbody>\n",
       "    <tr>\n",
       "      <th>MLP[5]-0.01</th>\n",
       "      <td>0.661</td>\n",
       "      <td>0.674</td>\n",
       "      <td>0.666</td>\n",
       "      <td>0.726</td>\n",
       "      <td>3.672</td>\n",
       "    </tr>\n",
       "    <tr>\n",
       "      <th>KNN</th>\n",
       "      <td>0.428</td>\n",
       "      <td>0.51</td>\n",
       "      <td>0.413</td>\n",
       "      <td>0.562</td>\n",
       "      <td>0.003</td>\n",
       "    </tr>\n",
       "    <tr>\n",
       "      <th>KNN-PCA</th>\n",
       "      <td>0.425</td>\n",
       "      <td>0.507</td>\n",
       "      <td>0.41</td>\n",
       "      <td>0.56</td>\n",
       "      <td>0.002</td>\n",
       "    </tr>\n",
       "  </tbody>\n",
       "</table>\n",
       "</div>"
      ],
      "text/plain": [
       "            F-score (cv) Precision (cv) Recall (cv) Accuracy Time(s)\n",
       "MLP[5]-0.01        0.661          0.674       0.666    0.726   3.672\n",
       "KNN                0.428           0.51       0.413    0.562   0.003\n",
       "KNN-PCA            0.425          0.507        0.41     0.56   0.002"
      ]
     },
     "execution_count": 38,
     "metadata": {},
     "output_type": "execute_result"
    }
   ],
   "source": [
    "init_time = time()\n",
    "myknn = KNeighborsClassifier(n_neighbors=5)\n",
    "myknn.fit(X_train_pca, y_train)\n",
    "\n",
    "training_time = time()-init_time\n",
    "print(timedelta(seconds=training_time))\n",
    "\n",
    "cross_val_results = pd.DataFrame(cross_validate(myknn , X_train_pca, y_train, cv = 5, scoring = [ 'f1_macro', 'precision_macro', 'recall_macro', 'accuracy'] ))\n",
    "\n",
    "results_df.loc['KNN-PCA',metrics] = cross_val_results[['test_f1_macro',\n",
    "       'test_precision_macro', 'test_recall_macro','test_accuracy']].mean().values\n",
    "\n",
    "results_df.loc['KNN-PCA','Time(s)'] = training_time\n",
    "\n",
    "results_df.sort_values(by='F-score (cv)', ascending=False)"
   ]
  },
  {
   "cell_type": "markdown",
   "metadata": {},
   "source": [
    "We are obtaining the same results with a fraction of the time. This is a good sign."
   ]
  },
  {
   "cell_type": "markdown",
   "metadata": {},
   "source": [
    "#### MLP\n"
   ]
  },
  {
   "cell_type": "code",
   "execution_count": 39,
   "metadata": {},
   "outputs": [
    {
     "data": {
      "text/plain": [
       "MLPClassifier(activation='logistic', alpha=0.01, hidden_layer_sizes=[5],\n",
       "              random_state=42, solver='lbfgs')"
      ]
     },
     "execution_count": 39,
     "metadata": {},
     "output_type": "execute_result"
    },
    {
     "name": "stdout",
     "output_type": "stream",
     "text": [
      "0:00:00.670645\n"
     ]
    },
    {
     "data": {
      "text/html": [
       "<div>\n",
       "<style scoped>\n",
       "    .dataframe tbody tr th:only-of-type {\n",
       "        vertical-align: middle;\n",
       "    }\n",
       "\n",
       "    .dataframe tbody tr th {\n",
       "        vertical-align: top;\n",
       "    }\n",
       "\n",
       "    .dataframe thead th {\n",
       "        text-align: right;\n",
       "    }\n",
       "</style>\n",
       "<table border=\"1\" class=\"dataframe\">\n",
       "  <thead>\n",
       "    <tr style=\"text-align: right;\">\n",
       "      <th></th>\n",
       "      <th>F-score (cv)</th>\n",
       "      <th>Precision (cv)</th>\n",
       "      <th>Recall (cv)</th>\n",
       "      <th>Accuracy</th>\n",
       "      <th>Time(s)</th>\n",
       "    </tr>\n",
       "  </thead>\n",
       "  <tbody>\n",
       "    <tr>\n",
       "      <th>MLP[5]-0.01</th>\n",
       "      <td>0.661</td>\n",
       "      <td>0.674</td>\n",
       "      <td>0.666</td>\n",
       "      <td>0.726</td>\n",
       "      <td>3.672</td>\n",
       "    </tr>\n",
       "    <tr>\n",
       "      <th>MLP[5]-0.01-PCA</th>\n",
       "      <td>0.613</td>\n",
       "      <td>0.634</td>\n",
       "      <td>0.62</td>\n",
       "      <td>0.708</td>\n",
       "      <td>0.671</td>\n",
       "    </tr>\n",
       "    <tr>\n",
       "      <th>KNN</th>\n",
       "      <td>0.428</td>\n",
       "      <td>0.51</td>\n",
       "      <td>0.413</td>\n",
       "      <td>0.562</td>\n",
       "      <td>0.003</td>\n",
       "    </tr>\n",
       "    <tr>\n",
       "      <th>KNN-PCA</th>\n",
       "      <td>0.425</td>\n",
       "      <td>0.507</td>\n",
       "      <td>0.41</td>\n",
       "      <td>0.56</td>\n",
       "      <td>0.002</td>\n",
       "    </tr>\n",
       "  </tbody>\n",
       "</table>\n",
       "</div>"
      ],
      "text/plain": [
       "                F-score (cv) Precision (cv) Recall (cv) Accuracy Time(s)\n",
       "MLP[5]-0.01            0.661          0.674       0.666    0.726   3.672\n",
       "MLP[5]-0.01-PCA        0.613          0.634        0.62    0.708   0.671\n",
       "KNN                    0.428           0.51       0.413    0.562   0.003\n",
       "KNN-PCA                0.425          0.507        0.41     0.56   0.002"
      ]
     },
     "execution_count": 39,
     "metadata": {},
     "output_type": "execute_result"
    }
   ],
   "source": [
    "init_time = time()\n",
    "model_nnet = MLPClassifier(hidden_layer_sizes=[5],\n",
    "                           alpha=0.01,\n",
    "                           activation='logistic',\n",
    "                           max_iter=200,\n",
    "                           solver='lbfgs',random_state=42)\n",
    "model_nnet.fit(X_train_pca,y_train);\n",
    "\n",
    "training_time = time()-init_time\n",
    "print(timedelta(seconds=training_time))\n",
    "\n",
    "\n",
    "cross_val_results = pd.DataFrame(cross_validate(model_nnet , X_train_pca, y_train, cv = 5, \n",
    "                                                scoring = [ 'f1_macro', 'precision_macro', 'recall_macro', 'accuracy'] ))\n",
    "\n",
    "results_df.loc['MLP[5]-0.01-PCA',metrics] = cross_val_results[['test_f1_macro',\n",
    "       'test_precision_macro', 'test_recall_macro','test_accuracy']].mean().values\n",
    "\n",
    "results_df.loc['MLP[5]-0.01-PCA','Time(s)'] = training_time\n",
    "\n",
    "results_df.sort_values(by='F-score (cv)', ascending=False)"
   ]
  },
  {
   "cell_type": "markdown",
   "metadata": {},
   "source": [
    "The MLP has lost a bit on our metrics but is faster, now we can try to improve its results using cross-validation.\n",
    "\n",
    "We will use the firs technique that we comented before, as the model takes longer to train. "
   ]
  },
  {
   "cell_type": "code",
   "execution_count": 40,
   "metadata": {},
   "outputs": [
    {
     "data": {
      "text/plain": [
       "[2, 4, 6, [2, 2], [4, 4], [6, 6]]"
      ]
     },
     "execution_count": 40,
     "metadata": {},
     "output_type": "execute_result"
    }
   ],
   "source": [
    "sizes = [2*i for i in range(1,4)]\n",
    "sizes = sizes + [[2*i,2*i] for i in range(1,4)]\n",
    "sizes"
   ]
  },
  {
   "cell_type": "markdown",
   "metadata": {},
   "source": [
    "If we do 5-cv with 6 layer configuration and we spend 1.5 seconds with each training, we *should* spend approximately 45 seconds with the CV process. If all the architectures took the same time to train. \n",
    "\n",
    "If we had done it without the pca we would take more than two minutes. \n",
    "\n",
    "Note that these times where computed with my machine, it will probably change depending on your computer."
   ]
  },
  {
   "cell_type": "code",
   "execution_count": 41,
   "metadata": {},
   "outputs": [
    {
     "data": {
      "text/plain": [
       "0.6460494413637244"
      ]
     },
     "execution_count": 41,
     "metadata": {},
     "output_type": "execute_result"
    },
    {
     "data": {
      "text/plain": [
       "{'hidden_layer_sizes': 6}"
      ]
     },
     "execution_count": 41,
     "metadata": {},
     "output_type": "execute_result"
    },
    {
     "name": "stdout",
     "output_type": "stream",
     "text": [
      "0:00:42.434114\n"
     ]
    }
   ],
   "source": [
    "init_time = time()\n",
    "\n",
    "model_nnet = MLPClassifier(alpha=0,\n",
    "                           activation='logistic',\n",
    "                           hidden_layer_sizes=2,\n",
    "                           max_iter=500,\n",
    "                           solver='lbfgs',random_state=42)\n",
    "\n",
    "trc = GridSearchCV(estimator=model_nnet, \n",
    "                   param_grid ={'hidden_layer_sizes':sizes},\n",
    "                   scoring=['f1_macro',\n",
    "       'precision_macro', 'recall_macro','accuracy'],\n",
    "                   cv=5,\n",
    "                   return_train_score=True,\n",
    "                  refit='f1_macro')\n",
    "model_5CV = trc.fit(X_train_pca,y_train)\n",
    "model_5CV.best_score_\n",
    "model_5CV.best_params_\n",
    "print(timedelta(seconds=(time()-init_time)))"
   ]
  },
  {
   "cell_type": "markdown",
   "metadata": {},
   "source": [
    "It took almost 1:21 minutes. \n",
    "\n",
    "The best architecture found is [6]"
   ]
  },
  {
   "cell_type": "code",
   "execution_count": 42,
   "metadata": {},
   "outputs": [
    {
     "data": {
      "text/html": [
       "<div>\n",
       "<style scoped>\n",
       "    .dataframe tbody tr th:only-of-type {\n",
       "        vertical-align: middle;\n",
       "    }\n",
       "\n",
       "    .dataframe tbody tr th {\n",
       "        vertical-align: top;\n",
       "    }\n",
       "\n",
       "    .dataframe thead th {\n",
       "        text-align: right;\n",
       "    }\n",
       "</style>\n",
       "<table border=\"1\" class=\"dataframe\">\n",
       "  <thead>\n",
       "    <tr style=\"text-align: right;\">\n",
       "      <th></th>\n",
       "      <th>mean_fit_time</th>\n",
       "      <th>param_hidden_layer_sizes</th>\n",
       "      <th>mean_test_f1_macro</th>\n",
       "      <th>mean_test_precision_macro</th>\n",
       "      <th>mean_test_recall_macro</th>\n",
       "      <th>mean_test_accuracy</th>\n",
       "    </tr>\n",
       "  </thead>\n",
       "  <tbody>\n",
       "    <tr>\n",
       "      <th>2</th>\n",
       "      <td>1.513</td>\n",
       "      <td>6</td>\n",
       "      <td>0.646</td>\n",
       "      <td>0.652</td>\n",
       "      <td>0.656</td>\n",
       "      <td>0.721</td>\n",
       "    </tr>\n",
       "    <tr>\n",
       "      <th>1</th>\n",
       "      <td>1.211</td>\n",
       "      <td>4</td>\n",
       "      <td>0.606</td>\n",
       "      <td>0.620</td>\n",
       "      <td>0.622</td>\n",
       "      <td>0.693</td>\n",
       "    </tr>\n",
       "    <tr>\n",
       "      <th>5</th>\n",
       "      <td>1.595</td>\n",
       "      <td>[6, 6]</td>\n",
       "      <td>0.485</td>\n",
       "      <td>0.497</td>\n",
       "      <td>0.493</td>\n",
       "      <td>0.605</td>\n",
       "    </tr>\n",
       "    <tr>\n",
       "      <th>4</th>\n",
       "      <td>1.340</td>\n",
       "      <td>[4, 4]</td>\n",
       "      <td>0.460</td>\n",
       "      <td>0.464</td>\n",
       "      <td>0.482</td>\n",
       "      <td>0.620</td>\n",
       "    </tr>\n",
       "    <tr>\n",
       "      <th>3</th>\n",
       "      <td>1.336</td>\n",
       "      <td>[2, 2]</td>\n",
       "      <td>0.350</td>\n",
       "      <td>0.399</td>\n",
       "      <td>0.417</td>\n",
       "      <td>0.555</td>\n",
       "    </tr>\n",
       "    <tr>\n",
       "      <th>0</th>\n",
       "      <td>1.059</td>\n",
       "      <td>2</td>\n",
       "      <td>0.300</td>\n",
       "      <td>0.292</td>\n",
       "      <td>0.364</td>\n",
       "      <td>0.578</td>\n",
       "    </tr>\n",
       "  </tbody>\n",
       "</table>\n",
       "</div>"
      ],
      "text/plain": [
       "   mean_fit_time param_hidden_layer_sizes  mean_test_f1_macro  \\\n",
       "2          1.513                        6               0.646   \n",
       "1          1.211                        4               0.606   \n",
       "5          1.595                   [6, 6]               0.485   \n",
       "4          1.340                   [4, 4]               0.460   \n",
       "3          1.336                   [2, 2]               0.350   \n",
       "0          1.059                        2               0.300   \n",
       "\n",
       "   mean_test_precision_macro  mean_test_recall_macro  mean_test_accuracy  \n",
       "2                      0.652                   0.656               0.721  \n",
       "1                      0.620                   0.622               0.693  \n",
       "5                      0.497                   0.493               0.605  \n",
       "4                      0.464                   0.482               0.620  \n",
       "3                      0.399                   0.417               0.555  \n",
       "0                      0.292                   0.364               0.578  "
      ]
     },
     "execution_count": 42,
     "metadata": {},
     "output_type": "execute_result"
    }
   ],
   "source": [
    "pd.DataFrame(model_5CV.cv_results_).loc[:,['mean_fit_time','param_hidden_layer_sizes', 'mean_test_f1_macro',\n",
    "       'mean_test_precision_macro', 'mean_test_recall_macro','mean_test_accuracy']].sort_values(by='mean_test_f1_macro',ascending=False)"
   ]
  },
  {
   "cell_type": "markdown",
   "metadata": {},
   "source": [
    "We can see that each training took more time than the one we used to estimate. This might be because the number of neurons of the architectures. "
   ]
  },
  {
   "cell_type": "markdown",
   "metadata": {},
   "source": [
    "Now lets see the decays."
   ]
  },
  {
   "cell_type": "code",
   "execution_count": 43,
   "metadata": {
    "scrolled": true
   },
   "outputs": [
    {
     "data": {
      "text/plain": [
       "[0, 10, 1, 0.1, 0.01, 0.001]"
      ]
     },
     "execution_count": 43,
     "metadata": {},
     "output_type": "execute_result"
    }
   ],
   "source": [
    "decays = [0, 10, 1, 0.1, 0.01, 0.001]\n",
    "decays"
   ]
  },
  {
   "cell_type": "code",
   "execution_count": 44,
   "metadata": {},
   "outputs": [
    {
     "data": {
      "text/plain": [
       "0.770584943599036"
      ]
     },
     "execution_count": 44,
     "metadata": {},
     "output_type": "execute_result"
    },
    {
     "data": {
      "text/plain": [
       "{'alpha': 1}"
      ]
     },
     "execution_count": 44,
     "metadata": {},
     "output_type": "execute_result"
    },
    {
     "name": "stdout",
     "output_type": "stream",
     "text": [
      "0:00:45.653777\n"
     ]
    }
   ],
   "source": [
    "init_time = time()\n",
    "\n",
    "model_nnet = MLPClassifier(alpha=0,\n",
    "                           activation='logistic',\n",
    "                           hidden_layer_sizes=[6],\n",
    "                           max_iter=500,\n",
    "                           solver='lbfgs',random_state=42)\n",
    "\n",
    "trc = GridSearchCV(estimator=model_nnet, \n",
    "                   param_grid ={'alpha': decays},\n",
    "                   scoring=['f1_macro', 'precision_macro', 'recall_macro','accuracy'],\n",
    "                   cv=5,\n",
    "                   return_train_score=True,\n",
    "                  refit='f1_macro')\n",
    "model_5CV = trc.fit(X_train_pca,y_train)\n",
    "model_5CV.best_score_\n",
    "model_5CV.best_params_\n",
    "print(timedelta(seconds=(time()-init_time)))"
   ]
  },
  {
   "cell_type": "code",
   "execution_count": 45,
   "metadata": {},
   "outputs": [
    {
     "data": {
      "text/html": [
       "<div>\n",
       "<style scoped>\n",
       "    .dataframe tbody tr th:only-of-type {\n",
       "        vertical-align: middle;\n",
       "    }\n",
       "\n",
       "    .dataframe tbody tr th {\n",
       "        vertical-align: top;\n",
       "    }\n",
       "\n",
       "    .dataframe thead th {\n",
       "        text-align: right;\n",
       "    }\n",
       "</style>\n",
       "<table border=\"1\" class=\"dataframe\">\n",
       "  <thead>\n",
       "    <tr style=\"text-align: right;\">\n",
       "      <th></th>\n",
       "      <th>mean_fit_time</th>\n",
       "      <th>param_alpha</th>\n",
       "      <th>mean_test_f1_macro</th>\n",
       "      <th>mean_test_precision_macro</th>\n",
       "      <th>mean_test_recall_macro</th>\n",
       "      <th>mean_test_accuracy</th>\n",
       "    </tr>\n",
       "  </thead>\n",
       "  <tbody>\n",
       "    <tr>\n",
       "      <th>2</th>\n",
       "      <td>1.392</td>\n",
       "      <td>1</td>\n",
       "      <td>0.771</td>\n",
       "      <td>0.790</td>\n",
       "      <td>0.759</td>\n",
       "      <td>0.810</td>\n",
       "    </tr>\n",
       "    <tr>\n",
       "      <th>1</th>\n",
       "      <td>1.263</td>\n",
       "      <td>10</td>\n",
       "      <td>0.765</td>\n",
       "      <td>0.811</td>\n",
       "      <td>0.738</td>\n",
       "      <td>0.816</td>\n",
       "    </tr>\n",
       "    <tr>\n",
       "      <th>3</th>\n",
       "      <td>1.471</td>\n",
       "      <td>0.1</td>\n",
       "      <td>0.745</td>\n",
       "      <td>0.774</td>\n",
       "      <td>0.734</td>\n",
       "      <td>0.792</td>\n",
       "    </tr>\n",
       "    <tr>\n",
       "      <th>5</th>\n",
       "      <td>1.520</td>\n",
       "      <td>0.001</td>\n",
       "      <td>0.688</td>\n",
       "      <td>0.691</td>\n",
       "      <td>0.696</td>\n",
       "      <td>0.752</td>\n",
       "    </tr>\n",
       "    <tr>\n",
       "      <th>4</th>\n",
       "      <td>1.513</td>\n",
       "      <td>0.01</td>\n",
       "      <td>0.664</td>\n",
       "      <td>0.668</td>\n",
       "      <td>0.668</td>\n",
       "      <td>0.734</td>\n",
       "    </tr>\n",
       "    <tr>\n",
       "      <th>0</th>\n",
       "      <td>1.584</td>\n",
       "      <td>0</td>\n",
       "      <td>0.646</td>\n",
       "      <td>0.652</td>\n",
       "      <td>0.656</td>\n",
       "      <td>0.721</td>\n",
       "    </tr>\n",
       "  </tbody>\n",
       "</table>\n",
       "</div>"
      ],
      "text/plain": [
       "   mean_fit_time param_alpha  mean_test_f1_macro  mean_test_precision_macro  \\\n",
       "2          1.392           1               0.771                      0.790   \n",
       "1          1.263          10               0.765                      0.811   \n",
       "3          1.471         0.1               0.745                      0.774   \n",
       "5          1.520       0.001               0.688                      0.691   \n",
       "4          1.513        0.01               0.664                      0.668   \n",
       "0          1.584           0               0.646                      0.652   \n",
       "\n",
       "   mean_test_recall_macro  mean_test_accuracy  \n",
       "2                   0.759               0.810  \n",
       "1                   0.738               0.816  \n",
       "3                   0.734               0.792  \n",
       "5                   0.696               0.752  \n",
       "4                   0.668               0.734  \n",
       "0                   0.656               0.721  "
      ]
     },
     "execution_count": 45,
     "metadata": {},
     "output_type": "execute_result"
    }
   ],
   "source": [
    "pd.DataFrame(model_5CV.cv_results_).loc[:,['mean_fit_time','param_alpha', 'mean_test_f1_macro',\n",
    "       'mean_test_precision_macro', 'mean_test_recall_macro','mean_test_accuracy']].sort_values(by='mean_test_f1_macro',ascending=False)"
   ]
  },
  {
   "cell_type": "markdown",
   "metadata": {},
   "source": [
    "Now that we have found our best MLP (among these configurations). Lets check it."
   ]
  },
  {
   "cell_type": "code",
   "execution_count": 46,
   "metadata": {},
   "outputs": [
    {
     "data": {
      "text/plain": [
       "MLPClassifier(activation='logistic', alpha=1, hidden_layer_sizes=[6],\n",
       "              random_state=42, solver='lbfgs')"
      ]
     },
     "execution_count": 46,
     "metadata": {},
     "output_type": "execute_result"
    },
    {
     "name": "stdout",
     "output_type": "stream",
     "text": [
      "0:00:00.707763\n"
     ]
    },
    {
     "data": {
      "text/html": [
       "<div>\n",
       "<style scoped>\n",
       "    .dataframe tbody tr th:only-of-type {\n",
       "        vertical-align: middle;\n",
       "    }\n",
       "\n",
       "    .dataframe tbody tr th {\n",
       "        vertical-align: top;\n",
       "    }\n",
       "\n",
       "    .dataframe thead th {\n",
       "        text-align: right;\n",
       "    }\n",
       "</style>\n",
       "<table border=\"1\" class=\"dataframe\">\n",
       "  <thead>\n",
       "    <tr style=\"text-align: right;\">\n",
       "      <th></th>\n",
       "      <th>F-score (cv)</th>\n",
       "      <th>Precision (cv)</th>\n",
       "      <th>Recall (cv)</th>\n",
       "      <th>Accuracy</th>\n",
       "      <th>Time(s)</th>\n",
       "    </tr>\n",
       "  </thead>\n",
       "  <tbody>\n",
       "    <tr>\n",
       "      <th>MLP[6]-1-PCA</th>\n",
       "      <td>0.772</td>\n",
       "      <td>0.796</td>\n",
       "      <td>0.757</td>\n",
       "      <td>0.812</td>\n",
       "      <td>0.708</td>\n",
       "    </tr>\n",
       "    <tr>\n",
       "      <th>MLP[5]-0.01</th>\n",
       "      <td>0.661</td>\n",
       "      <td>0.674</td>\n",
       "      <td>0.666</td>\n",
       "      <td>0.726</td>\n",
       "      <td>3.672</td>\n",
       "    </tr>\n",
       "    <tr>\n",
       "      <th>MLP[5]-0.01-PCA</th>\n",
       "      <td>0.613</td>\n",
       "      <td>0.634</td>\n",
       "      <td>0.62</td>\n",
       "      <td>0.708</td>\n",
       "      <td>0.671</td>\n",
       "    </tr>\n",
       "    <tr>\n",
       "      <th>KNN</th>\n",
       "      <td>0.428</td>\n",
       "      <td>0.51</td>\n",
       "      <td>0.413</td>\n",
       "      <td>0.562</td>\n",
       "      <td>0.003</td>\n",
       "    </tr>\n",
       "    <tr>\n",
       "      <th>KNN-PCA</th>\n",
       "      <td>0.425</td>\n",
       "      <td>0.507</td>\n",
       "      <td>0.41</td>\n",
       "      <td>0.56</td>\n",
       "      <td>0.002</td>\n",
       "    </tr>\n",
       "  </tbody>\n",
       "</table>\n",
       "</div>"
      ],
      "text/plain": [
       "                F-score (cv) Precision (cv) Recall (cv) Accuracy Time(s)\n",
       "MLP[6]-1-PCA           0.772          0.796       0.757    0.812   0.708\n",
       "MLP[5]-0.01            0.661          0.674       0.666    0.726   3.672\n",
       "MLP[5]-0.01-PCA        0.613          0.634        0.62    0.708   0.671\n",
       "KNN                    0.428           0.51       0.413    0.562   0.003\n",
       "KNN-PCA                0.425          0.507        0.41     0.56   0.002"
      ]
     },
     "execution_count": 46,
     "metadata": {},
     "output_type": "execute_result"
    }
   ],
   "source": [
    "init_time = time()\n",
    "model_nnet = MLPClassifier(hidden_layer_sizes=[6],\n",
    "                           alpha=1,\n",
    "                           activation='logistic',\n",
    "                           max_iter=200,\n",
    "                           solver='lbfgs',random_state=42)\n",
    "model_nnet.fit(X_train_pca,y_train);\n",
    "\n",
    "training_time = time()-init_time\n",
    "print(timedelta(seconds=training_time))\n",
    "\n",
    "cross_val_results = pd.DataFrame(cross_validate(model_nnet , X_train_pca, y_train, cv = 5, scoring = [ 'f1_macro', 'precision_macro', 'recall_macro', 'accuracy'] ))\n",
    "\n",
    "results_df.loc['MLP[6]-1-PCA',metrics] = cross_val_results[['test_f1_macro',\n",
    "       'test_precision_macro', 'test_recall_macro','test_accuracy']].mean().values\n",
    "\n",
    "results_df.loc['MLP[6]-1-PCA','Time(s)'] = training_time\n",
    "\n",
    "results_df.sort_values(by='F-score (cv)', ascending=False)\n"
   ]
  },
  {
   "cell_type": "markdown",
   "metadata": {},
   "source": [
    "Now that we have choosen our best model. We can check if it generalizes using the test set."
   ]
  },
  {
   "cell_type": "code",
   "execution_count": 47,
   "metadata": {},
   "outputs": [
    {
     "data": {
      "text/html": [
       "<div>\n",
       "<style scoped>\n",
       "    .dataframe tbody tr th:only-of-type {\n",
       "        vertical-align: middle;\n",
       "    }\n",
       "\n",
       "    .dataframe tbody tr th {\n",
       "        vertical-align: top;\n",
       "    }\n",
       "\n",
       "    .dataframe thead th {\n",
       "        text-align: right;\n",
       "    }\n",
       "</style>\n",
       "<table border=\"1\" class=\"dataframe\">\n",
       "  <thead>\n",
       "    <tr style=\"text-align: right;\">\n",
       "      <th>predicted</th>\n",
       "      <th>Ariel Sharon</th>\n",
       "      <th>Colin Powell</th>\n",
       "      <th>Donald Rumsfeld</th>\n",
       "      <th>George W Bush</th>\n",
       "      <th>Gerhard Schroeder</th>\n",
       "      <th>Hugo Chavez</th>\n",
       "      <th>Tony Blair</th>\n",
       "    </tr>\n",
       "    <tr>\n",
       "      <th>target</th>\n",
       "      <th></th>\n",
       "      <th></th>\n",
       "      <th></th>\n",
       "      <th></th>\n",
       "      <th></th>\n",
       "      <th></th>\n",
       "      <th></th>\n",
       "    </tr>\n",
       "  </thead>\n",
       "  <tbody>\n",
       "    <tr>\n",
       "      <th>Ariel Sharon</th>\n",
       "      <td>9</td>\n",
       "      <td>1</td>\n",
       "      <td>3</td>\n",
       "      <td>0</td>\n",
       "      <td>0</td>\n",
       "      <td>0</td>\n",
       "      <td>0</td>\n",
       "    </tr>\n",
       "    <tr>\n",
       "      <th>Colin Powell</th>\n",
       "      <td>3</td>\n",
       "      <td>53</td>\n",
       "      <td>0</td>\n",
       "      <td>2</td>\n",
       "      <td>1</td>\n",
       "      <td>1</td>\n",
       "      <td>0</td>\n",
       "    </tr>\n",
       "    <tr>\n",
       "      <th>Donald Rumsfeld</th>\n",
       "      <td>1</td>\n",
       "      <td>2</td>\n",
       "      <td>20</td>\n",
       "      <td>3</td>\n",
       "      <td>1</td>\n",
       "      <td>0</td>\n",
       "      <td>0</td>\n",
       "    </tr>\n",
       "    <tr>\n",
       "      <th>George W Bush</th>\n",
       "      <td>2</td>\n",
       "      <td>7</td>\n",
       "      <td>4</td>\n",
       "      <td>127</td>\n",
       "      <td>2</td>\n",
       "      <td>0</td>\n",
       "      <td>4</td>\n",
       "    </tr>\n",
       "    <tr>\n",
       "      <th>Gerhard Schroeder</th>\n",
       "      <td>1</td>\n",
       "      <td>0</td>\n",
       "      <td>0</td>\n",
       "      <td>1</td>\n",
       "      <td>20</td>\n",
       "      <td>2</td>\n",
       "      <td>1</td>\n",
       "    </tr>\n",
       "    <tr>\n",
       "      <th>Hugo Chavez</th>\n",
       "      <td>0</td>\n",
       "      <td>2</td>\n",
       "      <td>0</td>\n",
       "      <td>1</td>\n",
       "      <td>3</td>\n",
       "      <td>8</td>\n",
       "      <td>1</td>\n",
       "    </tr>\n",
       "    <tr>\n",
       "      <th>Tony Blair</th>\n",
       "      <td>0</td>\n",
       "      <td>2</td>\n",
       "      <td>0</td>\n",
       "      <td>2</td>\n",
       "      <td>3</td>\n",
       "      <td>1</td>\n",
       "      <td>28</td>\n",
       "    </tr>\n",
       "  </tbody>\n",
       "</table>\n",
       "</div>"
      ],
      "text/plain": [
       "predicted          Ariel Sharon  Colin Powell  Donald Rumsfeld  George W Bush  \\\n",
       "target                                                                          \n",
       "Ariel Sharon                  9             1                3              0   \n",
       "Colin Powell                  3            53                0              2   \n",
       "Donald Rumsfeld               1             2               20              3   \n",
       "George W Bush                 2             7                4            127   \n",
       "Gerhard Schroeder             1             0                0              1   \n",
       "Hugo Chavez                   0             2                0              1   \n",
       "Tony Blair                    0             2                0              2   \n",
       "\n",
       "predicted          Gerhard Schroeder  Hugo Chavez  Tony Blair  \n",
       "target                                                         \n",
       "Ariel Sharon                       0            0           0  \n",
       "Colin Powell                       1            1           0  \n",
       "Donald Rumsfeld                    1            0           0  \n",
       "George W Bush                      2            0           4  \n",
       "Gerhard Schroeder                 20            2           1  \n",
       "Hugo Chavez                        3            8           1  \n",
       "Tony Blair                         3            1          28  "
      ]
     },
     "execution_count": 47,
     "metadata": {},
     "output_type": "execute_result"
    },
    {
     "name": "stdout",
     "output_type": "stream",
     "text": [
      "                   precision    recall  f1-score   support\n",
      "\n",
      "     Ariel Sharon       0.56      0.69      0.62        13\n",
      "     Colin Powell       0.79      0.88      0.83        60\n",
      "  Donald Rumsfeld       0.74      0.74      0.74        27\n",
      "    George W Bush       0.93      0.87      0.90       146\n",
      "Gerhard Schroeder       0.67      0.80      0.73        25\n",
      "      Hugo Chavez       0.67      0.53      0.59        15\n",
      "       Tony Blair       0.82      0.78      0.80        36\n",
      "\n",
      "         accuracy                           0.82       322\n",
      "        macro avg       0.74      0.76      0.75       322\n",
      "     weighted avg       0.83      0.82      0.82       322\n",
      "\n"
     ]
    }
   ],
   "source": [
    "\n",
    "y_pred = model_nnet.predict(X_test_pca)\n",
    "\n",
    "y_test = pd.Series(y_test).map({i:t for i,t in enumerate(target_names)})\n",
    "y_pred = pd.Series(y_pred).map({i:t for i,t in enumerate(target_names)})\n",
    "\n",
    "confusion(y_test,y_pred)\n",
    "\n",
    "print(classification_report(y_test,y_pred))"
   ]
  },
  {
   "cell_type": "markdown",
   "metadata": {},
   "source": [
    "We have obtained quite good results, and the model generalizes so it also predicts acurately on the test set."
   ]
  }
 ],
 "metadata": {
  "kernelspec": {
   "display_name": "Python 3",
   "language": "python",
   "name": "python3"
  },
  "language_info": {
   "codemirror_mode": {
    "name": "ipython",
    "version": 3
   },
   "file_extension": ".py",
   "mimetype": "text/x-python",
   "name": "python",
   "nbconvert_exporter": "python",
   "pygments_lexer": "ipython3",
   "version": "3.9.5"
  },
  "toc": {
   "base_numbering": 1,
   "nav_menu": {},
   "number_sections": true,
   "sideBar": true,
   "skip_h1_title": false,
   "title_cell": "Table of Contents",
   "title_sidebar": "Contents",
   "toc_cell": false,
   "toc_position": {
    "height": "calc(100% - 180px)",
    "left": "10px",
    "top": "150px",
    "width": "272px"
   },
   "toc_section_display": true,
   "toc_window_display": true
  }
 },
 "nbformat": 4,
 "nbformat_minor": 4
}
